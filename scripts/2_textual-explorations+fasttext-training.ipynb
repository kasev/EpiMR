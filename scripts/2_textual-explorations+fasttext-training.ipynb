{
 "cells": [
  {
   "cell_type": "code",
   "execution_count": 16,
   "metadata": {
    "collapsed": true,
    "pycharm": {
     "name": "#%%\n"
    }
   },
   "outputs": [],
   "source": [
    "import pandas as pd\n",
    "import geopandas as gpd\n",
    "import re\n",
    "import nltk\n",
    "from gensim.models.fasttext import FastText\n",
    "from gensim.models import Word2Vec\n",
    "import pickle"
   ]
  },
  {
   "cell_type": "code",
   "execution_count": 17,
   "outputs": [],
   "source": [
    "GIST = gpd.read_parquet(\"../data/large_files/GIST_geocontexts.parquet\")"
   ],
   "metadata": {
    "collapsed": false,
    "pycharm": {
     "name": "#%%\n"
    }
   }
  },
  {
   "cell_type": "code",
   "execution_count": 18,
   "outputs": [
    {
     "data": {
      "text/plain": "        PHI_ID                       clean_text_interpretive_word  \\\n74302   226583  τὸ προσκύνημα Ἀκολούθου Πετεήσιου καὶ τοῦ υἱοῦ...   \n172384  344825                                 ΗΝΔΙΟ εὐχὴν δακρ Υ   \n138015  303543                                 Ἡραμνέου Ἐπιφανίου   \n173575  346267  ἱερεὺς Μᾶρκος Αὐρήλιος Οὐαριανὸς Μειδιανὸς Περ...   \n70710   222760  Ἁθὺρ δʹ λόγος δραχμῶν Σφανέμων Σακαούειν αʹ πε...   \n57346   200295                                      ΜΙ ΠΑΣΧΟ ΤΙΑΣ   \n93989   248659                                                ονα   \n101199  255954  ἐπικληρῶσαι αὐτὸν καὶ εἰς φυλὴν καὶ εἰς χιλιασ...   \n126494  289701  καὶ τήνδ’ Ἀργείην Διὸς αἰγιόχοιο σύνευνον εἵσα...   \n134685  300039                                              MVI V   \n\n                                                  lemmata  \\\n74302   {'data': ['προσκύνημα', 'ἀκόλουθος', 'πετεήσιο...   \n172384           {'data': ['ηνδιο', 'εὐχή', 'δακρ', 'υ']}   \n138015                {'data': ['ἡραμνέου', 'ἐπιφανίου']}   \n173575  {'data': ['ἱερεύς', 'Μᾶρκος', 'οὐαριανὸς', 'με...   \n70710   {'data': ['ἁθὺρ', 'λόγος', 'δραχμή', 'σφανέμων...   \n57346                                 {'data': ['πασχο']}   \n93989                                   {'data': ['ονα']}   \n101199  {'data': ['ἐπικληρόω', 'φυλή', 'χιλιαστύν', 'λ...   \n126494  {'data': ['τήνδ', 'Ἀργεία', 'Ζεύς', 'αἰγίοχος'...   \n134685                             {'data': ['mvi', 'v']}   \n\n                           raw_date  not_before  not_after  \\\n74302              Latopolis (Isna)         NaN        NaN   \n172384                    2nd c. BC      -200.0     -101.0   \n138015          Hellenistic period       -330.0      -30.0   \n173575                  ca. 226 AD        221.0      231.0   \n70710                     2nd c. AD       101.0      200.0   \n57346                     1st c. BC      -100.0       -1.0   \n93989                  IEph 1519f.2         NaN        NaN   \n101199  JÖAI 59,1989,189/90, Nr. 22         NaN        NaN   \n126494    AM 29,1904,280 unten Nr.3         NaN        NaN   \n134685                2nd/3rd c. AD       101.0      300.0   \n\n                                             random_dates  \\\n74302                                                None   \n172384  [-151, -164, -149, -177, -156, -137, -134, -12...   \n138015  [-117, -237, -264, -277, -43, -119, -126, -161...   \n173575  [223, 228, 223, 228, 222, 226, 229, 227, 222, ...   \n70710   [113, 196, 195, 137, 125, 149, 116, 199, 157, ...   \n57346   [-31, -64, -74, -75, -18, -27, -96, -22, -53, ...   \n93989                                                None   \n101199                                               None   \n126494                                               None   \n134685  [143, 120, 110, 157, 225, 130, 222, 185, 290, ...   \n\n                         geometry  \n74302   POINT (32.54545 25.27350)  \n172384  POINT (26.94260 37.68994)  \n138015  POINT (33.73650 35.39943)  \n173575  POINT (30.46720 36.98300)  \n70710   POINT (26.41667 28.91667)  \n57346   POINT (25.73875 35.00953)  \n93989   POINT (27.34551 37.94218)  \n101199  POINT (27.34551 37.94218)  \n126494  POINT (27.91065 39.60672)  \n134685  POINT (25.60000 45.81667)  ",
      "text/html": "<div>\n<style scoped>\n    .dataframe tbody tr th:only-of-type {\n        vertical-align: middle;\n    }\n\n    .dataframe tbody tr th {\n        vertical-align: top;\n    }\n\n    .dataframe thead th {\n        text-align: right;\n    }\n</style>\n<table border=\"1\" class=\"dataframe\">\n  <thead>\n    <tr style=\"text-align: right;\">\n      <th></th>\n      <th>PHI_ID</th>\n      <th>clean_text_interpretive_word</th>\n      <th>lemmata</th>\n      <th>raw_date</th>\n      <th>not_before</th>\n      <th>not_after</th>\n      <th>random_dates</th>\n      <th>geometry</th>\n    </tr>\n  </thead>\n  <tbody>\n    <tr>\n      <th>74302</th>\n      <td>226583</td>\n      <td>τὸ προσκύνημα Ἀκολούθου Πετεήσιου καὶ τοῦ υἱοῦ...</td>\n      <td>{'data': ['προσκύνημα', 'ἀκόλουθος', 'πετεήσιο...</td>\n      <td>Latopolis (Isna)</td>\n      <td>NaN</td>\n      <td>NaN</td>\n      <td>None</td>\n      <td>POINT (32.54545 25.27350)</td>\n    </tr>\n    <tr>\n      <th>172384</th>\n      <td>344825</td>\n      <td>ΗΝΔΙΟ εὐχὴν δακρ Υ</td>\n      <td>{'data': ['ηνδιο', 'εὐχή', 'δακρ', 'υ']}</td>\n      <td>2nd c. BC</td>\n      <td>-200.0</td>\n      <td>-101.0</td>\n      <td>[-151, -164, -149, -177, -156, -137, -134, -12...</td>\n      <td>POINT (26.94260 37.68994)</td>\n    </tr>\n    <tr>\n      <th>138015</th>\n      <td>303543</td>\n      <td>Ἡραμνέου Ἐπιφανίου</td>\n      <td>{'data': ['ἡραμνέου', 'ἐπιφανίου']}</td>\n      <td>Hellenistic period</td>\n      <td>-330.0</td>\n      <td>-30.0</td>\n      <td>[-117, -237, -264, -277, -43, -119, -126, -161...</td>\n      <td>POINT (33.73650 35.39943)</td>\n    </tr>\n    <tr>\n      <th>173575</th>\n      <td>346267</td>\n      <td>ἱερεὺς Μᾶρκος Αὐρήλιος Οὐαριανὸς Μειδιανὸς Περ...</td>\n      <td>{'data': ['ἱερεύς', 'Μᾶρκος', 'οὐαριανὸς', 'με...</td>\n      <td>ca. 226 AD</td>\n      <td>221.0</td>\n      <td>231.0</td>\n      <td>[223, 228, 223, 228, 222, 226, 229, 227, 222, ...</td>\n      <td>POINT (30.46720 36.98300)</td>\n    </tr>\n    <tr>\n      <th>70710</th>\n      <td>222760</td>\n      <td>Ἁθὺρ δʹ λόγος δραχμῶν Σφανέμων Σακαούειν αʹ πε...</td>\n      <td>{'data': ['ἁθὺρ', 'λόγος', 'δραχμή', 'σφανέμων...</td>\n      <td>2nd c. AD</td>\n      <td>101.0</td>\n      <td>200.0</td>\n      <td>[113, 196, 195, 137, 125, 149, 116, 199, 157, ...</td>\n      <td>POINT (26.41667 28.91667)</td>\n    </tr>\n    <tr>\n      <th>57346</th>\n      <td>200295</td>\n      <td>ΜΙ ΠΑΣΧΟ ΤΙΑΣ</td>\n      <td>{'data': ['πασχο']}</td>\n      <td>1st c. BC</td>\n      <td>-100.0</td>\n      <td>-1.0</td>\n      <td>[-31, -64, -74, -75, -18, -27, -96, -22, -53, ...</td>\n      <td>POINT (25.73875 35.00953)</td>\n    </tr>\n    <tr>\n      <th>93989</th>\n      <td>248659</td>\n      <td>ονα</td>\n      <td>{'data': ['ονα']}</td>\n      <td>IEph 1519f.2</td>\n      <td>NaN</td>\n      <td>NaN</td>\n      <td>None</td>\n      <td>POINT (27.34551 37.94218)</td>\n    </tr>\n    <tr>\n      <th>101199</th>\n      <td>255954</td>\n      <td>ἐπικληρῶσαι αὐτὸν καὶ εἰς φυλὴν καὶ εἰς χιλιασ...</td>\n      <td>{'data': ['ἐπικληρόω', 'φυλή', 'χιλιαστύν', 'λ...</td>\n      <td>JÖAI 59,1989,189/90, Nr. 22</td>\n      <td>NaN</td>\n      <td>NaN</td>\n      <td>None</td>\n      <td>POINT (27.34551 37.94218)</td>\n    </tr>\n    <tr>\n      <th>126494</th>\n      <td>289701</td>\n      <td>καὶ τήνδ’ Ἀργείην Διὸς αἰγιόχοιο σύνευνον εἵσα...</td>\n      <td>{'data': ['τήνδ', 'Ἀργεία', 'Ζεύς', 'αἰγίοχος'...</td>\n      <td>AM 29,1904,280 unten Nr.3</td>\n      <td>NaN</td>\n      <td>NaN</td>\n      <td>None</td>\n      <td>POINT (27.91065 39.60672)</td>\n    </tr>\n    <tr>\n      <th>134685</th>\n      <td>300039</td>\n      <td>MVI V</td>\n      <td>{'data': ['mvi', 'v']}</td>\n      <td>2nd/3rd c. AD</td>\n      <td>101.0</td>\n      <td>300.0</td>\n      <td>[143, 120, 110, 157, 225, 130, 222, 185, 290, ...</td>\n      <td>POINT (25.60000 45.81667)</td>\n    </tr>\n  </tbody>\n</table>\n</div>"
     },
     "execution_count": 18,
     "metadata": {},
     "output_type": "execute_result"
    }
   ],
   "source": [
    "GIST.sample(10)[[\"PHI_ID\", \"clean_text_interpretive_word\", \"lemmata\", \"raw_date\", \"not_before\", \"not_after\", \"random_dates\",\"geometry\"]]"
   ],
   "metadata": {
    "collapsed": false,
    "pycharm": {
     "name": "#%%\n"
    }
   }
  },
  {
   "cell_type": "code",
   "execution_count": 19,
   "outputs": [
    {
     "data": {
      "text/plain": "        PHI_ID                           reference  \\\n0            1                            IG I³\\n1   \n1            4                            IG I³\\n4   \n2            5                            IG I³\\n5   \n3            6                            IG I³\\n6   \n4           11                           IG I³\\n11   \n...        ...                                 ...   \n180056  353786    IK Strat. III\\nAdd. et Corr. 645   \n180057  353787    IK Strat. III\\nAdd. et Corr. 712   \n180058  353788    IK Strat. III\\nAdd. et Corr. 809   \n180059  353789   IK Strat. III\\nAdd. et Corr. 1002   \n180060  353790  IK Strat. III\\nAdd. et Corr. 1224a   \n\n                                                 metadata  lines  \\\n0       Att. — Ath.: Akr. — stoich. 35 — c. 510-500 a....   12.0   \n1                            Att. — stoich. 38 — 485/4 a.   56.0   \n2                                        Att. — c. 500 a.    6.0   \n3                      Att. — stoich. 23/11 — ante 460 a.  160.0   \n4                   Att. — stoich. 48 — ante med. s. V a.   22.0   \n...                                                   ...    ...   \n180056  Caria — Lagina — Rom. Imp. period? — IK Strato...    2.0   \n180057  Caria — Lagina — Rom. Imp. period? — IK Strato...    3.0   \n180058  Caria — Stratonikeia — Yeşilbağcılar — Helleni...    2.0   \n180059  Caria — Stratonikeia — 276 BC — IK Stratonikei...    6.0   \n180060  Caria — Stratonikeia — Roman period — IK Strat...    2.0   \n\n                                                 text_raw  \\\n0       ἔδοχσεν το͂ι δέμοι· τ̣[ὸς ἐ Σ]αλαμ̣[ῖνι κλερόχ...   \n1       [․․․․․․․․․․․․․․․․․․38․․․․․․․․․․․․․․․․․․]\\n[․․․...   \n2       [ἔδοχσε]ν [⋮ τε͂ι βολε͂ι] ⋮ καὶ [τ]ο͂ι δέμοι ⋮...   \n3       — — — — — — — — — — — — —\\n[․․․․․․15․․․․․․․] δ...   \n4       [χσυμμαχία καὶ ℎόρ]κ̣ο̣[ς] Ἀ̣[θ]ε̣ν̣α̣[ίον κα]...   \n...                                                   ...   \n180056       [Ἀρισ]τείδης Ἱεροκλέους τοῦ Θευδώρου [— —]\\n   \n180057                    [Ἄπφιον] Ἀρτεμιδώ-\\n[ρου] ...\\n   \n180058                                  καὶ κριὸν [— —]\\n   \n180059  ․ος Μ[αν]εω, [Πιγ?]ραμος Υσσω-\\nλο[υ] ...\\n......   \n180060  Aẹḷ(ium?) Florentinum, opt(ionem)\\nvexillati...   \n\n                                                text_iphi  \\\n0       εδοχσεν τοι δεμοι τ[ος ε σ]αλαμ[ινι κλεροχ]ος ...   \n1       [--------------------------------------] [----...   \n2       [εδοχσε]ν [ τει βολει] και [τ]οι δεμοι οτε παρ...   \n3       ------------- [---------------] δραχμεισ[ι ---...   \n4       [χσυμμαχια και ορ]κο[ς] α[θ]ενα[ιον κα]ι εγεστ...   \n...                                                   ...   \n180056         [αρισ]τειδης ιεροκλεους του θευδωρου [--].   \n180057                            [απφιον] αρτεμιδω[ρου].   \n180058                                    και κριον [--].   \n180059  -ος 0[αν]εω [πιγ]ραμος υσσωλο[υ]. χος δερσω[--...   \n180060                                               None   \n\n                                  clean_text_conservative  \\\n0       ἔδοχσεν το͂ι δέμοι ταλαμος οἰκε͂ν ἐᾶ Σαλαμῖνι ...   \n1       δέ τις αν ἒ φρορὰν μ ντέκοντα δχμὰς τ ας ℎες π...   \n2       ν καὶ ο͂ι δέμοι ℎότε Παραιβάτες λεια θν τὸς ℎι...   \n3       δραχμε͂ιστες τὸς ιο μενος δεμο το͂ν πόλεο οκε͂...   \n4       κο Ἀεναὶ Ἐγεσταί ο͂ι ἐπρυτάνευε οΙ ον ἐ͂ρχε Ἀ...   \n...                                                   ...   \n180056                     τείδης Ἱεροκλέους τοῦ Θευδώρου   \n180057                                           Ἀρτεμιδώ   \n180058                                          καὶ κριὸν   \n180059           ος Μεω ραμος Υσσωλο χος Δερσωτις Νωτραος   \n180060             Ael Florentinum opt vexillationi P Inf   \n\n                             clean_text_interpretive_word  \\\n0       ἔδοχσεν το͂ι δέμοι τὸς ἐ Σαλαμῖνι κλερόχος οἰκ...   \n1       ἐὰν δέ τις αν ἒ φρορὰν μὲ πεντέκοντα δραχμὰς τ...   \n2       ἔδοχσεν τε͂ι βολε͂ι καὶ το͂ι δέμοι ℎότε Παραιβ...   \n3       δραχμε͂ισι τες τὸς ιο μενος δεμο το͂ν πόλεον δ...   \n4       χσυμμαχία καὶ ℎόρκος Ἀθεναίον καὶ Ἐγεσταίον ἔδ...   \n...                                                   ...   \n180056                 Ἀριστείδης Ἱεροκλέους τοῦ Θευδώρου   \n180057                                 Ἄπφιον Ἀρτεμιδώρου   \n180058                                          καὶ κριὸν   \n180059  ος Μανεω Πιγραμος Υσσωλου χος Δερσωτις Νωτρασσιος   \n180060  Aelium Florentinum optionem vexillationis Pann...   \n\n                                                  lemmata  \\\n0       {'data': ['ἔδοχσεν', 'δέμοι', 'Σαλαμίς', 'κλερ...   \n1       {'data': ['τὶς', 'φρορὰν', 'πεντέκοντα', 'δραχ...   \n2       {'data': ['ἔδοχσεν', 'τει', 'βολει', 'δέμοι', ...   \n3       {'data': ['δραχμεισι', 'τες', 'μένος', 'δεμο',...   \n4       {'data': ['χσυμμαχία', 'ὅρκος', 'ἀθεναίον', 'ἐ...   \n...                                                   ...   \n180056  {'data': ['ἀριστείδης', 'ἱεροκλέους', 'θευδώρο...   \n180057                {'data': ['ἄπφιον', 'ἀρτεμιδώρου']}   \n180058                                {'data': ['κριός']}   \n180059  {'data': ['μανεω', 'πιγραμος', 'υσσωλου', 'χος...   \n180060  {'data': ['aelium', 'florentinum', 'optionem',...   \n\n                   raw_date  ...      y_lat    TMgeo_name  \\\n0            c. 510-500 a.   ...  37.972747       Athenai   \n1                  485/4 a.  ...  37.972747       Athenai   \n2                 c. 500 a.  ...  38.044135       Eleusis   \n3               ante 460 a.  ...  38.044135       Eleusis   \n4         ante med. s. V a.  ...  37.972747       Athenai   \n...                     ...  ...        ...           ...   \n180056   Rom. Imp. period?   ...  37.377952        Lagina   \n180057   Rom. Imp. period?   ...  37.377952        Lagina   \n180058  Hellenistic period   ...  37.313590  Stratonikeia   \n180059              276 BC   ...  37.313590  Stratonikeia   \n180060        Roman period   ...  37.313590  Stratonikeia   \n\n                         geometry         name             polis_geo  \\\n0       POINT (23.72399 37.97275)  361-Athenai    [23.7278, 37.9778]   \n1       POINT (23.72399 37.97275)  361-Athenai    [23.7278, 37.9778]   \n2       POINT (23.54150 38.04414)  362-Eleusis    [23.5423, 38.0394]   \n3       POINT (23.54150 38.04414)  362-Eleusis    [23.5423, 38.0394]   \n4       POINT (23.72399 37.97275)  361-Athenai    [23.7278, 37.9778]   \n...                           ...          ...                   ...   \n180056  POINT (28.03856 37.37795)   892-Idrias  [28.16666667, 37.25]   \n180057  POINT (28.03856 37.37795)   892-Idrias  [28.16666667, 37.25]   \n180058  POINT (28.06450 37.31359)   892-Idrias  [28.16666667, 37.25]   \n180059  POINT (28.06450 37.31359)   892-Idrias  [28.16666667, 37.25]   \n180060  POINT (28.06450 37.31359)   892-Idrias  [28.16666667, 37.25]   \n\n       polis_dist polis? duration  \\\n0          653.43   True     13.0   \n1          653.43   True      2.0   \n2          530.31   True     11.0   \n3          530.31   True      NaN   \n4          653.43   True      NaN   \n...           ...    ...      ...   \n180056   18182.66  False    441.0   \n180057   18182.66  False    441.0   \n180058   11484.64  False    301.0   \n180059   11484.64  False      1.0   \n180060   11484.64  False    470.0   \n\n                                             random_dates greece?  \n0       [-510, -504, -510, -507, -506, -500, -508, -50...    True  \n1       [-485, -485, -485, -484, -485, -484, -485, -48...    True  \n2       [-498, -502, -504, -503, -496, -504, -496, -49...    True  \n3       [-461, -461, -461, -461, -461, -461, -461, -46...    True  \n4       [-456, -456, -456, -456, -456, -456, -456, -45...    True  \n...                                                   ...     ...  \n180056  [335, 308, 402, 205, 178, 158, 26, 387, 390, 3...   False  \n180057  [136, -10, 218, 378, 193, 60, 50, 320, 235, 15...   False  \n180058  [-117, -48, -51, -120, -232, -42, -230, -222, ...   False  \n180059  [-276, -276, -276, -276, -276, -276, -276, -27...   False  \n180060  [216, 238, -141, -79, 116, 94, 136, -84, 317, ...   False  \n\n[180061 rows x 36 columns]",
      "text/html": "<div>\n<style scoped>\n    .dataframe tbody tr th:only-of-type {\n        vertical-align: middle;\n    }\n\n    .dataframe tbody tr th {\n        vertical-align: top;\n    }\n\n    .dataframe thead th {\n        text-align: right;\n    }\n</style>\n<table border=\"1\" class=\"dataframe\">\n  <thead>\n    <tr style=\"text-align: right;\">\n      <th></th>\n      <th>PHI_ID</th>\n      <th>reference</th>\n      <th>metadata</th>\n      <th>lines</th>\n      <th>text_raw</th>\n      <th>text_iphi</th>\n      <th>clean_text_conservative</th>\n      <th>clean_text_interpretive_word</th>\n      <th>lemmata</th>\n      <th>raw_date</th>\n      <th>...</th>\n      <th>y_lat</th>\n      <th>TMgeo_name</th>\n      <th>geometry</th>\n      <th>name</th>\n      <th>polis_geo</th>\n      <th>polis_dist</th>\n      <th>polis?</th>\n      <th>duration</th>\n      <th>random_dates</th>\n      <th>greece?</th>\n    </tr>\n  </thead>\n  <tbody>\n    <tr>\n      <th>0</th>\n      <td>1</td>\n      <td>IG I³\\n1</td>\n      <td>Att. — Ath.: Akr. — stoich. 35 — c. 510-500 a....</td>\n      <td>12.0</td>\n      <td>ἔδοχσεν το͂ι δέμοι· τ̣[ὸς ἐ Σ]αλαμ̣[ῖνι κλερόχ...</td>\n      <td>εδοχσεν τοι δεμοι τ[ος ε σ]αλαμ[ινι κλεροχ]ος ...</td>\n      <td>ἔδοχσεν το͂ι δέμοι ταλαμος οἰκε͂ν ἐᾶ Σαλαμῖνι ...</td>\n      <td>ἔδοχσεν το͂ι δέμοι τὸς ἐ Σαλαμῖνι κλερόχος οἰκ...</td>\n      <td>{'data': ['ἔδοχσεν', 'δέμοι', 'Σαλαμίς', 'κλερ...</td>\n      <td>c. 510-500 a.</td>\n      <td>...</td>\n      <td>37.972747</td>\n      <td>Athenai</td>\n      <td>POINT (23.72399 37.97275)</td>\n      <td>361-Athenai</td>\n      <td>[23.7278, 37.9778]</td>\n      <td>653.43</td>\n      <td>True</td>\n      <td>13.0</td>\n      <td>[-510, -504, -510, -507, -506, -500, -508, -50...</td>\n      <td>True</td>\n    </tr>\n    <tr>\n      <th>1</th>\n      <td>4</td>\n      <td>IG I³\\n4</td>\n      <td>Att. — stoich. 38 — 485/4 a.</td>\n      <td>56.0</td>\n      <td>[․․․․․․․․․․․․․․․․․․38․․․․․․․․․․․․․․․․․․]\\n[․․․...</td>\n      <td>[--------------------------------------] [----...</td>\n      <td>δέ τις αν ἒ φρορὰν μ ντέκοντα δχμὰς τ ας ℎες π...</td>\n      <td>ἐὰν δέ τις αν ἒ φρορὰν μὲ πεντέκοντα δραχμὰς τ...</td>\n      <td>{'data': ['τὶς', 'φρορὰν', 'πεντέκοντα', 'δραχ...</td>\n      <td>485/4 a.</td>\n      <td>...</td>\n      <td>37.972747</td>\n      <td>Athenai</td>\n      <td>POINT (23.72399 37.97275)</td>\n      <td>361-Athenai</td>\n      <td>[23.7278, 37.9778]</td>\n      <td>653.43</td>\n      <td>True</td>\n      <td>2.0</td>\n      <td>[-485, -485, -485, -484, -485, -484, -485, -48...</td>\n      <td>True</td>\n    </tr>\n    <tr>\n      <th>2</th>\n      <td>5</td>\n      <td>IG I³\\n5</td>\n      <td>Att. — c. 500 a.</td>\n      <td>6.0</td>\n      <td>[ἔδοχσε]ν [⋮ τε͂ι βολε͂ι] ⋮ καὶ [τ]ο͂ι δέμοι ⋮...</td>\n      <td>[εδοχσε]ν [ τει βολει] και [τ]οι δεμοι οτε παρ...</td>\n      <td>ν καὶ ο͂ι δέμοι ℎότε Παραιβάτες λεια θν τὸς ℎι...</td>\n      <td>ἔδοχσεν τε͂ι βολε͂ι καὶ το͂ι δέμοι ℎότε Παραιβ...</td>\n      <td>{'data': ['ἔδοχσεν', 'τει', 'βολει', 'δέμοι', ...</td>\n      <td>c. 500 a.</td>\n      <td>...</td>\n      <td>38.044135</td>\n      <td>Eleusis</td>\n      <td>POINT (23.54150 38.04414)</td>\n      <td>362-Eleusis</td>\n      <td>[23.5423, 38.0394]</td>\n      <td>530.31</td>\n      <td>True</td>\n      <td>11.0</td>\n      <td>[-498, -502, -504, -503, -496, -504, -496, -49...</td>\n      <td>True</td>\n    </tr>\n    <tr>\n      <th>3</th>\n      <td>6</td>\n      <td>IG I³\\n6</td>\n      <td>Att. — stoich. 23/11 — ante 460 a.</td>\n      <td>160.0</td>\n      <td>— — — — — — — — — — — — —\\n[․․․․․․15․․․․․․․] δ...</td>\n      <td>------------- [---------------] δραχμεισ[ι ---...</td>\n      <td>δραχμε͂ιστες τὸς ιο μενος δεμο το͂ν πόλεο οκε͂...</td>\n      <td>δραχμε͂ισι τες τὸς ιο μενος δεμο το͂ν πόλεον δ...</td>\n      <td>{'data': ['δραχμεισι', 'τες', 'μένος', 'δεμο',...</td>\n      <td>ante 460 a.</td>\n      <td>...</td>\n      <td>38.044135</td>\n      <td>Eleusis</td>\n      <td>POINT (23.54150 38.04414)</td>\n      <td>362-Eleusis</td>\n      <td>[23.5423, 38.0394]</td>\n      <td>530.31</td>\n      <td>True</td>\n      <td>NaN</td>\n      <td>[-461, -461, -461, -461, -461, -461, -461, -46...</td>\n      <td>True</td>\n    </tr>\n    <tr>\n      <th>4</th>\n      <td>11</td>\n      <td>IG I³\\n11</td>\n      <td>Att. — stoich. 48 — ante med. s. V a.</td>\n      <td>22.0</td>\n      <td>[χσυμμαχία καὶ ℎόρ]κ̣ο̣[ς] Ἀ̣[θ]ε̣ν̣α̣[ίον κα]...</td>\n      <td>[χσυμμαχια και ορ]κο[ς] α[θ]ενα[ιον κα]ι εγεστ...</td>\n      <td>κο Ἀεναὶ Ἐγεσταί ο͂ι ἐπρυτάνευε οΙ ον ἐ͂ρχε Ἀ...</td>\n      <td>χσυμμαχία καὶ ℎόρκος Ἀθεναίον καὶ Ἐγεσταίον ἔδ...</td>\n      <td>{'data': ['χσυμμαχία', 'ὅρκος', 'ἀθεναίον', 'ἐ...</td>\n      <td>ante med. s. V a.</td>\n      <td>...</td>\n      <td>37.972747</td>\n      <td>Athenai</td>\n      <td>POINT (23.72399 37.97275)</td>\n      <td>361-Athenai</td>\n      <td>[23.7278, 37.9778]</td>\n      <td>653.43</td>\n      <td>True</td>\n      <td>NaN</td>\n      <td>[-456, -456, -456, -456, -456, -456, -456, -45...</td>\n      <td>True</td>\n    </tr>\n    <tr>\n      <th>...</th>\n      <td>...</td>\n      <td>...</td>\n      <td>...</td>\n      <td>...</td>\n      <td>...</td>\n      <td>...</td>\n      <td>...</td>\n      <td>...</td>\n      <td>...</td>\n      <td>...</td>\n      <td>...</td>\n      <td>...</td>\n      <td>...</td>\n      <td>...</td>\n      <td>...</td>\n      <td>...</td>\n      <td>...</td>\n      <td>...</td>\n      <td>...</td>\n      <td>...</td>\n      <td>...</td>\n    </tr>\n    <tr>\n      <th>180056</th>\n      <td>353786</td>\n      <td>IK Strat. III\\nAdd. et Corr. 645</td>\n      <td>Caria — Lagina — Rom. Imp. period? — IK Strato...</td>\n      <td>2.0</td>\n      <td>[Ἀρισ]τείδης Ἱεροκλέους τοῦ Θευδώρου [— —]\\n</td>\n      <td>[αρισ]τειδης ιεροκλεους του θευδωρου [--].</td>\n      <td>τείδης Ἱεροκλέους τοῦ Θευδώρου</td>\n      <td>Ἀριστείδης Ἱεροκλέους τοῦ Θευδώρου</td>\n      <td>{'data': ['ἀριστείδης', 'ἱεροκλέους', 'θευδώρο...</td>\n      <td>Rom. Imp. period?</td>\n      <td>...</td>\n      <td>37.377952</td>\n      <td>Lagina</td>\n      <td>POINT (28.03856 37.37795)</td>\n      <td>892-Idrias</td>\n      <td>[28.16666667, 37.25]</td>\n      <td>18182.66</td>\n      <td>False</td>\n      <td>441.0</td>\n      <td>[335, 308, 402, 205, 178, 158, 26, 387, 390, 3...</td>\n      <td>False</td>\n    </tr>\n    <tr>\n      <th>180057</th>\n      <td>353787</td>\n      <td>IK Strat. III\\nAdd. et Corr. 712</td>\n      <td>Caria — Lagina — Rom. Imp. period? — IK Strato...</td>\n      <td>3.0</td>\n      <td>[Ἄπφιον] Ἀρτεμιδώ-\\n[ρου] ...\\n</td>\n      <td>[απφιον] αρτεμιδω[ρου].</td>\n      <td>Ἀρτεμιδώ</td>\n      <td>Ἄπφιον Ἀρτεμιδώρου</td>\n      <td>{'data': ['ἄπφιον', 'ἀρτεμιδώρου']}</td>\n      <td>Rom. Imp. period?</td>\n      <td>...</td>\n      <td>37.377952</td>\n      <td>Lagina</td>\n      <td>POINT (28.03856 37.37795)</td>\n      <td>892-Idrias</td>\n      <td>[28.16666667, 37.25]</td>\n      <td>18182.66</td>\n      <td>False</td>\n      <td>441.0</td>\n      <td>[136, -10, 218, 378, 193, 60, 50, 320, 235, 15...</td>\n      <td>False</td>\n    </tr>\n    <tr>\n      <th>180058</th>\n      <td>353788</td>\n      <td>IK Strat. III\\nAdd. et Corr. 809</td>\n      <td>Caria — Stratonikeia — Yeşilbağcılar — Helleni...</td>\n      <td>2.0</td>\n      <td>καὶ κριὸν [— —]\\n</td>\n      <td>και κριον [--].</td>\n      <td>καὶ κριὸν</td>\n      <td>καὶ κριὸν</td>\n      <td>{'data': ['κριός']}</td>\n      <td>Hellenistic period</td>\n      <td>...</td>\n      <td>37.313590</td>\n      <td>Stratonikeia</td>\n      <td>POINT (28.06450 37.31359)</td>\n      <td>892-Idrias</td>\n      <td>[28.16666667, 37.25]</td>\n      <td>11484.64</td>\n      <td>False</td>\n      <td>301.0</td>\n      <td>[-117, -48, -51, -120, -232, -42, -230, -222, ...</td>\n      <td>False</td>\n    </tr>\n    <tr>\n      <th>180059</th>\n      <td>353789</td>\n      <td>IK Strat. III\\nAdd. et Corr. 1002</td>\n      <td>Caria — Stratonikeia — 276 BC — IK Stratonikei...</td>\n      <td>6.0</td>\n      <td>․ος Μ[αν]εω, [Πιγ?]ραμος Υσσω-\\nλο[υ] ...\\n......</td>\n      <td>-ος 0[αν]εω [πιγ]ραμος υσσωλο[υ]. χος δερσω[--...</td>\n      <td>ος Μεω ραμος Υσσωλο χος Δερσωτις Νωτραος</td>\n      <td>ος Μανεω Πιγραμος Υσσωλου χος Δερσωτις Νωτρασσιος</td>\n      <td>{'data': ['μανεω', 'πιγραμος', 'υσσωλου', 'χος...</td>\n      <td>276 BC</td>\n      <td>...</td>\n      <td>37.313590</td>\n      <td>Stratonikeia</td>\n      <td>POINT (28.06450 37.31359)</td>\n      <td>892-Idrias</td>\n      <td>[28.16666667, 37.25]</td>\n      <td>11484.64</td>\n      <td>False</td>\n      <td>1.0</td>\n      <td>[-276, -276, -276, -276, -276, -276, -276, -27...</td>\n      <td>False</td>\n    </tr>\n    <tr>\n      <th>180060</th>\n      <td>353790</td>\n      <td>IK Strat. III\\nAdd. et Corr. 1224a</td>\n      <td>Caria — Stratonikeia — Roman period — IK Strat...</td>\n      <td>2.0</td>\n      <td>Aẹḷ(ium?) Florentinum, opt(ionem)\\nvexillati...</td>\n      <td>None</td>\n      <td>Ael Florentinum opt vexillationi P Inf</td>\n      <td>Aelium Florentinum optionem vexillationis Pann...</td>\n      <td>{'data': ['aelium', 'florentinum', 'optionem',...</td>\n      <td>Roman period</td>\n      <td>...</td>\n      <td>37.313590</td>\n      <td>Stratonikeia</td>\n      <td>POINT (28.06450 37.31359)</td>\n      <td>892-Idrias</td>\n      <td>[28.16666667, 37.25]</td>\n      <td>11484.64</td>\n      <td>False</td>\n      <td>470.0</td>\n      <td>[216, 238, -141, -79, 116, 94, 136, -84, 317, ...</td>\n      <td>False</td>\n    </tr>\n  </tbody>\n</table>\n<p>180061 rows × 36 columns</p>\n</div>"
     },
     "execution_count": 19,
     "metadata": {},
     "output_type": "execute_result"
    }
   ],
   "source": [
    "GIST"
   ],
   "metadata": {
    "collapsed": false,
    "pycharm": {
     "name": "#%%\n"
    }
   }
  },
  {
   "cell_type": "code",
   "execution_count": 20,
   "outputs": [
    {
     "data": {
      "text/plain": "106898"
     },
     "execution_count": 20,
     "metadata": {},
     "output_type": "execute_result"
    }
   ],
   "source": [
    "GIST = GIST[GIST[\"random_dates\"].notnull()]\n",
    "len(GIST)"
   ],
   "metadata": {
    "collapsed": false,
    "pycharm": {
     "name": "#%%\n"
    }
   }
  },
  {
   "cell_type": "code",
   "execution_count": 21,
   "outputs": [
    {
     "data": {
      "text/plain": "70503"
     },
     "execution_count": 21,
     "metadata": {},
     "output_type": "execute_result"
    }
   ],
   "source": [
    "sum(GIST[\"polis?\"])"
   ],
   "metadata": {
    "collapsed": false,
    "pycharm": {
     "name": "#%%\n"
    }
   }
  },
  {
   "cell_type": "code",
   "execution_count": 22,
   "outputs": [
    {
     "data": {
      "text/plain": "1648240"
     },
     "execution_count": 22,
     "metadata": {},
     "output_type": "execute_result"
    }
   ],
   "source": [
    "GIST_lemmata_merged = [[l for l in inscr_lem[\"data\"]] for inscr_lem in GIST[\"lemmata\"].tolist()]\n",
    "GIST_lemmata_merged = [l for i in GIST_lemmata_merged for l in i]\n",
    "len(GIST_lemmata_merged)"
   ],
   "metadata": {
    "collapsed": false,
    "pycharm": {
     "name": "#%%\n"
    }
   }
  },
  {
   "cell_type": "code",
   "execution_count": 23,
   "outputs": [
    {
     "data": {
      "text/plain": "[('δῆμος', 14979),\n ('θεός', 13267),\n ('πόλις', 12561),\n ('ἄλλος', 11026),\n ('ἔτος', 9281),\n ('βουλή', 7875),\n ('ἔχω', 6723),\n ('υἱός', 6261),\n ('εἰμί', 6229),\n ('αὐτός', 6069),\n ('ἄρχω', 5996),\n ('μείς', 5943),\n ('δοκέω', 5934),\n ('δίδωμι', 5796),\n ('ποιέω', 5397),\n ('πᾶς', 5332),\n ('χαίρω', 5308),\n ('ἀγαθός', 5307),\n ('οὗτος', 5272),\n ('γίγνομαι', 5045),\n ('ἀνήρ', 4832),\n ('Ἀπόλλων', 4815),\n ('δραχμή', 4526),\n ('ἀνατίθημι', 4472),\n ('ἱερόν', 4217),\n ('βασιλεύς', 4086),\n ('γυνή', 4058),\n ('χάρις', 4042),\n ('Ζεύς', 4009),\n ('ἱερεύς', 3930),\n ('et', 3844),\n ('σεβαστός', 3752),\n ('μέγας', 3492),\n ('αὐτοκράτωρ', 3482),\n ('ἄρχων', 3389),\n ('νόμος', 3369),\n ('Καῖσαρ', 3332),\n ('εὐεργέτης', 3327),\n ('λέγω', 3288),\n ('ἴδιος', 3224),\n ('ἱερός', 3178),\n ('τιμή', 3097),\n ('Διονύσιος', 3087),\n ('ψήφισμα', 3044),\n ('ὁλκή', 3038),\n ('φιάλη', 2893),\n ('Ἀπολλώνιος', 2875),\n ('μήτηρ', 2843),\n ('τὶς', 2838),\n ('πατήρ', 2782),\n ('Ἀθηναῖος', 2757),\n ('χρύσεος', 2757),\n ('στήλη', 2627),\n ('στέφανος', 2591),\n ('Δελφοί', 2570),\n ('θυγάτηρ', 2565),\n ('ἀργύριον', 2553),\n ('τίθημι', 2527),\n ('δεῖνα', 2504),\n ('ταμίας', 2488),\n ('ἀποδίδωμι', 2433),\n ('ἀρετή', 2428),\n ('μνᾶ', 2419),\n ('μνήμη', 2412),\n ('πολύς', 2401),\n ('παῖς', 2363),\n ('ἀναγράφω', 2354),\n ('κοινός', 2321),\n ('κύριος', 2289),\n ('γῆ', 2267),\n ('πρῶτος', 2254),\n ('ἕκαστος', 2241),\n ('γραμματεύς', 2231),\n ('στεφανόω', 2151),\n ('ὠνή', 2137),\n ('φίλος', 2113),\n ('ἀνάθημα', 2090),\n ('ἔκγονος', 2046),\n ('εὔνοια', 2042),\n ('ὄνομα', 2031),\n ('ἐπαινέω', 2029),\n ('πρυτανεία', 2013),\n ('χρηστός', 2001),\n ('τυγχάνω', 1997),\n ('ἀγών', 1968),\n ('τόπος', 1957),\n ('τέκνον', 1915),\n ('χρόνος', 1912),\n ('Μᾶρκος', 1908),\n ('ἐλεύθερος', 1900),\n ('τύχη', 1889),\n ('ἵστημι', 1818),\n ('καλός', 1816),\n ('πατρίς', 1806),\n ('βούλομαι', 1744),\n ('Ἡρακλέης', 1743),\n ('ὑπάρχω', 1740),\n ('οἰκία', 1734),\n ('στεφάνωι', 1669),\n ('στρατηγός', 1657)]"
     },
     "execution_count": 23,
     "metadata": {},
     "output_type": "execute_result"
    }
   ],
   "source": [
    "freqs_tups = nltk.FreqDist(GIST_lemmata_merged).most_common()\n",
    "freqs_tups[:100]"
   ],
   "metadata": {
    "collapsed": false,
    "pycharm": {
     "name": "#%%\n"
    }
   }
  },
  {
   "cell_type": "code",
   "execution_count": 89,
   "outputs": [],
   "source": [
    "pickle.dump(freqs_tups, open(\"../data/freqs_tups.pickle\", \"wb\"))"
   ],
   "metadata": {
    "collapsed": false,
    "pycharm": {
     "name": "#%%\n"
    }
   }
  },
  {
   "cell_type": "code",
   "execution_count": 24,
   "outputs": [
    {
     "data": {
      "text/plain": "         lemma  count\n0         δίκη   1153\n1      δίκαιος    880\n2     δικαστής    606\n3   δικαιοσύνη    419\n4  δικαστήριον    221",
      "text/html": "<div>\n<style scoped>\n    .dataframe tbody tr th:only-of-type {\n        vertical-align: middle;\n    }\n\n    .dataframe tbody tr th {\n        vertical-align: top;\n    }\n\n    .dataframe thead th {\n        text-align: right;\n    }\n</style>\n<table border=\"1\" class=\"dataframe\">\n  <thead>\n    <tr style=\"text-align: right;\">\n      <th></th>\n      <th>lemma</th>\n      <th>count</th>\n    </tr>\n  </thead>\n  <tbody>\n    <tr>\n      <th>0</th>\n      <td>δίκη</td>\n      <td>1153</td>\n    </tr>\n    <tr>\n      <th>1</th>\n      <td>δίκαιος</td>\n      <td>880</td>\n    </tr>\n    <tr>\n      <th>2</th>\n      <td>δικαστής</td>\n      <td>606</td>\n    </tr>\n    <tr>\n      <th>3</th>\n      <td>δικαιοσύνη</td>\n      <td>419</td>\n    </tr>\n    <tr>\n      <th>4</th>\n      <td>δικαστήριον</td>\n      <td>221</td>\n    </tr>\n  </tbody>\n</table>\n</div>"
     },
     "execution_count": 24,
     "metadata": {},
     "output_type": "execute_result"
    }
   ],
   "source": [
    "match_pattern = \"(κατα|ὑπό|ἐκ|ἀ|ἄ|ἀντί|^)δ[ι|ί]κ(α|ά|ο|ό|ί|έ|η)(.+)?\"\n",
    "dik_words = [word for word in GIST_lemmata_merged if re.search(match_pattern, word)]\n",
    "dik_words_df = pd.DataFrame(nltk.FreqDist(dik_words).most_common(), columns=[\"lemma\", \"count\"])\n",
    "dik_words_df.head(5)"
   ],
   "metadata": {
    "collapsed": false,
    "pycharm": {
     "name": "#%%\n"
    }
   }
  },
  {
   "cell_type": "code",
   "execution_count": 25,
   "outputs": [
    {
     "data": {
      "text/plain": "               lemma  count\n0               δίκη   1153\n1            δίκαιος    880\n2           δικαστής    606\n3         δικαιοσύνη    419\n4        δικαστήριον    221\n..               ...    ...\n95         δικαστάνς      3\n96  δικαιοπραγήσαντα      3\n97          δικάδδεν      3\n98         δικαδδέτο      3\n99            δίκανς      3\n\n[100 rows x 2 columns]",
      "text/html": "<div>\n<style scoped>\n    .dataframe tbody tr th:only-of-type {\n        vertical-align: middle;\n    }\n\n    .dataframe tbody tr th {\n        vertical-align: top;\n    }\n\n    .dataframe thead th {\n        text-align: right;\n    }\n</style>\n<table border=\"1\" class=\"dataframe\">\n  <thead>\n    <tr style=\"text-align: right;\">\n      <th></th>\n      <th>lemma</th>\n      <th>count</th>\n    </tr>\n  </thead>\n  <tbody>\n    <tr>\n      <th>0</th>\n      <td>δίκη</td>\n      <td>1153</td>\n    </tr>\n    <tr>\n      <th>1</th>\n      <td>δίκαιος</td>\n      <td>880</td>\n    </tr>\n    <tr>\n      <th>2</th>\n      <td>δικαστής</td>\n      <td>606</td>\n    </tr>\n    <tr>\n      <th>3</th>\n      <td>δικαιοσύνη</td>\n      <td>419</td>\n    </tr>\n    <tr>\n      <th>4</th>\n      <td>δικαστήριον</td>\n      <td>221</td>\n    </tr>\n    <tr>\n      <th>...</th>\n      <td>...</td>\n      <td>...</td>\n    </tr>\n    <tr>\n      <th>95</th>\n      <td>δικαστάνς</td>\n      <td>3</td>\n    </tr>\n    <tr>\n      <th>96</th>\n      <td>δικαιοπραγήσαντα</td>\n      <td>3</td>\n    </tr>\n    <tr>\n      <th>97</th>\n      <td>δικάδδεν</td>\n      <td>3</td>\n    </tr>\n    <tr>\n      <th>98</th>\n      <td>δικαδδέτο</td>\n      <td>3</td>\n    </tr>\n    <tr>\n      <th>99</th>\n      <td>δίκανς</td>\n      <td>3</td>\n    </tr>\n  </tbody>\n</table>\n<p>100 rows × 2 columns</p>\n</div>"
     },
     "execution_count": 25,
     "metadata": {},
     "output_type": "execute_result"
    }
   ],
   "source": [
    "dik_words_df[:100]"
   ],
   "metadata": {
    "collapsed": false,
    "pycharm": {
     "name": "#%%\n"
    }
   }
  },
  {
   "cell_type": "code",
   "execution_count": 26,
   "outputs": [],
   "source": [
    "def get_ngrams(lemmata_data):\n",
    "    lemmata_list = lemmata_data[\"data\"]\n",
    "    ngrams = []\n",
    "    try:\n",
    "        bigrams = list(nltk.ngrams(lemmata_list, 2))\n",
    "        trigrams = list(nltk.ngrams(lemmata_list, 3, pad_right=True, pad_left=True))\n",
    "        fivegrams = list(nltk.ngrams(lemmata_list, 5, pad_right=True, pad_left=True))\n",
    "        ngrams_merged = bigrams + trigrams + fivegrams\n",
    "        ngrams_merged = [[i for i in ngram if i is not None] for ngram in ngrams_merged]\n",
    "        ngrams_merged = [ngram for ngram in ngrams_merged if (len(ngram) > 1)]\n",
    "    except:\n",
    "        ngrams_merged = [[]]\n",
    "    return ngrams_merged\n"
   ],
   "metadata": {
    "collapsed": false,
    "pycharm": {
     "name": "#%%\n"
    }
   }
  },
  {
   "cell_type": "code",
   "execution_count": 35,
   "outputs": [
    {
     "name": "stdout",
     "output_type": "stream",
     "text": [
      "[['lemma1', 'lemma2'], ['lemma2', 'lemma3'], ['lemma3', 'lemma4'], ['lemma4', 'lemma5'], ['lemma5', 'lemma6'], ['lemma1', 'lemma2'], ['lemma1', 'lemma2', 'lemma3'], ['lemma2', 'lemma3', 'lemma4'], ['lemma3', 'lemma4', 'lemma5'], ['lemma4', 'lemma5', 'lemma6'], ['lemma5', 'lemma6'], ['lemma1', 'lemma2'], ['lemma1', 'lemma2', 'lemma3'], ['lemma1', 'lemma2', 'lemma3', 'lemma4'], ['lemma1', 'lemma2', 'lemma3', 'lemma4', 'lemma5'], ['lemma2', 'lemma3', 'lemma4', 'lemma5', 'lemma6'], ['lemma3', 'lemma4', 'lemma5', 'lemma6'], ['lemma4', 'lemma5', 'lemma6'], ['lemma5', 'lemma6']]\n"
     ]
    }
   ],
   "source": [
    "print(get_ngrams({\"data\" : [\"lemma1\", \"lemma2\", \"lemma3\", \"lemma4\", \"lemma5\", \"lemma6\"]}))"
   ],
   "metadata": {
    "collapsed": false,
    "pycharm": {
     "name": "#%%\n"
    }
   }
  },
  {
   "cell_type": "code",
   "execution_count": 28,
   "outputs": [
    {
     "name": "stdout",
     "output_type": "stream",
     "text": [
      "CPU times: user 4.2 s, sys: 221 ms, total: 4.42 s\n",
      "Wall time: 4.52 s\n"
     ]
    },
    {
     "name": "stderr",
     "output_type": "stream",
     "text": [
      "/Users/kasev/Projects/EpiMR/epimr_venv/lib/python3.9/site-packages/geopandas/geodataframe.py:1472: SettingWithCopyWarning: \n",
      "A value is trying to be set on a copy of a slice from a DataFrame.\n",
      "Try using .loc[row_indexer,col_indexer] = value instead\n",
      "\n",
      "See the caveats in the documentation: https://pandas.pydata.org/pandas-docs/stable/user_guide/indexing.html#returning-a-view-versus-a-copy\n",
      "  super().__setitem__(key, value)\n"
     ]
    }
   ],
   "source": [
    "%%time\n",
    "GIST[\"ngrams\"] = GIST[\"lemmata\"].apply(get_ngrams)"
   ],
   "metadata": {
    "collapsed": false,
    "pycharm": {
     "name": "#%%\n"
    }
   }
  },
  {
   "cell_type": "code",
   "execution_count": 29,
   "outputs": [
    {
     "data": {
      "text/plain": "   PHI_ID  reference                                           metadata  \\\n0       1   IG I³\\n1  Att. — Ath.: Akr. — stoich. 35 — c. 510-500 a....   \n1       4   IG I³\\n4                       Att. — stoich. 38 — 485/4 a.   \n2       5   IG I³\\n5                                   Att. — c. 500 a.   \n3       6   IG I³\\n6                 Att. — stoich. 23/11 — ante 460 a.   \n4      11  IG I³\\n11              Att. — stoich. 48 — ante med. s. V a.   \n\n   lines                                           text_raw  \\\n0   12.0  ἔδοχσεν το͂ι δέμοι· τ̣[ὸς ἐ Σ]αλαμ̣[ῖνι κλερόχ...   \n1   56.0  [․․․․․․․․․․․․․․․․․․38․․․․․․․․․․․․․․․․․․]\\n[․․․...   \n2    6.0  [ἔδοχσε]ν [⋮ τε͂ι βολε͂ι] ⋮ καὶ [τ]ο͂ι δέμοι ⋮...   \n3  160.0  — — — — — — — — — — — — —\\n[․․․․․․15․․․․․․․] δ...   \n4   22.0  [χσυμμαχία καὶ ℎόρ]κ̣ο̣[ς] Ἀ̣[θ]ε̣ν̣α̣[ίον κα]...   \n\n                                           text_iphi  \\\n0  εδοχσεν τοι δεμοι τ[ος ε σ]αλαμ[ινι κλεροχ]ος ...   \n1  [--------------------------------------] [----...   \n2  [εδοχσε]ν [ τει βολει] και [τ]οι δεμοι οτε παρ...   \n3  ------------- [---------------] δραχμεισ[ι ---...   \n4  [χσυμμαχια και ορ]κο[ς] α[θ]ενα[ιον κα]ι εγεστ...   \n\n                             clean_text_conservative  \\\n0  ἔδοχσεν το͂ι δέμοι ταλαμος οἰκε͂ν ἐᾶ Σαλαμῖνι ...   \n1  δέ τις αν ἒ φρορὰν μ ντέκοντα δχμὰς τ ας ℎες π...   \n2  ν καὶ ο͂ι δέμοι ℎότε Παραιβάτες λεια θν τὸς ℎι...   \n3  δραχμε͂ιστες τὸς ιο μενος δεμο το͂ν πόλεο οκε͂...   \n4  κο Ἀεναὶ Ἐγεσταί ο͂ι ἐπρυτάνευε οΙ ον ἐ͂ρχε Ἀ...   \n\n                        clean_text_interpretive_word  \\\n0  ἔδοχσεν το͂ι δέμοι τὸς ἐ Σαλαμῖνι κλερόχος οἰκ...   \n1  ἐὰν δέ τις αν ἒ φρορὰν μὲ πεντέκοντα δραχμὰς τ...   \n2  ἔδοχσεν τε͂ι βολε͂ι καὶ το͂ι δέμοι ℎότε Παραιβ...   \n3  δραχμε͂ισι τες τὸς ιο μενος δεμο το͂ν πόλεον δ...   \n4  χσυμμαχία καὶ ℎόρκος Ἀθεναίον καὶ Ἐγεσταίον ἔδ...   \n\n                                             lemmata           raw_date  ...  \\\n0  {'data': ['ἔδοχσεν', 'δέμοι', 'Σαλαμίς', 'κλερ...     c. 510-500 a.   ...   \n1  {'data': ['τὶς', 'φρορὰν', 'πεντέκοντα', 'δραχ...           485/4 a.  ...   \n2  {'data': ['ἔδοχσεν', 'τει', 'βολει', 'δέμοι', ...          c. 500 a.  ...   \n3  {'data': ['δραχμεισι', 'τες', 'μένος', 'δεμο',...        ante 460 a.  ...   \n4  {'data': ['χσυμμαχία', 'ὅρκος', 'ἀθεναίον', 'ἐ...  ante med. s. V a.  ...   \n\n   TMgeo_name                   geometry         name           polis_geo  \\\n0     Athenai  POINT (23.72399 37.97275)  361-Athenai  [23.7278, 37.9778]   \n1     Athenai  POINT (23.72399 37.97275)  361-Athenai  [23.7278, 37.9778]   \n2     Eleusis  POINT (23.54150 38.04414)  362-Eleusis  [23.5423, 38.0394]   \n3     Eleusis  POINT (23.54150 38.04414)  362-Eleusis  [23.5423, 38.0394]   \n4     Athenai  POINT (23.72399 37.97275)  361-Athenai  [23.7278, 37.9778]   \n\n   polis_dist polis? duration  \\\n0      653.43   True     13.0   \n1      653.43   True      2.0   \n2      530.31   True     11.0   \n3      530.31   True      NaN   \n4      653.43   True      NaN   \n\n                                        random_dates greece?  \\\n0  [-510, -504, -510, -507, -506, -500, -508, -50...    True   \n1  [-485, -485, -485, -484, -485, -484, -485, -48...    True   \n2  [-498, -502, -504, -503, -496, -504, -496, -49...    True   \n3  [-461, -461, -461, -461, -461, -461, -461, -46...    True   \n4  [-456, -456, -456, -456, -456, -456, -456, -45...    True   \n\n                                              ngrams  \n0  [[ἔδοχσεν, δέμοι], [δέμοι, Σαλαμίς], [Σαλαμίς,...  \n1  [[τὶς, φρορὰν], [φρορὰν, πεντέκοντα], [πεντέκο...  \n2  [[ἔδοχσεν, τει], [τει, βολει], [βολει, δέμοι],...  \n3  [[δραχμεισι, τες], [τες, μένος], [μένος, δεμο]...  \n4  [[χσυμμαχία, ὅρκος], [ὅρκος, ἀθεναίον], [ἀθενα...  \n\n[5 rows x 37 columns]",
      "text/html": "<div>\n<style scoped>\n    .dataframe tbody tr th:only-of-type {\n        vertical-align: middle;\n    }\n\n    .dataframe tbody tr th {\n        vertical-align: top;\n    }\n\n    .dataframe thead th {\n        text-align: right;\n    }\n</style>\n<table border=\"1\" class=\"dataframe\">\n  <thead>\n    <tr style=\"text-align: right;\">\n      <th></th>\n      <th>PHI_ID</th>\n      <th>reference</th>\n      <th>metadata</th>\n      <th>lines</th>\n      <th>text_raw</th>\n      <th>text_iphi</th>\n      <th>clean_text_conservative</th>\n      <th>clean_text_interpretive_word</th>\n      <th>lemmata</th>\n      <th>raw_date</th>\n      <th>...</th>\n      <th>TMgeo_name</th>\n      <th>geometry</th>\n      <th>name</th>\n      <th>polis_geo</th>\n      <th>polis_dist</th>\n      <th>polis?</th>\n      <th>duration</th>\n      <th>random_dates</th>\n      <th>greece?</th>\n      <th>ngrams</th>\n    </tr>\n  </thead>\n  <tbody>\n    <tr>\n      <th>0</th>\n      <td>1</td>\n      <td>IG I³\\n1</td>\n      <td>Att. — Ath.: Akr. — stoich. 35 — c. 510-500 a....</td>\n      <td>12.0</td>\n      <td>ἔδοχσεν το͂ι δέμοι· τ̣[ὸς ἐ Σ]αλαμ̣[ῖνι κλερόχ...</td>\n      <td>εδοχσεν τοι δεμοι τ[ος ε σ]αλαμ[ινι κλεροχ]ος ...</td>\n      <td>ἔδοχσεν το͂ι δέμοι ταλαμος οἰκε͂ν ἐᾶ Σαλαμῖνι ...</td>\n      <td>ἔδοχσεν το͂ι δέμοι τὸς ἐ Σαλαμῖνι κλερόχος οἰκ...</td>\n      <td>{'data': ['ἔδοχσεν', 'δέμοι', 'Σαλαμίς', 'κλερ...</td>\n      <td>c. 510-500 a.</td>\n      <td>...</td>\n      <td>Athenai</td>\n      <td>POINT (23.72399 37.97275)</td>\n      <td>361-Athenai</td>\n      <td>[23.7278, 37.9778]</td>\n      <td>653.43</td>\n      <td>True</td>\n      <td>13.0</td>\n      <td>[-510, -504, -510, -507, -506, -500, -508, -50...</td>\n      <td>True</td>\n      <td>[[ἔδοχσεν, δέμοι], [δέμοι, Σαλαμίς], [Σαλαμίς,...</td>\n    </tr>\n    <tr>\n      <th>1</th>\n      <td>4</td>\n      <td>IG I³\\n4</td>\n      <td>Att. — stoich. 38 — 485/4 a.</td>\n      <td>56.0</td>\n      <td>[․․․․․․․․․․․․․․․․․․38․․․․․․․․․․․․․․․․․․]\\n[․․․...</td>\n      <td>[--------------------------------------] [----...</td>\n      <td>δέ τις αν ἒ φρορὰν μ ντέκοντα δχμὰς τ ας ℎες π...</td>\n      <td>ἐὰν δέ τις αν ἒ φρορὰν μὲ πεντέκοντα δραχμὰς τ...</td>\n      <td>{'data': ['τὶς', 'φρορὰν', 'πεντέκοντα', 'δραχ...</td>\n      <td>485/4 a.</td>\n      <td>...</td>\n      <td>Athenai</td>\n      <td>POINT (23.72399 37.97275)</td>\n      <td>361-Athenai</td>\n      <td>[23.7278, 37.9778]</td>\n      <td>653.43</td>\n      <td>True</td>\n      <td>2.0</td>\n      <td>[-485, -485, -485, -484, -485, -484, -485, -48...</td>\n      <td>True</td>\n      <td>[[τὶς, φρορὰν], [φρορὰν, πεντέκοντα], [πεντέκο...</td>\n    </tr>\n    <tr>\n      <th>2</th>\n      <td>5</td>\n      <td>IG I³\\n5</td>\n      <td>Att. — c. 500 a.</td>\n      <td>6.0</td>\n      <td>[ἔδοχσε]ν [⋮ τε͂ι βολε͂ι] ⋮ καὶ [τ]ο͂ι δέμοι ⋮...</td>\n      <td>[εδοχσε]ν [ τει βολει] και [τ]οι δεμοι οτε παρ...</td>\n      <td>ν καὶ ο͂ι δέμοι ℎότε Παραιβάτες λεια θν τὸς ℎι...</td>\n      <td>ἔδοχσεν τε͂ι βολε͂ι καὶ το͂ι δέμοι ℎότε Παραιβ...</td>\n      <td>{'data': ['ἔδοχσεν', 'τει', 'βολει', 'δέμοι', ...</td>\n      <td>c. 500 a.</td>\n      <td>...</td>\n      <td>Eleusis</td>\n      <td>POINT (23.54150 38.04414)</td>\n      <td>362-Eleusis</td>\n      <td>[23.5423, 38.0394]</td>\n      <td>530.31</td>\n      <td>True</td>\n      <td>11.0</td>\n      <td>[-498, -502, -504, -503, -496, -504, -496, -49...</td>\n      <td>True</td>\n      <td>[[ἔδοχσεν, τει], [τει, βολει], [βολει, δέμοι],...</td>\n    </tr>\n    <tr>\n      <th>3</th>\n      <td>6</td>\n      <td>IG I³\\n6</td>\n      <td>Att. — stoich. 23/11 — ante 460 a.</td>\n      <td>160.0</td>\n      <td>— — — — — — — — — — — — —\\n[․․․․․․15․․․․․․․] δ...</td>\n      <td>------------- [---------------] δραχμεισ[ι ---...</td>\n      <td>δραχμε͂ιστες τὸς ιο μενος δεμο το͂ν πόλεο οκε͂...</td>\n      <td>δραχμε͂ισι τες τὸς ιο μενος δεμο το͂ν πόλεον δ...</td>\n      <td>{'data': ['δραχμεισι', 'τες', 'μένος', 'δεμο',...</td>\n      <td>ante 460 a.</td>\n      <td>...</td>\n      <td>Eleusis</td>\n      <td>POINT (23.54150 38.04414)</td>\n      <td>362-Eleusis</td>\n      <td>[23.5423, 38.0394]</td>\n      <td>530.31</td>\n      <td>True</td>\n      <td>NaN</td>\n      <td>[-461, -461, -461, -461, -461, -461, -461, -46...</td>\n      <td>True</td>\n      <td>[[δραχμεισι, τες], [τες, μένος], [μένος, δεμο]...</td>\n    </tr>\n    <tr>\n      <th>4</th>\n      <td>11</td>\n      <td>IG I³\\n11</td>\n      <td>Att. — stoich. 48 — ante med. s. V a.</td>\n      <td>22.0</td>\n      <td>[χσυμμαχία καὶ ℎόρ]κ̣ο̣[ς] Ἀ̣[θ]ε̣ν̣α̣[ίον κα]...</td>\n      <td>[χσυμμαχια και ορ]κο[ς] α[θ]ενα[ιον κα]ι εγεστ...</td>\n      <td>κο Ἀεναὶ Ἐγεσταί ο͂ι ἐπρυτάνευε οΙ ον ἐ͂ρχε Ἀ...</td>\n      <td>χσυμμαχία καὶ ℎόρκος Ἀθεναίον καὶ Ἐγεσταίον ἔδ...</td>\n      <td>{'data': ['χσυμμαχία', 'ὅρκος', 'ἀθεναίον', 'ἐ...</td>\n      <td>ante med. s. V a.</td>\n      <td>...</td>\n      <td>Athenai</td>\n      <td>POINT (23.72399 37.97275)</td>\n      <td>361-Athenai</td>\n      <td>[23.7278, 37.9778]</td>\n      <td>653.43</td>\n      <td>True</td>\n      <td>NaN</td>\n      <td>[-456, -456, -456, -456, -456, -456, -456, -45...</td>\n      <td>True</td>\n      <td>[[χσυμμαχία, ὅρκος], [ὅρκος, ἀθεναίον], [ἀθενα...</td>\n    </tr>\n  </tbody>\n</table>\n<p>5 rows × 37 columns</p>\n</div>"
     },
     "execution_count": 29,
     "metadata": {},
     "output_type": "execute_result"
    }
   ],
   "source": [
    "GIST.head(5)"
   ],
   "metadata": {
    "collapsed": false,
    "pycharm": {
     "name": "#%%\n"
    }
   }
  },
  {
   "cell_type": "code",
   "execution_count": 30,
   "outputs": [
    {
     "name": "stdout",
     "output_type": "stream",
     "text": [
      "CPU times: user 17 s, sys: 773 ms, total: 17.8 s\n",
      "Wall time: 18.7 s\n"
     ]
    }
   ],
   "source": [
    "%%time\n",
    "f = open(\"../data/large_files/corpus_ngrams.txt\", \"w\", encoding=\"utf-8\")\n",
    "line = 0\n",
    "ids_lines = {}\n",
    "for n in range(len(GIST)):\n",
    "    id = str(GIST.iloc[n][\"PHI_ID\"])\n",
    "    try:\n",
    "        ngrams = [\" \".join(ngram) for ngram in GIST.iloc[n][\"ngrams\"]]\n",
    "        f.writelines(\"\\n\".join(ngrams)+\"\\n\")\n",
    "        ids_lines[id] = (line, line+len(ngrams))\n",
    "        line += len(ngrams)\n",
    "    except:\n",
    "        print(id)"
   ],
   "metadata": {
    "collapsed": false,
    "pycharm": {
     "name": "#%%\n"
    }
   }
  },
  {
   "cell_type": "code",
   "execution_count": 31,
   "outputs": [],
   "source": [
    "pickle.dump(ids_lines, open(\"../data/ids_lines.pickle\", \"wb\"))"
   ],
   "metadata": {
    "collapsed": false,
    "pycharm": {
     "name": "#%%\n"
    }
   }
  },
  {
   "cell_type": "code",
   "execution_count": 32,
   "outputs": [],
   "source": [
    "class NgramCorpus:\n",
    "    def __iter__(self):\n",
    "        with open(\"../data/large_files/corpus_ngrams.txt\", \"r\") as f:\n",
    "            lines = f.readlines()\n",
    "            for phi_id in ids_list:\n",
    "                for line in lines[ids_lines[phi_id][0] : ids_lines[phi_id][1]]:\n",
    "                    yield line.split()"
   ],
   "metadata": {
    "collapsed": false,
    "pycharm": {
     "name": "#%%\n"
    }
   }
  },
  {
   "cell_type": "code",
   "execution_count": 33,
   "outputs": [],
   "source": [
    "ids_list = [\"1\",\"4\",\"15\",\"17\"]"
   ],
   "metadata": {
    "collapsed": false,
    "pycharm": {
     "name": "#%%\n"
    }
   }
  },
  {
   "cell_type": "code",
   "execution_count": 34,
   "outputs": [],
   "source": [
    "corpus = NgramCorpus()"
   ],
   "metadata": {
    "collapsed": false,
    "pycharm": {
     "name": "#%%\n"
    }
   }
  },
  {
   "cell_type": "code",
   "execution_count": 30,
   "outputs": [
    {
     "data": {
      "text/plain": "904"
     },
     "execution_count": 30,
     "metadata": {},
     "output_type": "execute_result"
    }
   ],
   "source": [
    "len([doc for doc in corpus])"
   ],
   "metadata": {
    "collapsed": false,
    "pycharm": {
     "name": "#%%\n"
    }
   }
  },
  {
   "cell_type": "code",
   "execution_count": 31,
   "outputs": [
    {
     "data": {
      "text/plain": "6604"
     },
     "execution_count": 31,
     "metadata": {},
     "output_type": "execute_result"
    }
   ],
   "source": [
    "ids_list = GIST[GIST[\"random_dates\"].apply(lambda x: -500 < x[0] < -401)][\"PHI_ID\"].astype(\"str\").tolist()\n",
    "len(ids_list)"
   ],
   "metadata": {
    "collapsed": false,
    "pycharm": {
     "name": "#%%\n"
    }
   }
  },
  {
   "cell_type": "code",
   "execution_count": 32,
   "outputs": [],
   "source": [
    "corpus = NgramCorpus()"
   ],
   "metadata": {
    "collapsed": false,
    "pycharm": {
     "name": "#%%\n"
    }
   }
  },
  {
   "cell_type": "code",
   "execution_count": 33,
   "outputs": [
    {
     "data": {
      "text/plain": "133348"
     },
     "execution_count": 33,
     "metadata": {},
     "output_type": "execute_result"
    }
   ],
   "source": [
    "corpus_len = len([doc for doc in corpus])\n",
    "corpus_len"
   ],
   "metadata": {
    "collapsed": false,
    "pycharm": {
     "name": "#%%\n"
    }
   }
  },
  {
   "cell_type": "code",
   "execution_count": 34,
   "outputs": [
    {
     "data": {
      "text/plain": "1648240"
     },
     "execution_count": 34,
     "metadata": {},
     "output_type": "execute_result"
    }
   ],
   "source": [
    "N_tokens = sum([el[1] for el in freqs_tups])\n",
    "N_tokens"
   ],
   "metadata": {
    "collapsed": false,
    "pycharm": {
     "name": "#%%\n"
    }
   }
  },
  {
   "cell_type": "code",
   "execution_count": 35,
   "outputs": [
    {
     "data": {
      "text/plain": "214400"
     },
     "execution_count": 35,
     "metadata": {},
     "output_type": "execute_result"
    }
   ],
   "source": [
    "N_types = len(freqs_tups)\n",
    "N_types"
   ],
   "metadata": {
    "collapsed": false,
    "pycharm": {
     "name": "#%%\n"
    }
   }
  },
  {
   "cell_type": "code",
   "execution_count": 36,
   "outputs": [
    {
     "data": {
      "text/plain": "0.658017036353929"
     },
     "execution_count": 36,
     "metadata": {},
     "output_type": "execute_result"
    }
   ],
   "source": [
    "N_types_covered = 5000\n",
    "N_tokens_covered = sum([el[1] for el in freqs_tups[:N_types_covered]])\n",
    "N_tokens_covered / N_tokens"
   ],
   "metadata": {
    "collapsed": false,
    "pycharm": {
     "name": "#%%\n"
    }
   }
  },
  {
   "cell_type": "code",
   "execution_count": 40,
   "outputs": [],
   "source": [
    "model = Word2Vec(vector_size=150, window=3, negative=5, ns_exponent=1, sg=0, epochs=10, workers=8)"
   ],
   "metadata": {
    "collapsed": false,
    "pycharm": {
     "name": "#%%\n"
    }
   }
  },
  {
   "cell_type": "code",
   "execution_count": 41,
   "outputs": [],
   "source": [
    "model.build_vocab_from_freq(word_freq=dict(freqs_tups[:N_types_covered]))"
   ],
   "metadata": {
    "collapsed": false,
    "pycharm": {
     "name": "#%%\n"
    }
   }
  },
  {
   "cell_type": "code",
   "execution_count": 42,
   "outputs": [
    {
     "name": "stdout",
     "output_type": "stream",
     "text": [
      "CPU times: user 11.4 s, sys: 1.93 s, total: 13.3 s\n",
      "Wall time: 13.3 s\n"
     ]
    },
    {
     "data": {
      "text/plain": "(2138767, 4125460)"
     },
     "execution_count": 42,
     "metadata": {},
     "output_type": "execute_result"
    }
   ],
   "source": [
    "%%time\n",
    "model.train(corpus, total_examples=corpus_len, epochs=model.epochs)"
   ],
   "metadata": {
    "collapsed": false,
    "pycharm": {
     "name": "#%%\n"
    }
   }
  },
  {
   "cell_type": "code",
   "execution_count": 43,
   "outputs": [
    {
     "data": {
      "text/plain": "[('λαμπρός', 0.677864670753479),\n ('παρθικοῦ', 0.6593357920646667),\n ('ἔνδοξος', 0.6470581889152527),\n ('αὐτοκράτωρ', 0.6440725922584534),\n ('ἁδριανοῦ', 0.6383450031280518),\n ('μέγας', 0.6350281834602356),\n ('ἐπιφανής', 0.6306490302085876),\n ('ἀρχιερεύς', 0.6289092898368835),\n ('σεβαστός', 0.6269497275352478),\n ('εὐχαριστέω', 0.6178341507911682)]"
     },
     "execution_count": 43,
     "metadata": {},
     "output_type": "execute_result"
    }
   ],
   "source": [
    "model.wv.most_similar(\"θεός\")"
   ],
   "metadata": {
    "collapsed": false,
    "pycharm": {
     "name": "#%%\n"
    }
   }
  },
  {
   "cell_type": "code",
   "execution_count": 73,
   "outputs": [
    {
     "data": {
      "text/plain": "(3666485, 6064500)"
     },
     "execution_count": 73,
     "metadata": {},
     "output_type": "execute_result"
    }
   ],
   "source": [
    "model = FastText(vector_size=150, window=3, negative=5, ns_exponent=1, sg=0, epochs=5, workers=8, min_n=4)\n",
    "model.build_vocab_from_freq(word_freq=dict(freqs_tups[:N_types_covered]))\n",
    "model.train(corpus, total_examples=corpus_len, epochs=model.epochs)"
   ],
   "metadata": {
    "collapsed": false,
    "pycharm": {
     "name": "#%%\n"
    }
   }
  },
  {
   "cell_type": "code",
   "execution_count": 76,
   "outputs": [
    {
     "data": {
      "text/plain": "[('τεός', 0.8119252324104309),\n ('ἐτεός', 0.7080932855606079),\n ('σωτήριος', 0.6826785802841187),\n ('σωτήρ', 0.6691166758537292),\n ('παρθένιος', 0.6619709730148315),\n ('εὐσεβείαι', 0.6525436043739319),\n ('θέα', 0.642316460609436),\n ('προσκυνέω', 0.6290892362594604),\n ('ἐλευθέριος', 0.628943920135498),\n ('ἐπιφανής', 0.6255434155464172)]"
     },
     "execution_count": 76,
     "metadata": {},
     "output_type": "execute_result"
    }
   ],
   "source": [
    "model.wv.most_similar(\"θεός\")"
   ],
   "metadata": {
    "collapsed": false,
    "pycharm": {
     "name": "#%%\n"
    }
   }
  },
  {
   "cell_type": "markdown",
   "source": [
    "# Developing century excluding models"
   ],
   "metadata": {
    "collapsed": false,
    "pycharm": {
     "name": "#%% md\n"
    }
   }
  },
  {
   "cell_type": "code",
   "execution_count": 77,
   "outputs": [
    {
     "name": "stdout",
     "output_type": "stream",
     "text": [
      "-800 -701 63\n",
      "-700 -601 382\n",
      "-600 -501 2623\n",
      "-500 -401 6604\n",
      "-400 -301 9668\n",
      "-300 -201 14232\n",
      "-200 -101 13448\n",
      "-100 -1 8443\n",
      "1 100 9893\n",
      "101 200 15986\n",
      "201 300 11913\n",
      "301 400 4897\n",
      "401 500 2634\n",
      "501 600 2271\n",
      "601 700 421\n",
      "701 800 126\n"
     ]
    }
   ],
   "source": [
    "for cent in range(-8, 8):\n",
    "    if cent < 0:\n",
    "        cent_start, cent_end = cent * 100, cent * 100 + 99\n",
    "    else:\n",
    "        cent_start, cent_end = cent * 100 + 1, cent * 100 + 100\n",
    "    subset = GIST[GIST[\"random_dates\"].apply(lambda x: cent_start < x[0] < cent_end)]\n",
    "    print(cent_start, cent_end, (len(subset)))\n"
   ],
   "metadata": {
    "collapsed": false,
    "pycharm": {
     "name": "#%%\n"
    }
   }
  },
  {
   "cell_type": "code",
   "execution_count": 78,
   "outputs": [],
   "source": [
    "cent_ids_samples = {}\n",
    "for cent in range(-8, 6):\n",
    "    if cent < 0:\n",
    "        cent_start, cent_end = cent * 100, cent * 100 + 99\n",
    "    else:\n",
    "        cent_start, cent_end = cent * 100 + 1, cent * 100 + 100\n",
    "    subset_ids = GIST[GIST[\"random_dates\"].apply(lambda x: cent_start < x[0] < cent_end)][\"PHI_ID\"]\n",
    "    subset_sample_ids = subset_ids.sample(1000, replace=True)\n",
    "    cent_ids_samples[cent] = subset_sample_ids"
   ],
   "metadata": {
    "collapsed": false,
    "pycharm": {
     "name": "#%%\n"
    }
   }
  },
  {
   "cell_type": "code",
   "execution_count": 79,
   "outputs": [],
   "source": [
    "# full_model\n",
    "ids_list = []\n",
    "for cent in cent_ids_samples.keys():\n",
    "    ids_list.extend(list(cent_ids_samples[cent]))"
   ],
   "metadata": {
    "collapsed": false,
    "pycharm": {
     "name": "#%%\n"
    }
   }
  },
  {
   "cell_type": "code",
   "execution_count": 80,
   "outputs": [
    {
     "data": {
      "text/plain": "14000"
     },
     "execution_count": 80,
     "metadata": {},
     "output_type": "execute_result"
    }
   ],
   "source": [
    "len(ids_list)"
   ],
   "metadata": {
    "collapsed": false,
    "pycharm": {
     "name": "#%%\n"
    }
   }
  },
  {
   "cell_type": "code",
   "execution_count": 81,
   "outputs": [],
   "source": [
    "ids_list = [str(id) for id in ids_list]"
   ],
   "metadata": {
    "collapsed": false,
    "pycharm": {
     "name": "#%%\n"
    }
   }
  },
  {
   "cell_type": "code",
   "execution_count": 82,
   "outputs": [],
   "source": [
    "corpus = NgramCorpus()"
   ],
   "metadata": {
    "collapsed": false,
    "pycharm": {
     "name": "#%%\n"
    }
   }
  },
  {
   "cell_type": "code",
   "execution_count": 83,
   "outputs": [
    {
     "name": "stdout",
     "output_type": "stream",
     "text": [
      "CPU times: user 23 s, sys: 1.76 s, total: 24.7 s\n",
      "Wall time: 12.6 s\n"
     ]
    },
    {
     "data": {
      "text/plain": "(4446799, 7471415)"
     },
     "execution_count": 83,
     "metadata": {},
     "output_type": "execute_result"
    }
   ],
   "source": [
    "%%time\n",
    "model = FastText(vector_size=150, window=3, negative=5, ns_exponent=1, sg=0, epochs=5, workers=8, min_n=3)\n",
    "model.build_vocab_from_freq(word_freq=dict(freqs_tups[:N_types_covered]))\n",
    "model.train(corpus, total_examples=corpus_len, epochs=model.epochs)"
   ],
   "metadata": {
    "collapsed": false,
    "pycharm": {
     "name": "#%%\n"
    }
   }
  },
  {
   "cell_type": "code",
   "execution_count": 84,
   "outputs": [
    {
     "data": {
      "text/plain": "[('ἐτεός', 0.8190017342567444),\n ('τεός', 0.8043358325958252),\n ('ἰατρός', 0.7662969827651978),\n ('κολωνός', 0.7587723135948181),\n ('θεαρός', 0.7583391666412354),\n ('σεμνός', 0.7576870322227478),\n ('ἁγνός', 0.7523812055587769),\n ('τρυφερός', 0.7308467030525208),\n ('γαμβρός', 0.7302103638648987),\n ('γεραιός', 0.7300339937210083),\n ('μανός', 0.7294237613677979),\n ('σεισμός', 0.729305624961853),\n ('λυγρός', 0.7234829068183899),\n ('ζοός', 0.7187726497650146),\n ('δημιουργός', 0.7179083824157715),\n ('θοός', 0.7178543210029602),\n ('ληνός', 0.7176640629768372),\n ('ἀγρός', 0.7155147790908813),\n ('ἱλαρός', 0.7150009274482727),\n ('λαός', 0.7125334143638611),\n ('ὀρός', 0.7107135653495789),\n ('θεσμός', 0.7100199460983276),\n ('θιός', 0.7094550132751465),\n ('γεωργός', 0.7089586853981018),\n ('ψυχρός', 0.7078760862350464),\n ('ἑός', 0.7073254585266113),\n ('ἰτός', 0.7069397568702698),\n ('δεινός', 0.7067515254020691),\n ('βροτός', 0.7054709196090698),\n ('γοργός', 0.7036975026130676),\n ('ζωός', 0.7019622325897217),\n ('βωμός', 0.7017140984535217),\n ('κλεινός', 0.7006551027297974),\n ('Σεβαστός', 0.6998863220214844),\n ('θνητός', 0.6996881365776062),\n ('τυρός', 0.6986925005912781),\n ('βοηθός', 0.6984599828720093),\n ('κενός', 0.6978862285614014),\n ('φιλητός', 0.6977435946464539),\n ('ἀγλαός', 0.6968128681182861),\n ('δεσμός', 0.6959262490272522),\n ('φαιδρός', 0.6948802471160889),\n ('κρουνός', 0.6933338046073914),\n ('πεζός', 0.6912274360656738),\n ('ὑπατικός', 0.6909554600715637),\n ('ἐχθρός', 0.6905914545059204),\n ('φρουρός', 0.6897566914558411),\n ('Λοκρός', 0.68746018409729),\n ('σεβαστός', 0.6858641505241394),\n ('ἀγός', 0.6838741302490234),\n ('υἱωνός', 0.6837036609649658),\n ('Παρθικός', 0.6837010383605957),\n ('λαμπρός', 0.6815903782844543),\n ('καινός', 0.6812652945518494),\n ('μαστός', 0.6781455874443054),\n ('σηκός', 0.677165687084198),\n ('Σιληνός', 0.6765597462654114),\n ('ἁμός', 0.6765463948249817),\n ('εὐπάτωρ', 0.6758021712303162),\n ('κλυτός', 0.6753172874450684),\n ('νεκρός', 0.6735017895698547),\n ('κριός', 0.6732715368270874),\n ('ποθεινός', 0.6725687384605408),\n ('φανός', 0.6720560789108276),\n ('πιστός', 0.6713159680366516),\n ('ἀνεκτός', 0.6708787679672241),\n ('ξανθός', 0.6704007983207703),\n ('ναός', 0.6696914434432983),\n ('οὐρανός', 0.6687613129615784),\n ('κορμός', 0.6680054068565369),\n ('ἰός', 0.6667771935462952),\n ('μουσικός', 0.6663005948066711),\n ('παιδικός', 0.6662065386772156),\n ('Μηδικός', 0.6659235954284668),\n ('ἱστός', 0.6658729314804077),\n ('ξυστός', 0.6655735373497009),\n ('τερπνός', 0.6654266119003296),\n ('θησαυρός', 0.6651978492736816),\n ('λοχαγός', 0.6649007797241211),\n ('κυριακός', 0.6647322177886963),\n ('πυρός', 0.6619971990585327),\n ('κακός', 0.661868691444397),\n ('λιβανωτός', 0.6613757014274597),\n ('ξεστός', 0.6595128774642944),\n ('ἰσχυρός', 0.6594095230102539),\n ('ἀστός', 0.6593593955039978),\n ('σεβαστοῖς', 0.6589933037757874),\n ('πλατός', 0.6569702625274658),\n ('χριστός', 0.6563768982887268),\n ('στυγερός', 0.6558355689048767),\n ('πικρός', 0.6554489135742188),\n ('δοκός', 0.6541286110877991),\n ('βασιλικός', 0.6534923315048218),\n ('οὐδός', 0.6530147194862366),\n ('ἱκανός', 0.652947723865509),\n ('θε', 0.6528883576393127),\n ('ὁδός', 0.6524357199668884),\n ('χρησμός', 0.6517471075057983),\n ('σιμός', 0.6516885757446289),\n ('κωμῳδός', 0.6516304612159729)]"
     },
     "execution_count": 84,
     "metadata": {},
     "output_type": "execute_result"
    }
   ],
   "source": [
    "model.wv.most_similar(\"θεός\", topn=100)"
   ],
   "metadata": {
    "collapsed": false,
    "pycharm": {
     "name": "#%%\n"
    }
   }
  },
  {
   "cell_type": "markdown",
   "source": [],
   "metadata": {
    "collapsed": false,
    "pycharm": {
     "name": "#%% md\n"
    }
   }
  },
  {
   "cell_type": "code",
   "execution_count": 85,
   "outputs": [],
   "source": [
    "model.wv.save(\"../data/large_files/vectors_fasttext/model_full.wv\")"
   ],
   "metadata": {
    "collapsed": false,
    "pycharm": {
     "name": "#%%\n"
    }
   }
  },
  {
   "cell_type": "code",
   "execution_count": 87,
   "outputs": [
    {
     "name": "stdout",
     "output_type": "stream",
     "text": [
      "going to train model excluding -8 century\n",
      "going to train model excluding -7 century\n",
      "going to train model excluding -6 century\n",
      "going to train model excluding -5 century\n",
      "going to train model excluding -4 century\n",
      "going to train model excluding -3 century\n",
      "going to train model excluding -2 century\n",
      "going to train model excluding -1 century\n",
      "going to train model excluding 0 century\n",
      "going to train model excluding 1 century\n",
      "going to train model excluding 2 century\n",
      "going to train model excluding 3 century\n",
      "going to train model excluding 4 century\n",
      "going to train model excluding 5 century\n"
     ]
    }
   ],
   "source": [
    "for cent_to_exclude in cent_ids_samples.keys():\n",
    "    ids_list = []\n",
    "    for key in cent_ids_samples.keys():\n",
    "        if key != cent_to_exclude:\n",
    "            ids_list.extend(list(cent_ids_samples[key]))\n",
    "    ids_list = [str(id) for id in ids_list]\n",
    "    model = FastText(vector_size=150, window=3, negative=5, ns_exponent=1, sg=0, epochs=5, workers=8, min_n=3)\n",
    "    model.build_vocab_from_freq(word_freq=dict(freqs_tups[:N_types_covered]))\n",
    "    print(\"going to train model excluding {} century\".format(str(cent_to_exclude)))\n",
    "    model.train(corpus, total_examples=corpus_len, epochs=model.epochs)\n",
    "    model.wv.save(\"../data/large_files/vectors_fasttext/model_without_{}.wv\".format(str(cent_to_exclude)))"
   ],
   "metadata": {
    "collapsed": false,
    "pycharm": {
     "name": "#%%\n"
    }
   }
  },
  {
   "cell_type": "code",
   "execution_count": null,
   "outputs": [],
   "source": [],
   "metadata": {
    "collapsed": false,
    "pycharm": {
     "name": "#%%\n"
    }
   }
  },
  {
   "cell_type": "code",
   "execution_count": null,
   "outputs": [],
   "source": [],
   "metadata": {
    "collapsed": false,
    "pycharm": {
     "name": "#%%\n"
    }
   }
  }
 ],
 "metadata": {
  "kernelspec": {
   "name": "epimr_venv",
   "language": "python",
   "display_name": "epimr_venv"
  },
  "language_info": {
   "codemirror_mode": {
    "name": "ipython",
    "version": 2
   },
   "file_extension": ".py",
   "mimetype": "text/x-python",
   "name": "python",
   "nbconvert_exporter": "python",
   "pygments_lexer": "ipython2",
   "version": "2.7.6"
  }
 },
 "nbformat": 4,
 "nbformat_minor": 0
}