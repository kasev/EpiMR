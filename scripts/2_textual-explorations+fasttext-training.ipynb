{
 "cells": [
  {
   "cell_type": "code",
   "execution_count": 25,
   "metadata": {
    "collapsed": true,
    "pycharm": {
     "name": "#%%\n"
    }
   },
   "outputs": [],
   "source": [
    "import pandas as pd\n",
    "import geopandas as gpd\n",
    "import re\n",
    "import nltk\n",
    "from gensim.models.fasttext import FastText\n",
    "from gensim.models import Word2Vec\n",
    "import pickle"
   ]
  },
  {
   "cell_type": "code",
   "execution_count": 2,
   "outputs": [],
   "source": [
    "GIST = gpd.read_parquet(\"../data/large_files/GIST_geocontexts.parquet\")"
   ],
   "metadata": {
    "collapsed": false,
    "pycharm": {
     "name": "#%%\n"
    }
   }
  },
  {
   "cell_type": "code",
   "execution_count": 3,
   "outputs": [
    {
     "data": {
      "text/plain": "106898"
     },
     "execution_count": 3,
     "metadata": {},
     "output_type": "execute_result"
    }
   ],
   "source": [
    "GIST = GIST[GIST[\"random_dates\"].notnull()]\n",
    "len(GIST)"
   ],
   "metadata": {
    "collapsed": false,
    "pycharm": {
     "name": "#%%\n"
    }
   }
  },
  {
   "cell_type": "code",
   "execution_count": 4,
   "outputs": [
    {
     "data": {
      "text/plain": "1648240"
     },
     "execution_count": 4,
     "metadata": {},
     "output_type": "execute_result"
    }
   ],
   "source": [
    "GIST_lemmata_merged = [[l for l in inscr_lem[\"data\"]] for inscr_lem in GIST[\"lemmata\"].tolist()]\n",
    "GIST_lemmata_merged = [l for i in GIST_lemmata_merged for l in i]\n",
    "len(GIST_lemmata_merged)"
   ],
   "metadata": {
    "collapsed": false,
    "pycharm": {
     "name": "#%%\n"
    }
   }
  },
  {
   "cell_type": "code",
   "execution_count": 5,
   "outputs": [
    {
     "data": {
      "text/plain": "[('δῆμος', 14979),\n ('θεός', 13267),\n ('πόλις', 12561),\n ('ἄλλος', 11026),\n ('ἔτος', 9281),\n ('βουλή', 7875),\n ('ἔχω', 6723),\n ('υἱός', 6261),\n ('εἰμί', 6229),\n ('αὐτός', 6069),\n ('ἄρχω', 5996),\n ('μείς', 5943),\n ('δοκέω', 5934),\n ('δίδωμι', 5796),\n ('ποιέω', 5397),\n ('πᾶς', 5332),\n ('χαίρω', 5308),\n ('ἀγαθός', 5307),\n ('οὗτος', 5272),\n ('γίγνομαι', 5045),\n ('ἀνήρ', 4832),\n ('Ἀπόλλων', 4815),\n ('δραχμή', 4526),\n ('ἀνατίθημι', 4472),\n ('ἱερόν', 4217),\n ('βασιλεύς', 4086),\n ('γυνή', 4058),\n ('χάρις', 4042),\n ('Ζεύς', 4009),\n ('ἱερεύς', 3930),\n ('et', 3844),\n ('σεβαστός', 3752),\n ('μέγας', 3492),\n ('αὐτοκράτωρ', 3482),\n ('ἄρχων', 3389),\n ('νόμος', 3369),\n ('Καῖσαρ', 3332),\n ('εὐεργέτης', 3327),\n ('λέγω', 3288),\n ('ἴδιος', 3224),\n ('ἱερός', 3178),\n ('τιμή', 3097),\n ('Διονύσιος', 3087),\n ('ψήφισμα', 3044),\n ('ὁλκή', 3038),\n ('φιάλη', 2893),\n ('Ἀπολλώνιος', 2875),\n ('μήτηρ', 2843),\n ('τὶς', 2838),\n ('πατήρ', 2782),\n ('Ἀθηναῖος', 2757),\n ('χρύσεος', 2757),\n ('στήλη', 2627),\n ('στέφανος', 2591),\n ('Δελφοί', 2570),\n ('θυγάτηρ', 2565),\n ('ἀργύριον', 2553),\n ('τίθημι', 2527),\n ('δεῖνα', 2504),\n ('ταμίας', 2488),\n ('ἀποδίδωμι', 2433),\n ('ἀρετή', 2428),\n ('μνᾶ', 2419),\n ('μνήμη', 2412),\n ('πολύς', 2401),\n ('παῖς', 2363),\n ('ἀναγράφω', 2354),\n ('κοινός', 2321),\n ('κύριος', 2289),\n ('γῆ', 2267),\n ('πρῶτος', 2254),\n ('ἕκαστος', 2241),\n ('γραμματεύς', 2231),\n ('στεφανόω', 2151),\n ('ὠνή', 2137),\n ('φίλος', 2113),\n ('ἀνάθημα', 2090),\n ('ἔκγονος', 2046),\n ('εὔνοια', 2042),\n ('ὄνομα', 2031),\n ('ἐπαινέω', 2029),\n ('πρυτανεία', 2013),\n ('χρηστός', 2001),\n ('τυγχάνω', 1997),\n ('ἀγών', 1968),\n ('τόπος', 1957),\n ('τέκνον', 1915),\n ('χρόνος', 1912),\n ('Μᾶρκος', 1908),\n ('ἐλεύθερος', 1900),\n ('τύχη', 1889),\n ('ἵστημι', 1818),\n ('καλός', 1816),\n ('πατρίς', 1806),\n ('βούλομαι', 1744),\n ('Ἡρακλέης', 1743),\n ('ὑπάρχω', 1740),\n ('οἰκία', 1734),\n ('στεφάνωι', 1669),\n ('στρατηγός', 1657)]"
     },
     "execution_count": 5,
     "metadata": {},
     "output_type": "execute_result"
    }
   ],
   "source": [
    "freqs_tups = nltk.FreqDist(GIST_lemmata_merged).most_common()\n",
    "freqs_tups[:100]"
   ],
   "metadata": {
    "collapsed": false,
    "pycharm": {
     "name": "#%%\n"
    }
   }
  },
  {
   "cell_type": "code",
   "execution_count": 7,
   "outputs": [
    {
     "data": {
      "text/plain": "         lemma  count\n0         δίκη   1153\n1      δίκαιος    880\n2     δικαστής    606\n3   δικαιοσύνη    419\n4  δικαστήριον    221",
      "text/html": "<div>\n<style scoped>\n    .dataframe tbody tr th:only-of-type {\n        vertical-align: middle;\n    }\n\n    .dataframe tbody tr th {\n        vertical-align: top;\n    }\n\n    .dataframe thead th {\n        text-align: right;\n    }\n</style>\n<table border=\"1\" class=\"dataframe\">\n  <thead>\n    <tr style=\"text-align: right;\">\n      <th></th>\n      <th>lemma</th>\n      <th>count</th>\n    </tr>\n  </thead>\n  <tbody>\n    <tr>\n      <th>0</th>\n      <td>δίκη</td>\n      <td>1153</td>\n    </tr>\n    <tr>\n      <th>1</th>\n      <td>δίκαιος</td>\n      <td>880</td>\n    </tr>\n    <tr>\n      <th>2</th>\n      <td>δικαστής</td>\n      <td>606</td>\n    </tr>\n    <tr>\n      <th>3</th>\n      <td>δικαιοσύνη</td>\n      <td>419</td>\n    </tr>\n    <tr>\n      <th>4</th>\n      <td>δικαστήριον</td>\n      <td>221</td>\n    </tr>\n  </tbody>\n</table>\n</div>"
     },
     "execution_count": 7,
     "metadata": {},
     "output_type": "execute_result"
    }
   ],
   "source": [
    "match_pattern = \"(κατα|ὑπό|ἐκ|ἀ|ἄ|ἀντί|^)δ[ι|ί]κ(α|ά|ο|ό|ί|έ|η)(.+)?\"\n",
    "dik_words = [word for word in GIST_lemmata_merged if re.search(match_pattern, word)]\n",
    "dik_words_df = pd.DataFrame(nltk.FreqDist(dik_words).most_common(), columns=[\"lemma\", \"count\"])\n",
    "dik_words_df.head(5)"
   ],
   "metadata": {
    "collapsed": false,
    "pycharm": {
     "name": "#%%\n"
    }
   }
  },
  {
   "cell_type": "code",
   "execution_count": 8,
   "outputs": [
    {
     "data": {
      "text/plain": "               lemma  count\n0               δίκη   1153\n1            δίκαιος    880\n2           δικαστής    606\n3         δικαιοσύνη    419\n4        δικαστήριον    221\n..               ...    ...\n95         δικαστάνς      3\n96  δικαιοπραγήσαντα      3\n97          δικάδδεν      3\n98         δικαδδέτο      3\n99            δίκανς      3\n\n[100 rows x 2 columns]",
      "text/html": "<div>\n<style scoped>\n    .dataframe tbody tr th:only-of-type {\n        vertical-align: middle;\n    }\n\n    .dataframe tbody tr th {\n        vertical-align: top;\n    }\n\n    .dataframe thead th {\n        text-align: right;\n    }\n</style>\n<table border=\"1\" class=\"dataframe\">\n  <thead>\n    <tr style=\"text-align: right;\">\n      <th></th>\n      <th>lemma</th>\n      <th>count</th>\n    </tr>\n  </thead>\n  <tbody>\n    <tr>\n      <th>0</th>\n      <td>δίκη</td>\n      <td>1153</td>\n    </tr>\n    <tr>\n      <th>1</th>\n      <td>δίκαιος</td>\n      <td>880</td>\n    </tr>\n    <tr>\n      <th>2</th>\n      <td>δικαστής</td>\n      <td>606</td>\n    </tr>\n    <tr>\n      <th>3</th>\n      <td>δικαιοσύνη</td>\n      <td>419</td>\n    </tr>\n    <tr>\n      <th>4</th>\n      <td>δικαστήριον</td>\n      <td>221</td>\n    </tr>\n    <tr>\n      <th>...</th>\n      <td>...</td>\n      <td>...</td>\n    </tr>\n    <tr>\n      <th>95</th>\n      <td>δικαστάνς</td>\n      <td>3</td>\n    </tr>\n    <tr>\n      <th>96</th>\n      <td>δικαιοπραγήσαντα</td>\n      <td>3</td>\n    </tr>\n    <tr>\n      <th>97</th>\n      <td>δικάδδεν</td>\n      <td>3</td>\n    </tr>\n    <tr>\n      <th>98</th>\n      <td>δικαδδέτο</td>\n      <td>3</td>\n    </tr>\n    <tr>\n      <th>99</th>\n      <td>δίκανς</td>\n      <td>3</td>\n    </tr>\n  </tbody>\n</table>\n<p>100 rows × 2 columns</p>\n</div>"
     },
     "execution_count": 8,
     "metadata": {},
     "output_type": "execute_result"
    }
   ],
   "source": [
    "dik_words_df[:100]"
   ],
   "metadata": {
    "collapsed": false,
    "pycharm": {
     "name": "#%%\n"
    }
   }
  },
  {
   "cell_type": "code",
   "execution_count": 9,
   "outputs": [],
   "source": [
    "def get_ngrams(lemmata_data):\n",
    "    lemmata_list = lemmata_data[\"data\"]\n",
    "    ngrams = []\n",
    "    try:\n",
    "        bigrams = list(nltk.ngrams(lemmata_list, 2))\n",
    "        trigrams = list(nltk.ngrams(lemmata_list, 3, pad_right=True, pad_left=True))\n",
    "        fivegrams = list(nltk.ngrams(lemmata_list, 5, pad_right=True, pad_left=True))\n",
    "        ngrams_merged = bigrams + trigrams + fivegrams\n",
    "        ngrams_merged = [[i for i in ngram if i is not None] for ngram in ngrams_merged]\n",
    "        ngrams_merged = [ngram for ngram in ngrams_merged if (len(ngram) > 1)]\n",
    "    except:\n",
    "        ngrams_merged = [[]]\n",
    "    return ngrams_merged\n"
   ],
   "metadata": {
    "collapsed": false,
    "pycharm": {
     "name": "#%%\n"
    }
   }
  },
  {
   "cell_type": "code",
   "execution_count": 10,
   "outputs": [
    {
     "data": {
      "text/plain": "[['word1', 'word2'],\n ['word2', 'word3'],\n ['word3', 'word4'],\n ['word1', 'word2'],\n ['word1', 'word2', 'word3'],\n ['word2', 'word3', 'word4'],\n ['word3', 'word4'],\n ['word1', 'word2'],\n ['word1', 'word2', 'word3'],\n ['word1', 'word2', 'word3', 'word4'],\n ['word1', 'word2', 'word3', 'word4'],\n ['word2', 'word3', 'word4'],\n ['word3', 'word4']]"
     },
     "execution_count": 10,
     "metadata": {},
     "output_type": "execute_result"
    }
   ],
   "source": [
    "get_ngrams({\"data\" : [\"word1\", \"word2\", \"word3\", \"word4\"]})"
   ],
   "metadata": {
    "collapsed": false,
    "pycharm": {
     "name": "#%%\n"
    }
   }
  },
  {
   "cell_type": "code",
   "execution_count": 11,
   "outputs": [
    {
     "name": "stdout",
     "output_type": "stream",
     "text": [
      "CPU times: user 4.36 s, sys: 222 ms, total: 4.58 s\n",
      "Wall time: 4.81 s\n"
     ]
    }
   ],
   "source": [
    "%%time\n",
    "GIST[\"ngrams\"] = GIST[\"lemmata\"].apply(get_ngrams)"
   ],
   "metadata": {
    "collapsed": false,
    "pycharm": {
     "name": "#%%\n"
    }
   }
  },
  {
   "cell_type": "code",
   "execution_count": 12,
   "outputs": [
    {
     "data": {
      "text/plain": "   PHI_ID  reference                                           metadata  \\\n0       1   IG I³\\n1  Att. — Ath.: Akr. — stoich. 35 — c. 510-500 a....   \n1       4   IG I³\\n4                       Att. — stoich. 38 — 485/4 a.   \n2       5   IG I³\\n5                                   Att. — c. 500 a.   \n3       6   IG I³\\n6                 Att. — stoich. 23/11 — ante 460 a.   \n4      11  IG I³\\n11              Att. — stoich. 48 — ante med. s. V a.   \n\n   lines                                           text_raw  \\\n0   12.0  ἔδοχσεν το͂ι δέμοι· τ̣[ὸς ἐ Σ]αλαμ̣[ῖνι κλερόχ...   \n1   56.0  [․․․․․․․․․․․․․․․․․․38․․․․․․․․․․․․․․․․․․]\\n[․․․...   \n2    6.0  [ἔδοχσε]ν [⋮ τε͂ι βολε͂ι] ⋮ καὶ [τ]ο͂ι δέμοι ⋮...   \n3  160.0  — — — — — — — — — — — — —\\n[․․․․․․15․․․․․․․] δ...   \n4   22.0  [χσυμμαχία καὶ ℎόρ]κ̣ο̣[ς] Ἀ̣[θ]ε̣ν̣α̣[ίον κα]...   \n\n                                           text_iphi  \\\n0  εδοχσεν τοι δεμοι τ[ος ε σ]αλαμ[ινι κλεροχ]ος ...   \n1  [--------------------------------------] [----...   \n2  [εδοχσε]ν [ τει βολει] και [τ]οι δεμοι οτε παρ...   \n3  ------------- [---------------] δραχμεισ[ι ---...   \n4  [χσυμμαχια και ορ]κο[ς] α[θ]ενα[ιον κα]ι εγεστ...   \n\n                             clean_text_conservative  \\\n0  ἔδοχσεν το͂ι δέμοι ταλαμος οἰκε͂ν ἐᾶ Σαλαμῖνι ...   \n1  δέ τις αν ἒ φρορὰν μ ντέκοντα δχμὰς τ ας ℎες π...   \n2  ν καὶ ο͂ι δέμοι ℎότε Παραιβάτες λεια θν τὸς ℎι...   \n3  δραχμε͂ιστες τὸς ιο μενος δεμο το͂ν πόλεο οκε͂...   \n4  κο Ἀεναὶ Ἐγεσταί ο͂ι ἐπρυτάνευε οΙ ον ἐ͂ρχε Ἀ...   \n\n                        clean_text_interpretive_word  \\\n0  ἔδοχσεν το͂ι δέμοι τὸς ἐ Σαλαμῖνι κλερόχος οἰκ...   \n1  ἐὰν δέ τις αν ἒ φρορὰν μὲ πεντέκοντα δραχμὰς τ...   \n2  ἔδοχσεν τε͂ι βολε͂ι καὶ το͂ι δέμοι ℎότε Παραιβ...   \n3  δραχμε͂ισι τες τὸς ιο μενος δεμο το͂ν πόλεον δ...   \n4  χσυμμαχία καὶ ℎόρκος Ἀθεναίον καὶ Ἐγεσταίον ἔδ...   \n\n                                             lemmata           raw_date  ...  \\\n0  {'data': ['ἔδοχσεν', 'δέμοι', 'Σαλαμίς', 'κλερ...     c. 510-500 a.   ...   \n1  {'data': ['τὶς', 'φρορὰν', 'πεντέκοντα', 'δραχ...           485/4 a.  ...   \n2  {'data': ['ἔδοχσεν', 'τει', 'βολει', 'δέμοι', ...          c. 500 a.  ...   \n3  {'data': ['δραχμεισι', 'τες', 'μένος', 'δεμο',...        ante 460 a.  ...   \n4  {'data': ['χσυμμαχία', 'ὅρκος', 'ἀθεναίον', 'ἐ...  ante med. s. V a.  ...   \n\n   TMgeo_name                   geometry         name           polis_geo  \\\n0     Athenai  POINT (23.72399 37.97275)  361-Athenai  [23.7278, 37.9778]   \n1     Athenai  POINT (23.72399 37.97275)  361-Athenai  [23.7278, 37.9778]   \n2     Eleusis  POINT (23.54150 38.04414)  362-Eleusis  [23.5423, 38.0394]   \n3     Eleusis  POINT (23.54150 38.04414)  362-Eleusis  [23.5423, 38.0394]   \n4     Athenai  POINT (23.72399 37.97275)  361-Athenai  [23.7278, 37.9778]   \n\n   polis_dist polis? duration  \\\n0      653.43   True     13.0   \n1      653.43   True      2.0   \n2      530.31   True     11.0   \n3      530.31   True      NaN   \n4      653.43   True      NaN   \n\n                                        random_dates greece?  \\\n0  [-510, -504, -510, -507, -506, -500, -508, -50...    True   \n1  [-485, -485, -485, -484, -485, -484, -485, -48...    True   \n2  [-498, -502, -504, -503, -496, -504, -496, -49...    True   \n3  [-461, -461, -461, -461, -461, -461, -461, -46...    True   \n4  [-456, -456, -456, -456, -456, -456, -456, -45...    True   \n\n                                              ngrams  \n0  [[ἔδοχσεν, δέμοι], [δέμοι, Σαλαμίς], [Σαλαμίς,...  \n1  [[τὶς, φρορὰν], [φρορὰν, πεντέκοντα], [πεντέκο...  \n2  [[ἔδοχσεν, τει], [τει, βολει], [βολει, δέμοι],...  \n3  [[δραχμεισι, τες], [τες, μένος], [μένος, δεμο]...  \n4  [[χσυμμαχία, ὅρκος], [ὅρκος, ἀθεναίον], [ἀθενα...  \n\n[5 rows x 37 columns]",
      "text/html": "<div>\n<style scoped>\n    .dataframe tbody tr th:only-of-type {\n        vertical-align: middle;\n    }\n\n    .dataframe tbody tr th {\n        vertical-align: top;\n    }\n\n    .dataframe thead th {\n        text-align: right;\n    }\n</style>\n<table border=\"1\" class=\"dataframe\">\n  <thead>\n    <tr style=\"text-align: right;\">\n      <th></th>\n      <th>PHI_ID</th>\n      <th>reference</th>\n      <th>metadata</th>\n      <th>lines</th>\n      <th>text_raw</th>\n      <th>text_iphi</th>\n      <th>clean_text_conservative</th>\n      <th>clean_text_interpretive_word</th>\n      <th>lemmata</th>\n      <th>raw_date</th>\n      <th>...</th>\n      <th>TMgeo_name</th>\n      <th>geometry</th>\n      <th>name</th>\n      <th>polis_geo</th>\n      <th>polis_dist</th>\n      <th>polis?</th>\n      <th>duration</th>\n      <th>random_dates</th>\n      <th>greece?</th>\n      <th>ngrams</th>\n    </tr>\n  </thead>\n  <tbody>\n    <tr>\n      <th>0</th>\n      <td>1</td>\n      <td>IG I³\\n1</td>\n      <td>Att. — Ath.: Akr. — stoich. 35 — c. 510-500 a....</td>\n      <td>12.0</td>\n      <td>ἔδοχσεν το͂ι δέμοι· τ̣[ὸς ἐ Σ]αλαμ̣[ῖνι κλερόχ...</td>\n      <td>εδοχσεν τοι δεμοι τ[ος ε σ]αλαμ[ινι κλεροχ]ος ...</td>\n      <td>ἔδοχσεν το͂ι δέμοι ταλαμος οἰκε͂ν ἐᾶ Σαλαμῖνι ...</td>\n      <td>ἔδοχσεν το͂ι δέμοι τὸς ἐ Σαλαμῖνι κλερόχος οἰκ...</td>\n      <td>{'data': ['ἔδοχσεν', 'δέμοι', 'Σαλαμίς', 'κλερ...</td>\n      <td>c. 510-500 a.</td>\n      <td>...</td>\n      <td>Athenai</td>\n      <td>POINT (23.72399 37.97275)</td>\n      <td>361-Athenai</td>\n      <td>[23.7278, 37.9778]</td>\n      <td>653.43</td>\n      <td>True</td>\n      <td>13.0</td>\n      <td>[-510, -504, -510, -507, -506, -500, -508, -50...</td>\n      <td>True</td>\n      <td>[[ἔδοχσεν, δέμοι], [δέμοι, Σαλαμίς], [Σαλαμίς,...</td>\n    </tr>\n    <tr>\n      <th>1</th>\n      <td>4</td>\n      <td>IG I³\\n4</td>\n      <td>Att. — stoich. 38 — 485/4 a.</td>\n      <td>56.0</td>\n      <td>[․․․․․․․․․․․․․․․․․․38․․․․․․․․․․․․․․․․․․]\\n[․․․...</td>\n      <td>[--------------------------------------] [----...</td>\n      <td>δέ τις αν ἒ φρορὰν μ ντέκοντα δχμὰς τ ας ℎες π...</td>\n      <td>ἐὰν δέ τις αν ἒ φρορὰν μὲ πεντέκοντα δραχμὰς τ...</td>\n      <td>{'data': ['τὶς', 'φρορὰν', 'πεντέκοντα', 'δραχ...</td>\n      <td>485/4 a.</td>\n      <td>...</td>\n      <td>Athenai</td>\n      <td>POINT (23.72399 37.97275)</td>\n      <td>361-Athenai</td>\n      <td>[23.7278, 37.9778]</td>\n      <td>653.43</td>\n      <td>True</td>\n      <td>2.0</td>\n      <td>[-485, -485, -485, -484, -485, -484, -485, -48...</td>\n      <td>True</td>\n      <td>[[τὶς, φρορὰν], [φρορὰν, πεντέκοντα], [πεντέκο...</td>\n    </tr>\n    <tr>\n      <th>2</th>\n      <td>5</td>\n      <td>IG I³\\n5</td>\n      <td>Att. — c. 500 a.</td>\n      <td>6.0</td>\n      <td>[ἔδοχσε]ν [⋮ τε͂ι βολε͂ι] ⋮ καὶ [τ]ο͂ι δέμοι ⋮...</td>\n      <td>[εδοχσε]ν [ τει βολει] και [τ]οι δεμοι οτε παρ...</td>\n      <td>ν καὶ ο͂ι δέμοι ℎότε Παραιβάτες λεια θν τὸς ℎι...</td>\n      <td>ἔδοχσεν τε͂ι βολε͂ι καὶ το͂ι δέμοι ℎότε Παραιβ...</td>\n      <td>{'data': ['ἔδοχσεν', 'τει', 'βολει', 'δέμοι', ...</td>\n      <td>c. 500 a.</td>\n      <td>...</td>\n      <td>Eleusis</td>\n      <td>POINT (23.54150 38.04414)</td>\n      <td>362-Eleusis</td>\n      <td>[23.5423, 38.0394]</td>\n      <td>530.31</td>\n      <td>True</td>\n      <td>11.0</td>\n      <td>[-498, -502, -504, -503, -496, -504, -496, -49...</td>\n      <td>True</td>\n      <td>[[ἔδοχσεν, τει], [τει, βολει], [βολει, δέμοι],...</td>\n    </tr>\n    <tr>\n      <th>3</th>\n      <td>6</td>\n      <td>IG I³\\n6</td>\n      <td>Att. — stoich. 23/11 — ante 460 a.</td>\n      <td>160.0</td>\n      <td>— — — — — — — — — — — — —\\n[․․․․․․15․․․․․․․] δ...</td>\n      <td>------------- [---------------] δραχμεισ[ι ---...</td>\n      <td>δραχμε͂ιστες τὸς ιο μενος δεμο το͂ν πόλεο οκε͂...</td>\n      <td>δραχμε͂ισι τες τὸς ιο μενος δεμο το͂ν πόλεον δ...</td>\n      <td>{'data': ['δραχμεισι', 'τες', 'μένος', 'δεμο',...</td>\n      <td>ante 460 a.</td>\n      <td>...</td>\n      <td>Eleusis</td>\n      <td>POINT (23.54150 38.04414)</td>\n      <td>362-Eleusis</td>\n      <td>[23.5423, 38.0394]</td>\n      <td>530.31</td>\n      <td>True</td>\n      <td>NaN</td>\n      <td>[-461, -461, -461, -461, -461, -461, -461, -46...</td>\n      <td>True</td>\n      <td>[[δραχμεισι, τες], [τες, μένος], [μένος, δεμο]...</td>\n    </tr>\n    <tr>\n      <th>4</th>\n      <td>11</td>\n      <td>IG I³\\n11</td>\n      <td>Att. — stoich. 48 — ante med. s. V a.</td>\n      <td>22.0</td>\n      <td>[χσυμμαχία καὶ ℎόρ]κ̣ο̣[ς] Ἀ̣[θ]ε̣ν̣α̣[ίον κα]...</td>\n      <td>[χσυμμαχια και ορ]κο[ς] α[θ]ενα[ιον κα]ι εγεστ...</td>\n      <td>κο Ἀεναὶ Ἐγεσταί ο͂ι ἐπρυτάνευε οΙ ον ἐ͂ρχε Ἀ...</td>\n      <td>χσυμμαχία καὶ ℎόρκος Ἀθεναίον καὶ Ἐγεσταίον ἔδ...</td>\n      <td>{'data': ['χσυμμαχία', 'ὅρκος', 'ἀθεναίον', 'ἐ...</td>\n      <td>ante med. s. V a.</td>\n      <td>...</td>\n      <td>Athenai</td>\n      <td>POINT (23.72399 37.97275)</td>\n      <td>361-Athenai</td>\n      <td>[23.7278, 37.9778]</td>\n      <td>653.43</td>\n      <td>True</td>\n      <td>NaN</td>\n      <td>[-456, -456, -456, -456, -456, -456, -456, -45...</td>\n      <td>True</td>\n      <td>[[χσυμμαχία, ὅρκος], [ὅρκος, ἀθεναίον], [ἀθενα...</td>\n    </tr>\n  </tbody>\n</table>\n<p>5 rows × 37 columns</p>\n</div>"
     },
     "execution_count": 12,
     "metadata": {},
     "output_type": "execute_result"
    }
   ],
   "source": [
    "GIST.head(5)"
   ],
   "metadata": {
    "collapsed": false,
    "pycharm": {
     "name": "#%%\n"
    }
   }
  },
  {
   "cell_type": "code",
   "execution_count": 23,
   "outputs": [
    {
     "name": "stdout",
     "output_type": "stream",
     "text": [
      "CPU times: user 17 s, sys: 733 ms, total: 17.7 s\n",
      "Wall time: 18.8 s\n"
     ]
    }
   ],
   "source": [
    "%%time\n",
    "f = open(\"../data/large_files/corpus_ngrams.txt\", \"w\", encoding=\"utf-8\")\n",
    "line = 0\n",
    "ids_lines = {}\n",
    "for n in range(len(GIST)):\n",
    "    id = str(GIST.iloc[n][\"PHI_ID\"])\n",
    "    try:\n",
    "        ngrams = [\" \".join(ngram) for ngram in GIST.iloc[n][\"ngrams\"]]\n",
    "        f.writelines(\"\\n\".join(ngrams)+\"\\n\")\n",
    "        ids_lines[id] = (line, line+len(ngrams))\n",
    "        line += len(ngrams)\n",
    "    except:\n",
    "        print(id)"
   ],
   "metadata": {
    "collapsed": false,
    "pycharm": {
     "name": "#%%\n"
    }
   }
  },
  {
   "cell_type": "code",
   "execution_count": 26,
   "outputs": [],
   "source": [
    "pickle.dump(ids_lines, open(\"../data/ids_lines.pickle\", \"wb\"))"
   ],
   "metadata": {
    "collapsed": false,
    "pycharm": {
     "name": "#%%\n"
    }
   }
  },
  {
   "cell_type": "code",
   "execution_count": 27,
   "outputs": [],
   "source": [
    "class NgramCorpus:\n",
    "    def __iter__(self):\n",
    "        with open(\"../data/large_files/corpus_ngrams.txt\", \"r\") as f:\n",
    "            lines = f.readlines()\n",
    "            for phi_id in ids_list:\n",
    "                for line in lines[ids_lines[phi_id][0] : ids_lines[phi_id][1]]:\n",
    "                    yield line.split()"
   ],
   "metadata": {
    "collapsed": false,
    "pycharm": {
     "name": "#%%\n"
    }
   }
  },
  {
   "cell_type": "code",
   "execution_count": 28,
   "outputs": [],
   "source": [
    "ids_list = [\"1\",\"4\",\"15\",\"17\"]"
   ],
   "metadata": {
    "collapsed": false,
    "pycharm": {
     "name": "#%%\n"
    }
   }
  },
  {
   "cell_type": "code",
   "execution_count": 29,
   "outputs": [],
   "source": [
    "corpus = NgramCorpus()"
   ],
   "metadata": {
    "collapsed": false,
    "pycharm": {
     "name": "#%%\n"
    }
   }
  },
  {
   "cell_type": "code",
   "execution_count": 30,
   "outputs": [
    {
     "data": {
      "text/plain": "904"
     },
     "execution_count": 30,
     "metadata": {},
     "output_type": "execute_result"
    }
   ],
   "source": [
    "len([doc for doc in corpus])"
   ],
   "metadata": {
    "collapsed": false,
    "pycharm": {
     "name": "#%%\n"
    }
   }
  },
  {
   "cell_type": "code",
   "execution_count": 31,
   "outputs": [
    {
     "data": {
      "text/plain": "6604"
     },
     "execution_count": 31,
     "metadata": {},
     "output_type": "execute_result"
    }
   ],
   "source": [
    "ids_list = GIST[GIST[\"random_dates\"].apply(lambda x: -500 < x[0] < -401)][\"PHI_ID\"].astype(\"str\").tolist()\n",
    "len(ids_list)"
   ],
   "metadata": {
    "collapsed": false,
    "pycharm": {
     "name": "#%%\n"
    }
   }
  },
  {
   "cell_type": "code",
   "execution_count": 32,
   "outputs": [],
   "source": [
    "corpus = NgramCorpus()"
   ],
   "metadata": {
    "collapsed": false,
    "pycharm": {
     "name": "#%%\n"
    }
   }
  },
  {
   "cell_type": "code",
   "execution_count": 33,
   "outputs": [
    {
     "data": {
      "text/plain": "133348"
     },
     "execution_count": 33,
     "metadata": {},
     "output_type": "execute_result"
    }
   ],
   "source": [
    "corpus_len = len([doc for doc in corpus])\n",
    "corpus_len"
   ],
   "metadata": {
    "collapsed": false,
    "pycharm": {
     "name": "#%%\n"
    }
   }
  },
  {
   "cell_type": "code",
   "execution_count": 34,
   "outputs": [
    {
     "data": {
      "text/plain": "1648240"
     },
     "execution_count": 34,
     "metadata": {},
     "output_type": "execute_result"
    }
   ],
   "source": [
    "N_tokens = sum([el[1] for el in freqs_tups])\n",
    "N_tokens"
   ],
   "metadata": {
    "collapsed": false,
    "pycharm": {
     "name": "#%%\n"
    }
   }
  },
  {
   "cell_type": "code",
   "execution_count": 35,
   "outputs": [
    {
     "data": {
      "text/plain": "214400"
     },
     "execution_count": 35,
     "metadata": {},
     "output_type": "execute_result"
    }
   ],
   "source": [
    "N_types = len(freqs_tups)\n",
    "N_types"
   ],
   "metadata": {
    "collapsed": false,
    "pycharm": {
     "name": "#%%\n"
    }
   }
  },
  {
   "cell_type": "code",
   "execution_count": 36,
   "outputs": [
    {
     "data": {
      "text/plain": "0.658017036353929"
     },
     "execution_count": 36,
     "metadata": {},
     "output_type": "execute_result"
    }
   ],
   "source": [
    "N_types_covered = 5000\n",
    "N_tokens_covered = sum([el[1] for el in freqs_tups[:N_types_covered]])\n",
    "N_tokens_covered / N_tokens"
   ],
   "metadata": {
    "collapsed": false,
    "pycharm": {
     "name": "#%%\n"
    }
   }
  },
  {
   "cell_type": "code",
   "execution_count": 40,
   "outputs": [],
   "source": [
    "model = Word2Vec(vector_size=150, window=3, negative=5, ns_exponent=1, sg=0, epochs=10, workers=8)"
   ],
   "metadata": {
    "collapsed": false,
    "pycharm": {
     "name": "#%%\n"
    }
   }
  },
  {
   "cell_type": "code",
   "execution_count": 41,
   "outputs": [],
   "source": [
    "model.build_vocab_from_freq(word_freq=dict(freqs_tups[:N_types_covered]))"
   ],
   "metadata": {
    "collapsed": false,
    "pycharm": {
     "name": "#%%\n"
    }
   }
  },
  {
   "cell_type": "code",
   "execution_count": 42,
   "outputs": [
    {
     "name": "stdout",
     "output_type": "stream",
     "text": [
      "CPU times: user 11.4 s, sys: 1.93 s, total: 13.3 s\n",
      "Wall time: 13.3 s\n"
     ]
    },
    {
     "data": {
      "text/plain": "(2138767, 4125460)"
     },
     "execution_count": 42,
     "metadata": {},
     "output_type": "execute_result"
    }
   ],
   "source": [
    "%%time\n",
    "model.train(corpus, total_examples=corpus_len, epochs=model.epochs)"
   ],
   "metadata": {
    "collapsed": false,
    "pycharm": {
     "name": "#%%\n"
    }
   }
  },
  {
   "cell_type": "code",
   "execution_count": 43,
   "outputs": [
    {
     "data": {
      "text/plain": "[('λαμπρός', 0.677864670753479),\n ('παρθικοῦ', 0.6593357920646667),\n ('ἔνδοξος', 0.6470581889152527),\n ('αὐτοκράτωρ', 0.6440725922584534),\n ('ἁδριανοῦ', 0.6383450031280518),\n ('μέγας', 0.6350281834602356),\n ('ἐπιφανής', 0.6306490302085876),\n ('ἀρχιερεύς', 0.6289092898368835),\n ('σεβαστός', 0.6269497275352478),\n ('εὐχαριστέω', 0.6178341507911682)]"
     },
     "execution_count": 43,
     "metadata": {},
     "output_type": "execute_result"
    }
   ],
   "source": [
    "model.wv.most_similar(\"θεός\")"
   ],
   "metadata": {
    "collapsed": false,
    "pycharm": {
     "name": "#%%\n"
    }
   }
  },
  {
   "cell_type": "code",
   "execution_count": 46,
   "outputs": [
    {
     "data": {
      "text/plain": "(1069143, 2062730)"
     },
     "execution_count": 46,
     "metadata": {},
     "output_type": "execute_result"
    }
   ],
   "source": [
    "model = FastText(vector_size=150, window=3, negative=5, ns_exponent=1, sg=0, epochs=5, workers=8)\n",
    "model.build_vocab_from_freq(word_freq=dict(freqs_tups[:N_types_covered]))\n",
    "model.train(corpus, total_examples=corpus_len, epochs=model.epochs)"
   ],
   "metadata": {
    "collapsed": false,
    "pycharm": {
     "name": "#%%\n"
    }
   }
  },
  {
   "cell_type": "code",
   "execution_count": 47,
   "outputs": [
    {
     "data": {
      "text/plain": "[('ἐτεός', 0.9733932018280029),\n ('θνητός', 0.9689429998397827),\n ('ἀετός', 0.9668442010879517),\n ('ἰτός', 0.9665151238441467),\n ('κιβωτός', 0.9646576642990112),\n ('ἰός', 0.9639209508895874),\n ('βροτός', 0.9637974500656128),\n ('σεμνός', 0.9629839062690735),\n ('ἁγνός', 0.9618391394615173),\n ('ἐμός', 0.9589904546737671)]"
     },
     "execution_count": 47,
     "metadata": {},
     "output_type": "execute_result"
    }
   ],
   "source": [
    "model.wv.most_similar(\"θεός\")"
   ],
   "metadata": {
    "collapsed": false,
    "pycharm": {
     "name": "#%%\n"
    }
   }
  },
  {
   "cell_type": "markdown",
   "source": [
    "# Developing century excluding models"
   ],
   "metadata": {
    "collapsed": false,
    "pycharm": {
     "name": "#%% md\n"
    }
   }
  },
  {
   "cell_type": "code",
   "execution_count": 51,
   "outputs": [
    {
     "name": "stdout",
     "output_type": "stream",
     "text": [
      "-800 -701 63\n",
      "-700 -601 382\n",
      "-600 -501 2623\n",
      "-500 -401 6604\n",
      "-400 -301 9668\n",
      "-300 -201 14232\n",
      "-200 -101 13448\n",
      "-100 -1 8443\n",
      "1 100 9893\n",
      "101 200 15986\n",
      "201 300 11913\n",
      "301 400 4897\n"
     ]
    }
   ],
   "source": [
    "for cent in range(-8, 4):\n",
    "    if cent < 0:\n",
    "        cent_start, cent_end = cent * 100, cent * 100 + 99\n",
    "    else:\n",
    "        cent_start, cent_end = cent * 100 + 1, cent * 100 + 100\n",
    "    subset = GIST[GIST[\"random_dates\"].apply(lambda x: cent_start < x[0] < cent_end)]\n",
    "    print(cent_start, cent_end, (len(subset)))\n"
   ],
   "metadata": {
    "collapsed": false,
    "pycharm": {
     "name": "#%%\n"
    }
   }
  },
  {
   "cell_type": "code",
   "execution_count": 52,
   "outputs": [],
   "source": [
    "cent_ids_samples = {}\n",
    "for cent in range(-8, 4):\n",
    "    if cent < 0:\n",
    "        cent_start, cent_end = cent * 100, cent * 100 + 99\n",
    "    else:\n",
    "        cent_start, cent_end = cent * 100 + 1, cent * 100 + 100\n",
    "    subset_ids = GIST[GIST[\"random_dates\"].apply(lambda x: cent_start < x[0] < cent_end)][\"PHI_ID\"]\n",
    "    subset_sample_ids = subset_ids.sample(1000, replace=True)\n",
    "    cent_ids_samples[cent] = subset_sample_ids"
   ],
   "metadata": {
    "collapsed": false,
    "pycharm": {
     "name": "#%%\n"
    }
   }
  },
  {
   "cell_type": "code",
   "execution_count": 53,
   "outputs": [],
   "source": [
    "# full_model\n",
    "ids_list = []\n",
    "for cent in cent_ids_samples.keys():\n",
    "    ids_list.extend(list(cent_ids_samples[cent]))"
   ],
   "metadata": {
    "collapsed": false,
    "pycharm": {
     "name": "#%%\n"
    }
   }
  },
  {
   "cell_type": "code",
   "execution_count": 54,
   "outputs": [
    {
     "data": {
      "text/plain": "12000"
     },
     "execution_count": 54,
     "metadata": {},
     "output_type": "execute_result"
    }
   ],
   "source": [
    "len(ids_list)"
   ],
   "metadata": {
    "collapsed": false,
    "pycharm": {
     "name": "#%%\n"
    }
   }
  },
  {
   "cell_type": "code",
   "execution_count": 58,
   "outputs": [],
   "source": [
    "ids_list = [str(id) for id in ids_list]"
   ],
   "metadata": {
    "collapsed": false,
    "pycharm": {
     "name": "#%%\n"
    }
   }
  },
  {
   "cell_type": "code",
   "execution_count": 59,
   "outputs": [],
   "source": [
    "corpus = NgramCorpus()"
   ],
   "metadata": {
    "collapsed": false,
    "pycharm": {
     "name": "#%%\n"
    }
   }
  },
  {
   "cell_type": "code",
   "execution_count": 60,
   "outputs": [
    {
     "name": "stdout",
     "output_type": "stream",
     "text": [
      "CPU times: user 20.6 s, sys: 1.79 s, total: 22.4 s\n",
      "Wall time: 11.1 s\n"
     ]
    },
    {
     "data": {
      "text/plain": "(3930072, 6515085)"
     },
     "execution_count": 60,
     "metadata": {},
     "output_type": "execute_result"
    }
   ],
   "source": [
    "%%time\n",
    "model = FastText(vector_size=150, window=3, negative=5, ns_exponent=1, sg=0, epochs=5, workers=8)\n",
    "model.build_vocab_from_freq(word_freq=dict(freqs_tups[:N_types_covered]))\n",
    "model.train(corpus, total_examples=corpus_len, epochs=model.epochs)"
   ],
   "metadata": {
    "collapsed": false,
    "pycharm": {
     "name": "#%%\n"
    }
   }
  },
  {
   "cell_type": "code",
   "execution_count": 68,
   "outputs": [
    {
     "data": {
      "text/plain": "[('ἐτεός', 0.8429304957389832),\n ('τεός', 0.7971290349960327),\n ('κολωνός', 0.7763241529464722),\n ('Σιληνός', 0.7631608247756958),\n ('ληνός', 0.7523295879364014),\n ('ἁγνός', 0.7456226944923401),\n ('σεμνός', 0.7390210628509521),\n ('οὐρανός', 0.7284296751022339),\n ('μανός', 0.7266390919685364),\n ('ἰατρός', 0.7261731028556824),\n ('ἱκανός', 0.7149150371551514),\n ('δεινός', 0.7129787802696228),\n ('ποθεινός', 0.7086061835289001),\n ('υἱωνός', 0.7081373929977417),\n ('ἑός', 0.7078588604927063),\n ('ἱλαρός', 0.7071196436882019),\n ('κενός', 0.7067139148712158),\n ('ἀγλαός', 0.7063443660736084),\n ('θεαρός', 0.7061429023742676),\n ('ζοός', 0.7020440101623535),\n ('ὀρός', 0.7020096778869629),\n ('φανός', 0.7014251351356506),\n ('λυγρός', 0.7005560994148254),\n ('θοός', 0.6989668607711792),\n ('λαός', 0.6980156898498535),\n ('ζωός', 0.6941527128219604),\n ('κωμῳδός', 0.6938192844390869),\n ('ἀγρός', 0.6933711171150208),\n ('καινός', 0.6919623017311096),\n ('τυρός', 0.6855046153068542),\n ('οὐδός', 0.6848064064979553),\n ('ἁμός', 0.6841864585876465),\n ('τερπνός', 0.6832372546195984),\n ('τρυφερός', 0.6823959350585938),\n ('βροτός', 0.6820572018623352),\n ('θνητός', 0.6819503903388977),\n ('ἰός', 0.6765382885932922),\n ('ἐχθρός', 0.6749095320701599),\n ('ἀγός', 0.6745015978813171),\n ('γεραιός', 0.6738995909690857),\n ('πατρίς', 0.6731843948364258),\n ('πεζός', 0.6697114706039429),\n ('θιός', 0.6686758399009705),\n ('σορός', 0.6681994795799255),\n ('ναός', 0.6674134135246277),\n ('θεῖον', 0.6666933298110962),\n ('Μολοσσός', 0.6663019061088562),\n ('θεσμός', 0.6662673354148865),\n ('βοηθός', 0.6660707592964172),\n ('ψυχρός', 0.6648675799369812),\n ('σός', 0.6634408831596375),\n ('γεωργός', 0.6632093191146851),\n ('γαμβρός', 0.6616982817649841),\n ('ἰτός', 0.6572195887565613),\n ('σιμός', 0.6560253500938416),\n ('εὐσεβείαι', 0.6550609469413757),\n ('ἰσχυρός', 0.6529035568237305),\n ('σεισμός', 0.651236355304718),\n ('ἀετός', 0.6501598954200745),\n ('ξανθός', 0.6499831676483154),\n ('σωτήρ', 0.649167001247406),\n ('κλυτός', 0.647668719291687),\n ('κορμός', 0.646207869052887),\n ('νεκρός', 0.6460286378860474),\n ('φρουρός', 0.6440618634223938),\n ('ὁδός', 0.6433367729187012),\n ('κιθαρῳδός', 0.6421638131141663),\n ('Λοκρός', 0.6421544551849365),\n ('θυμός', 0.6409002542495728),\n ('ποταμός', 0.6388140320777893),\n ('σωτᾶς', 0.6367304921150208),\n ('καθαρός', 0.6365485191345215),\n ('ποιητός', 0.6337874531745911),\n ('δεξιός', 0.6333972811698914),\n ('φιλητός', 0.6307184100151062),\n ('Δελφικός', 0.630214512348175),\n ('σηκός', 0.6299662590026855),\n ('πολιός', 0.6294996738433838),\n ('κιβωτός', 0.629332959651947),\n ('ψιλός', 0.6284010410308838),\n ('δεσμός', 0.6281107664108276),\n ('φαιδρός', 0.6267170310020447),\n ('πλατός', 0.6264016628265381),\n ('κριός', 0.6263206601142883),\n ('λιβανωτός', 0.6261415481567383),\n ('εὐξαμένη', 0.6261003017425537),\n ('ἁρμός', 0.6260277628898621),\n ('κισσός', 0.6257784366607666),\n ('θησαυρός', 0.6257557272911072),\n ('χρησμός', 0.6257035732269287),\n ('νέμω', 0.6236577033996582),\n ('φανερός', 0.6219096779823303),\n ('ὀρθός', 0.6210874319076538),\n ('θεά', 0.6205958724021912),\n ('χορός', 0.6205655336380005),\n ('οἰκουμένη', 0.6204116940498352),\n ('στυγερός', 0.6192429065704346),\n ('ἀνεψιός', 0.6175843477249146),\n ('κακός', 0.6173036098480225),\n ('λοχαγός', 0.616942822933197)]"
     },
     "execution_count": 68,
     "metadata": {},
     "output_type": "execute_result"
    }
   ],
   "source": [
    "model.wv.most_similar(\"θεός\", topn=100)"
   ],
   "metadata": {
    "collapsed": false,
    "pycharm": {
     "name": "#%%\n"
    }
   }
  },
  {
   "cell_type": "markdown",
   "source": [],
   "metadata": {
    "collapsed": false,
    "pycharm": {
     "name": "#%% md\n"
    }
   }
  },
  {
   "cell_type": "code",
   "execution_count": 62,
   "outputs": [],
   "source": [
    "model.wv.save(\"../data/large_files/vectors_fasttext/model_full.wv\")"
   ],
   "metadata": {
    "collapsed": false,
    "pycharm": {
     "name": "#%%\n"
    }
   }
  },
  {
   "cell_type": "code",
   "execution_count": 64,
   "outputs": [
    {
     "name": "stdout",
     "output_type": "stream",
     "text": [
      "going to train model excluding -8 century\n",
      "going to train model excluding -7 century\n",
      "going to train model excluding -6 century\n",
      "going to train model excluding -5 century\n",
      "going to train model excluding -4 century\n",
      "going to train model excluding -3 century\n",
      "going to train model excluding -2 century\n",
      "going to train model excluding -1 century\n",
      "going to train model excluding 0 century\n",
      "going to train model excluding 1 century\n",
      "going to train model excluding 2 century\n",
      "going to train model excluding 3 century\n"
     ]
    }
   ],
   "source": [
    "for cent_to_exclude in cent_ids_samples.keys():\n",
    "    ids_list = []\n",
    "    for key in cent_ids_samples.keys():\n",
    "        if key != cent_to_exclude:\n",
    "            ids_list.extend(list(cent_ids_samples[key]))\n",
    "    ids_list = [str(id) for id in ids_list]\n",
    "    model = FastText(vector_size=150, window=3, negative=5, ns_exponent=1, sg=0, epochs=5, workers=8)\n",
    "    model.build_vocab_from_freq(word_freq=dict(freqs_tups[:N_types_covered]))\n",
    "    print(\"going to train model excluding {} century\".format(str(cent_to_exclude)))\n",
    "    model.train(corpus, total_examples=corpus_len, epochs=model.epochs)\n",
    "    model.wv.save(\"../data/large_files/vectors_fasttext/model_without_{}.wv\".format(str(cent_to_exclude)))"
   ],
   "metadata": {
    "collapsed": false,
    "pycharm": {
     "name": "#%%\n"
    }
   }
  },
  {
   "cell_type": "code",
   "execution_count": null,
   "outputs": [],
   "source": [],
   "metadata": {
    "collapsed": false,
    "pycharm": {
     "name": "#%%\n"
    }
   }
  },
  {
   "cell_type": "code",
   "execution_count": null,
   "outputs": [],
   "source": [],
   "metadata": {
    "collapsed": false,
    "pycharm": {
     "name": "#%%\n"
    }
   }
  }
 ],
 "metadata": {
  "kernelspec": {
   "name": "epimr_venv",
   "language": "python",
   "display_name": "epimr_venv"
  },
  "language_info": {
   "codemirror_mode": {
    "name": "ipython",
    "version": 2
   },
   "file_extension": ".py",
   "mimetype": "text/x-python",
   "name": "python",
   "nbconvert_exporter": "python",
   "pygments_lexer": "ipython2",
   "version": "2.7.6"
  }
 },
 "nbformat": 4,
 "nbformat_minor": 0
}