{
 "cells": [
  {
   "cell_type": "code",
   "execution_count": 39,
   "metadata": {
    "collapsed": true
   },
   "outputs": [],
   "source": [
    "import pandas as pd\n",
    "import geopandas as gpd\n",
    "import re\n",
    "import nltk\n",
    "from gensim.models.fasttext import FastText\n",
    "from gensim.models import Word2Vec\n",
    "import pickle\n",
    "import tempun\n",
    "import numpy as np\n",
    "import matplotlib.pyplot as plt\n",
    "import json\n",
    "import requests\n",
    "import unicodedata\n",
    "from cltk.stops.grc import STOPS as stopwords"
   ]
  },
  {
   "cell_type": "code",
   "execution_count": 2,
   "outputs": [
    {
     "data": {
      "text/plain": "106898"
     },
     "execution_count": 2,
     "metadata": {},
     "output_type": "execute_result"
    }
   ],
   "source": [
    "GIST = gpd.read_parquet(\"../data/large_files/GIST_geocontexts.parquet\")\n",
    "len(GIST)"
   ],
   "metadata": {
    "collapsed": false
   }
  },
  {
   "cell_type": "markdown",
   "source": [
    "# prepare data for lemmata filtering"
   ],
   "metadata": {
    "collapsed": false
   }
  },
  {
   "cell_type": "code",
   "execution_count": 16,
   "outputs": [],
   "source": [
    "try:\n",
    "    with open(\"../data/large_files/morpheus_dict.json\") as json_file:\n",
    "        morpheus_dict = json.load(json_file)\n",
    "# if not available:\n",
    "except:\n",
    "    # read it from a public folder on sciencedata\n",
    "    publicfolder = \"8fe7d59de1eafe5f8eaebc0044534606\"\n",
    "    morpheus_dict = json.loads(requests.get(\"https://sciencedata.dk/public/\" + publicfolder + \"/morpheus_dict.json\").content)\n",
    "    # save it locally for future usage\n",
    "    with open(\"../data/large_files/morpheus_dict.json\", \"w\") as outfile:\n",
    "        json.dump(morpheus_dict, outfile)"
   ],
   "metadata": {
    "collapsed": false
   }
  },
  {
   "cell_type": "code",
   "execution_count": 20,
   "outputs": [
    {
     "data": {
      "text/plain": "706506"
     },
     "execution_count": 20,
     "metadata": {},
     "output_type": "execute_result"
    }
   ],
   "source": [
    "len(morpheus_dict)"
   ],
   "metadata": {
    "collapsed": false
   }
  },
  {
   "cell_type": "code",
   "execution_count": 23,
   "outputs": [
    {
     "data": {
      "text/plain": "706506"
     },
     "execution_count": 23,
     "metadata": {},
     "output_type": "execute_result"
    }
   ],
   "source": [
    "len([el for el in morpheus_dict.items()])"
   ],
   "metadata": {
    "collapsed": false
   }
  },
  {
   "cell_type": "code",
   "execution_count": 17,
   "outputs": [],
   "source": [
    "morpheus_lemmata_remove = []\n",
    "for key in morpheus_dict.keys():\n",
    "    values_list = morpheus_dict[key]\n",
    "    for val_dict in values_list:\n",
    "        if val_dict[\"l\"] == key:\n",
    "            if val_dict[\"p\"][0] not in [\"n\", \"a\", \"v\"]:\n",
    "                morpheus_lemmata_remove.append(key)"
   ],
   "metadata": {
    "collapsed": false
   }
  },
  {
   "cell_type": "code",
   "execution_count": 26,
   "outputs": [
    {
     "data": {
      "text/plain": "1479"
     },
     "execution_count": 26,
     "metadata": {},
     "output_type": "execute_result"
    }
   ],
   "source": [
    "lemmata_remove = set(morpheus_lemmata_remove)\n",
    "len(lemmata_remove)"
   ],
   "metadata": {
    "collapsed": false
   }
  },
  {
   "cell_type": "code",
   "execution_count": 40,
   "outputs": [],
   "source": [
    "def normalize_encoding(string):\n",
    "    return unicodedata.normalize(\"NFC\", string)\n",
    "stopwords = [normalize_encoding(s) for s in stopwords]"
   ],
   "metadata": {
    "collapsed": false
   }
  },
  {
   "cell_type": "code",
   "execution_count": 42,
   "outputs": [
    {
     "data": {
      "text/plain": "1555"
     },
     "execution_count": 42,
     "metadata": {},
     "output_type": "execute_result"
    }
   ],
   "source": [
    "lemmata_remove.update(stopwords)\n",
    "len(lemmata_remove)"
   ],
   "metadata": {
    "collapsed": false
   }
  },
  {
   "cell_type": "code",
   "execution_count": 47,
   "outputs": [],
   "source": [
    "lemmata = [\"Paul\", \"and\", \"Peter\"]\n",
    "remove = {\"and\", \"or\", \"in\"}"
   ],
   "metadata": {
    "collapsed": false
   }
  },
  {
   "cell_type": "code",
   "execution_count": 48,
   "outputs": [
    {
     "data": {
      "text/plain": "{'and'}"
     },
     "execution_count": 48,
     "metadata": {},
     "output_type": "execute_result"
    }
   ],
   "source": [
    "remove.intersection(lemmata)"
   ],
   "metadata": {
    "collapsed": false
   }
  },
  {
   "cell_type": "code",
   "execution_count": 46,
   "outputs": [
    {
     "data": {
      "text/plain": "{'a', 'd'}"
     },
     "execution_count": 46,
     "metadata": {},
     "output_type": "execute_result"
    }
   ],
   "source": [
    "set2.symmetric_difference(set1)"
   ],
   "metadata": {
    "collapsed": false
   }
  },
  {
   "cell_type": "code",
   "execution_count": null,
   "outputs": [],
   "source": [
    "lemmata_remove"
   ],
   "metadata": {
    "collapsed": false
   }
  },
  {
   "cell_type": "code",
   "execution_count": 60,
   "outputs": [],
   "source": [
    "def filter_lemmata(lemmata_data):\n",
    "    try:\n",
    "        lemmata = lemmata_data[\"data\"]\n",
    "        to_remove = lemmata_remove.intersection(lemmata)\n",
    "        lemmata_filtered = [l for l in lemmata if l not in to_remove]\n",
    "        lemmata_filtered = [l for l in lemmata_filtered if len(l) > 1]\n",
    "    except:\n",
    "        lemmata_filtered = []\n",
    "    return {\"data\" : lemmata_filtered}\n",
    "GIST[\"lemmata_filtered\"] = GIST[\"lemmata\"].apply(filter_lemmata)"
   ],
   "metadata": {
    "collapsed": false
   }
  },
  {
   "cell_type": "code",
   "execution_count": 61,
   "outputs": [
    {
     "data": {
      "text/plain": "{'data': ['Ζεύς',\n  'δραχμή',\n  'παρίημι',\n  'Ἀθήνη',\n  'χρεώστης',\n  'φίλος',\n  'χρῆμα',\n  'ἔρομαι',\n  'Κριός',\n  'ἐπίσκοπος']}"
     },
     "execution_count": 61,
     "metadata": {},
     "output_type": "execute_result"
    }
   ],
   "source": [
    "lemmata_data_test = {'data': ['Ζεύς', 'οὐ', 'ὁ', 'ἐπί', 'δραχμή', 'παρίημι', 'τε', 'ὁ', 'Ἀθήνη', 'χρεώστης', 'τοι', 'φίλος', 'χρῆμα', 'ε', 'ἔρομαι', 'ὁ', 'πρίν', 'ὁ', 'ἐν', 'Κριός', 'ὁ', 'τε', 'ἐπίσκοπος', 'αὐτός']}\n",
    "filter_lemmata(lemmata_data_test)"
   ],
   "metadata": {
    "collapsed": false
   }
  },
  {
   "cell_type": "code",
   "execution_count": 4,
   "outputs": [
    {
     "data": {
      "text/plain": "        PHI_ID                       clean_text_interpretive_word  \\\n45043   230038                                           Πιρείθου   \n90642   329982                                        Ἀριστοκλεῦς   \n29319   189689             αρόν ἐστιν ἐμὲ ὁμ ἀλλοδαποῖο ορος υἱός   \n21168   173949                          Quintus Lutatius Rusticus   \n31589   194194  βασιλέως Πύρρου τοῦ Αἰακίδα βασιλέως ἡγήτορος ...   \n79232   313618                          Θεύδωρος Παριανὸς ἐποίησε   \n105197  351838         ΟΙΛ δύο μέρη ου προσόδου πρακτὸν εἶναι ΕΦΟ   \n44292   228986                                              εχσις   \n63755   291590  τὸ χωρίον ἀποδιδόναι μὲν τὴν μίσθωσιν ἑκάστου ...   \n80118   314706  βασιλεὺς Ἀντίοχος Μενεδήμωι χαῖρειν βουλόμενοι...   \n\n                                                  lemmata        raw_date  \\\n45043                              {'data': ['πιρείθου']}     250-300 AD    \n90642                           {'data': ['ἀριστοκλεῦς']}  3rd/2nd c. BC    \n29319     {'data': ['αἴρω', 'ἀλλοδαπός', 'ὀρός', 'υἱός']}      4th c. BC    \n21168       {'data': ['quintus', 'lutatius', 'rusticus']}  2nd/3rd c. AD    \n31589   {'data': ['βασιλεύς', 'Πυρρός', 'Αἰακίδης', 'β...    ca. 291 BC?    \n79232         {'data': ['θεύδωρος', 'παριανὸς', 'ποιέω']}     ca. 230 BC    \n105197  {'data': ['οιλ', 'δύο', 'μέρος', 'πρόσοδος', '...  late 2nd c. AD   \n44292                                 {'data': ['εχσις']}  ca. 520-510 BC   \n63755   {'data': ['χωρίον', 'ἀποδίδωμι', 'μίσθωσις', '...      350-300 BC   \n80118   {'data': ['βασιλεύς', 'ἀντίοχος', 'μενεδήμωι',...         193 BC    \n\n        not_before  not_after  \\\n45043        250.0      300.0   \n90642       -300.0     -101.0   \n29319       -400.0     -301.0   \n21168        101.0      300.0   \n31589       -296.0     -286.0   \n79232       -235.0     -225.0   \n105197       175.0      200.0   \n44292       -521.0     -509.0   \n63755       -350.0     -300.0   \n80118       -193.0     -193.0   \n\n                                             random_dates  \\\n45043   [253, 276, 254, 269, 283, 289, 268, 270, 273, ...   \n90642   [-232, -223, -102, -233, -278, -277, -188, -28...   \n29319   [-396, -352, -320, -335, -364, -371, -346, -30...   \n21168   [199, 242, 263, 216, 121, 210, 240, 143, 134, ...   \n31589   [-294, -289, -287, -293, -296, -289, -291, -29...   \n79232   [-229, -229, -228, -230, -230, -233, -228, -23...   \n105197  [187, 180, 191, 180, 181, 187, 188, 189, 179, ...   \n44292   [-515, -520, -516, -513, -518, -514, -510, -52...   \n63755   [-332, -325, -301, -329, -346, -343, -329, -33...   \n80118   [-193, -193, -193, -193, -193, -193, -193, -19...   \n\n                         geometry  \n45043   POINT (23.97015 38.14655)  \n90642   POINT (13.39384 37.44082)  \n29319   POINT (10.32722 36.85388)  \n21168   POINT (27.95169 44.68681)  \n31589   POINT (20.78937 39.54639)  \n79232   POINT (28.08818 36.09132)  \n105197  POINT (27.27771 37.52158)  \n44292   POINT (30.59208 30.90031)  \n63755   POINT (24.03865 37.87056)  \n80118   POINT (48.36798 34.18761)  ",
      "text/html": "<div>\n<style scoped>\n    .dataframe tbody tr th:only-of-type {\n        vertical-align: middle;\n    }\n\n    .dataframe tbody tr th {\n        vertical-align: top;\n    }\n\n    .dataframe thead th {\n        text-align: right;\n    }\n</style>\n<table border=\"1\" class=\"dataframe\">\n  <thead>\n    <tr style=\"text-align: right;\">\n      <th></th>\n      <th>PHI_ID</th>\n      <th>clean_text_interpretive_word</th>\n      <th>lemmata</th>\n      <th>raw_date</th>\n      <th>not_before</th>\n      <th>not_after</th>\n      <th>random_dates</th>\n      <th>geometry</th>\n    </tr>\n  </thead>\n  <tbody>\n    <tr>\n      <th>45043</th>\n      <td>230038</td>\n      <td>Πιρείθου</td>\n      <td>{'data': ['πιρείθου']}</td>\n      <td>250-300 AD</td>\n      <td>250.0</td>\n      <td>300.0</td>\n      <td>[253, 276, 254, 269, 283, 289, 268, 270, 273, ...</td>\n      <td>POINT (23.97015 38.14655)</td>\n    </tr>\n    <tr>\n      <th>90642</th>\n      <td>329982</td>\n      <td>Ἀριστοκλεῦς</td>\n      <td>{'data': ['ἀριστοκλεῦς']}</td>\n      <td>3rd/2nd c. BC</td>\n      <td>-300.0</td>\n      <td>-101.0</td>\n      <td>[-232, -223, -102, -233, -278, -277, -188, -28...</td>\n      <td>POINT (13.39384 37.44082)</td>\n    </tr>\n    <tr>\n      <th>29319</th>\n      <td>189689</td>\n      <td>αρόν ἐστιν ἐμὲ ὁμ ἀλλοδαποῖο ορος υἱός</td>\n      <td>{'data': ['αἴρω', 'ἀλλοδαπός', 'ὀρός', 'υἱός']}</td>\n      <td>4th c. BC</td>\n      <td>-400.0</td>\n      <td>-301.0</td>\n      <td>[-396, -352, -320, -335, -364, -371, -346, -30...</td>\n      <td>POINT (10.32722 36.85388)</td>\n    </tr>\n    <tr>\n      <th>21168</th>\n      <td>173949</td>\n      <td>Quintus Lutatius Rusticus</td>\n      <td>{'data': ['quintus', 'lutatius', 'rusticus']}</td>\n      <td>2nd/3rd c. AD</td>\n      <td>101.0</td>\n      <td>300.0</td>\n      <td>[199, 242, 263, 216, 121, 210, 240, 143, 134, ...</td>\n      <td>POINT (27.95169 44.68681)</td>\n    </tr>\n    <tr>\n      <th>31589</th>\n      <td>194194</td>\n      <td>βασιλέως Πύρρου τοῦ Αἰακίδα βασιλέως ἡγήτορος ...</td>\n      <td>{'data': ['βασιλεύς', 'Πυρρός', 'Αἰακίδης', 'β...</td>\n      <td>ca. 291 BC?</td>\n      <td>-296.0</td>\n      <td>-286.0</td>\n      <td>[-294, -289, -287, -293, -296, -289, -291, -29...</td>\n      <td>POINT (20.78937 39.54639)</td>\n    </tr>\n    <tr>\n      <th>79232</th>\n      <td>313618</td>\n      <td>Θεύδωρος Παριανὸς ἐποίησε</td>\n      <td>{'data': ['θεύδωρος', 'παριανὸς', 'ποιέω']}</td>\n      <td>ca. 230 BC</td>\n      <td>-235.0</td>\n      <td>-225.0</td>\n      <td>[-229, -229, -228, -230, -230, -233, -228, -23...</td>\n      <td>POINT (28.08818 36.09132)</td>\n    </tr>\n    <tr>\n      <th>105197</th>\n      <td>351838</td>\n      <td>ΟΙΛ δύο μέρη ου προσόδου πρακτὸν εἶναι ΕΦΟ</td>\n      <td>{'data': ['οιλ', 'δύο', 'μέρος', 'πρόσοδος', '...</td>\n      <td>late 2nd c. AD</td>\n      <td>175.0</td>\n      <td>200.0</td>\n      <td>[187, 180, 191, 180, 181, 187, 188, 189, 179, ...</td>\n      <td>POINT (27.27771 37.52158)</td>\n    </tr>\n    <tr>\n      <th>44292</th>\n      <td>228986</td>\n      <td>εχσις</td>\n      <td>{'data': ['εχσις']}</td>\n      <td>ca. 520-510 BC</td>\n      <td>-521.0</td>\n      <td>-509.0</td>\n      <td>[-515, -520, -516, -513, -518, -514, -510, -52...</td>\n      <td>POINT (30.59208 30.90031)</td>\n    </tr>\n    <tr>\n      <th>63755</th>\n      <td>291590</td>\n      <td>τὸ χωρίον ἀποδιδόναι μὲν τὴν μίσθωσιν ἑκάστου ...</td>\n      <td>{'data': ['χωρίον', 'ἀποδίδωμι', 'μίσθωσις', '...</td>\n      <td>350-300 BC</td>\n      <td>-350.0</td>\n      <td>-300.0</td>\n      <td>[-332, -325, -301, -329, -346, -343, -329, -33...</td>\n      <td>POINT (24.03865 37.87056)</td>\n    </tr>\n    <tr>\n      <th>80118</th>\n      <td>314706</td>\n      <td>βασιλεὺς Ἀντίοχος Μενεδήμωι χαῖρειν βουλόμενοι...</td>\n      <td>{'data': ['βασιλεύς', 'ἀντίοχος', 'μενεδήμωι',...</td>\n      <td>193 BC</td>\n      <td>-193.0</td>\n      <td>-193.0</td>\n      <td>[-193, -193, -193, -193, -193, -193, -193, -19...</td>\n      <td>POINT (48.36798 34.18761)</td>\n    </tr>\n  </tbody>\n</table>\n</div>"
     },
     "execution_count": 4,
     "metadata": {},
     "output_type": "execute_result"
    }
   ],
   "source": [
    "GIST.sample(10)[[\"PHI_ID\", \"clean_text_interpretive_word\", \"lemmata\", \"raw_date\", \"not_before\", \"not_after\", \"random_dates\",\"geometry\"]]"
   ],
   "metadata": {
    "collapsed": false
   }
  },
  {
   "cell_type": "code",
   "execution_count": 62,
   "outputs": [
    {
     "data": {
      "text/plain": "70503"
     },
     "execution_count": 62,
     "metadata": {},
     "output_type": "execute_result"
    }
   ],
   "source": [
    "sum(GIST[\"polis?\"])"
   ],
   "metadata": {
    "collapsed": false
   }
  },
  {
   "cell_type": "code",
   "execution_count": 63,
   "outputs": [
    {
     "data": {
      "text/plain": "1530197"
     },
     "execution_count": 63,
     "metadata": {},
     "output_type": "execute_result"
    }
   ],
   "source": [
    "GIST_lemmata_merged = [[l for l in inscr_lem[\"data\"]] for inscr_lem in GIST[\"lemmata_filtered\"].tolist()]\n",
    "GIST_lemmata_merged = [l for i in GIST_lemmata_merged for l in i]\n",
    "len(GIST_lemmata_merged)"
   ],
   "metadata": {
    "collapsed": false
   }
  },
  {
   "cell_type": "code",
   "execution_count": 64,
   "outputs": [
    {
     "data": {
      "text/plain": "[('τίν', 50006),\n ('γῶν', 27331),\n ('δῆμος', 15428),\n ('τοῖρ', 14164),\n ('θεός', 13934),\n ('πᾶς', 13819),\n ('ἔτος', 9493),\n ('βουλή', 9301),\n ('ἄρχων', 9189),\n ('ἱερός', 8985),\n ('κα', 7045),\n ('ἔχω', 7008),\n ('βράχoς', 6926),\n ('μείς', 6881),\n ('ἀγαθός', 6691),\n ('υἱός', 5728),\n ('ἀνατίθημι', 5031),\n ('ἀνήρ', 4986),\n ('λωτοφάγoi', 4969),\n ('δραχμή', 4856),\n ('βασιλεύς', 4667),\n ('στρατιώτης', 4665),\n ('δίδωμι', 4618),\n ('ἱερεύς', 4552),\n ('τιμή', 4484),\n ('Ἀπολλωνία', 4478),\n ('χαίρω', 4393),\n ('γυνή', 4332),\n ('παῖς', 4290),\n ('γίγνομαι', 4280),\n ('στέφανος', 4280),\n ('Ζεύς', 4079),\n ('ποιέω', 4033),\n ('χάρις', 3951),\n ('νόμος', 3865),\n ('ψήφισμα', 3762),\n ('Δελφοί', 3710),\n ('δοκέω', 3586),\n ('πατήρ', 3525),\n ('ὁλκή', 3510),\n ('λέγω', 3488),\n ('καλός', 3346),\n ('Μᾶρκος', 3328),\n ('πολύς', 3313),\n ('κοινός', 3308),\n ('Ἀσκληπιός', 3131),\n ('εὐεργέτης', 3077),\n ('μέλει', 3070),\n ('Ἀπόλλων', 3070),\n ('Ἀθῆναι', 3003),\n ('πράσσω', 2954),\n ('χράω', 2889),\n ('Σεβαστός', 2889),\n ('δέω', 2862),\n ('ἐπειδή', 2858),\n ('στήλη', 2722),\n ('ὅσος', 2716),\n ('ὁράω', 2654),\n ('γραμματεύς', 2644),\n ('τύχη', 2634),\n ('θυγάτηρ', 2606),\n ('ἀργύριον', 2577),\n ('ἕκαστος', 2538),\n ('τόπος', 2533),\n ('ἀναγράφω', 2510),\n ('χρύσεος', 2505),\n ('μνήμη', 2476),\n ('λαμβάνω', 2460),\n ('γῆ', 2446),\n ('ἀρετή', 2404),\n ('ἵστημι', 2363),\n ('εὐσεβής', 2362),\n ('στεφανόω', 2356),\n ('ἡμέρα', 2352),\n ('πόλις', 2340),\n ('Ἀλέξανδρος', 2318),\n ('ζῶ', 2316),\n ('τίθημι', 2312),\n ('δάσσω', 2290),\n ('Δημήτριος', 2246),\n ('ἡμεῖς', 2216),\n ('Κλαύδιος', 2200),\n ('ὄνομα', 2177),\n ('σεβαστός', 2173),\n ('ἐπαινέω', 2155),\n ('μήτηρ', 2134),\n ('χρόνος', 2133),\n ('Ἰούλιος', 2110),\n ('ὑπάρχω', 2093),\n ('βοῦς', 2086),\n ('μέγας', 2084),\n ('στρατηγός', 2061),\n ('ἀνάθημα', 2044),\n ('ἀποδίδωμι', 2005),\n ('Δημήτηρ', 2001),\n ('δασύς', 1954),\n ('φίλος', 1931),\n ('πατρῷος', 1896),\n ('μνᾶ', 1867),\n ('παγίς', 1841),\n ('Νεοκλῆς', 1838),\n ('εἷς', 1832),\n ('φιάλη', 1828),\n ('Ἀθήνη', 1799),\n ('παρέχω', 1797),\n ('Ἀθηναῖος', 1748),\n ('οὐράνιος', 1748),\n ('φυλή', 1744),\n ('Φίλιππος', 1735),\n ('ἄγω', 1733),\n ('Ἡρακλέης', 1716),\n ('πρόξενος', 1710),\n ('λοιπός', 1690),\n ('βῦ', 1688),\n ('Ἑρμῆς', 1666),\n ('ἕτερος', 1648),\n ('χώρα', 1639),\n ('πούς', 1637),\n ('πολίτης', 1621),\n ('ἥλιος', 1619),\n ('ἔργον', 1617),\n ('εὐνώμας', 1614),\n ('ἀγών', 1608),\n ('τιμάω', 1593),\n ('Χριστός', 1560),\n ('οἰκία', 1543),\n ('κύριος', 1543),\n ('ἴδη', 1542),\n ('Θεόδωρος', 1538),\n ('πρυτανεύς', 1531),\n ('στατήρ', 1513),\n ('Λούκιος', 1507),\n ('Πυθία', 1481),\n ('Ἄρτεμις', 1475),\n ('σωτήρ', 1464),\n ('πρύτανις', 1457),\n ('ἀδελφός', 1451),\n ('ἔθνος', 1445),\n ('βεβαιωτήρ', 1435),\n ('ἀρχιερεύς', 1414),\n ('μηδείς', 1411),\n ('ἐπιμελέομαι', 1409),\n ('Καῖσαρ', 1405),\n ('μόνος', 1401),\n ('Ἰάσων', 1400),\n ('ἀρχή', 1389),\n ('χρυσός', 1386),\n ('δεῖνος', 1378),\n ('ἐνιαυτός', 1371),\n ('ἐπιγραφή', 1368),\n ('θεά', 1364),\n ('ἀνάθεμα', 1347),\n ('ὠνή', 1346),\n ('γένος', 1331),\n ('Λυσίας', 1329),\n ('ὑμεῖς', 1326),\n ('ἐλεύθερος', 1325),\n ('ἀργύρεος', 1323),\n ('ταχύς', 1321),\n ('χρηστός', 1306),\n ('δικαίως', 1302),\n ('βουλεύω', 1301),\n ('Ἀπολλώνιος', 1291),\n ('πρότερος', 1283),\n ('αὐτοκράτωρ', 1278),\n ('ἱεροποιός', 1265),\n ('πρῶτος', 1261),\n ('μάρτυρος', 1258),\n ('σωτηρία', 1253),\n ('τέκνον', 1247),\n ('φημί', 1244),\n ('ἥρως', 1243),\n ('γραμματεῖον', 1238),\n ('διατελέω', 1238),\n ('Πτολεμαΐς', 1193),\n ('ἅπας', 1172),\n ('νικάω', 1158),\n ('σῶμα', 1156),\n ('Διόνυσος', 1155),\n ('Τίτος', 1153),\n ('ἀτέλεια', 1147),\n ('ναός', 1145),\n ('Ἀντιόχεον', 1140),\n ('συντελέω', 1115),\n ('ἀσυλία', 1112),\n ('προξενία', 1109),\n ('προτεραῖος', 1107),\n ('πρεσβευτής', 1104),\n ('Σάμος', 1094),\n ('τιμοκράτης', 1091),\n ('Ἡρακλῆς', 1090),\n ('βωμός', 1088),\n ('Δέρβη', 1088),\n ('κεῖμαι', 1085),\n ('χρῆμα', 1084),\n ('Διονύσιος', 1072),\n ('λόγος', 1062),\n ('οἶκος', 1055),\n ('εἰρήνη', 1039),\n ('Νικόλαος', 1037)]"
     },
     "execution_count": 64,
     "metadata": {},
     "output_type": "execute_result"
    }
   ],
   "source": [
    "freqs_tups = nltk.FreqDist(GIST_lemmata_merged).most_common()\n",
    "freqs_tups[:200]"
   ],
   "metadata": {
    "collapsed": false
   }
  },
  {
   "cell_type": "code",
   "execution_count": 65,
   "outputs": [],
   "source": [
    "pd.DataFrame(freqs_tups[:5000]).to_csv(\"../data/freq_tups.csv\")"
   ],
   "metadata": {
    "collapsed": false
   }
  },
  {
   "cell_type": "code",
   "execution_count": 66,
   "outputs": [],
   "source": [
    "pickle.dump(freqs_tups, open(\"../data/freqs_tups.pickle\", \"wb\"))"
   ],
   "metadata": {
    "collapsed": false
   }
  },
  {
   "cell_type": "code",
   "execution_count": 67,
   "outputs": [
    {
     "data": {
      "text/plain": "        lemma  count\n0     δικαίως   1302\n1     δίκαιος    685\n2    δικαστής    504\n3  δικαιοσύνη    458\n4        δίκη    410",
      "text/html": "<div>\n<style scoped>\n    .dataframe tbody tr th:only-of-type {\n        vertical-align: middle;\n    }\n\n    .dataframe tbody tr th {\n        vertical-align: top;\n    }\n\n    .dataframe thead th {\n        text-align: right;\n    }\n</style>\n<table border=\"1\" class=\"dataframe\">\n  <thead>\n    <tr style=\"text-align: right;\">\n      <th></th>\n      <th>lemma</th>\n      <th>count</th>\n    </tr>\n  </thead>\n  <tbody>\n    <tr>\n      <th>0</th>\n      <td>δικαίως</td>\n      <td>1302</td>\n    </tr>\n    <tr>\n      <th>1</th>\n      <td>δίκαιος</td>\n      <td>685</td>\n    </tr>\n    <tr>\n      <th>2</th>\n      <td>δικαστής</td>\n      <td>504</td>\n    </tr>\n    <tr>\n      <th>3</th>\n      <td>δικαιοσύνη</td>\n      <td>458</td>\n    </tr>\n    <tr>\n      <th>4</th>\n      <td>δίκη</td>\n      <td>410</td>\n    </tr>\n  </tbody>\n</table>\n</div>"
     },
     "execution_count": 67,
     "metadata": {},
     "output_type": "execute_result"
    }
   ],
   "source": [
    "match_pattern = \"(κατα|ὑπό|ἐκ|ἀ|ἄ|ἀντί|^)δ[ι|ί]κ(α|ά|ο|ό|ί|έ|η)(.+)?\"\n",
    "dik_words = [word for word in GIST_lemmata_merged if re.search(match_pattern, word)]\n",
    "dik_words_df = pd.DataFrame(nltk.FreqDist(dik_words).most_common(), columns=[\"lemma\", \"count\"])\n",
    "dik_words_df.head(5)"
   ],
   "metadata": {
    "collapsed": false
   }
  },
  {
   "cell_type": "markdown",
   "source": [
    "# Singular words explorations"
   ],
   "metadata": {
    "collapsed": false
   }
  },
  {
   "cell_type": "code",
   "execution_count": 74,
   "outputs": [],
   "source": [
    "religion = [\"θεός\", \"Ζεύς\", \"εὐσέβεια\", 'ἱερεύς', \"θυσία\"]\n",
    "religion_2 = [\"ἱερόν\", \"ἱερός\", \"δῖος\", \"θυσία\", \"Διονύσιος\", \"Ἀπόλλων\", \"Ἀπολλώνιος\", \"Ἡρακλέης\",  \"Ἀθήνη\", \"Ἄρτεμις\", \"εὐσεβής\"]\n",
    "\n",
    "morality = [\"ἀγαθός\", \"ἀρετή\", \"δικαίως\", \"δίκαιος\", \"τιμή\"]\n",
    "morality_2 = [\"τιμάω\", \"εἰρήνη\", \"δικαιοσύνη\"]\n",
    "\n",
    "word_list = religion + religion_2 + morality + morality_2"
   ],
   "metadata": {
    "collapsed": false
   }
  },
  {
   "cell_type": "code",
   "execution_count": null,
   "outputs": [],
   "source": [
    "religion_final = [\"θεός\", \"Ζεύς\", \"εὐσεβής\", 'ἱερός', \"θυσία\"]\n",
    "morality = [\"ἀγαθός\", \"ἀρετή\", \"δικαίως\", \"δίκαιος\", \"τιμή\"]\n"
   ],
   "metadata": {
    "collapsed": false
   }
  },
  {
   "cell_type": "code",
   "execution_count": 76,
   "outputs": [
    {
     "data": {
      "text/plain": "24"
     },
     "execution_count": 76,
     "metadata": {},
     "output_type": "execute_result"
    }
   ],
   "source": [
    "len(word_list)"
   ],
   "metadata": {
    "collapsed": false
   }
  },
  {
   "cell_type": "code",
   "execution_count": 75,
   "outputs": [
    {
     "name": "stdout",
     "output_type": "stream",
     "text": [
      "θεός 13934\n",
      "Ζεύς 4079\n",
      "εὐσέβεια 191\n",
      "ἱερεύς 4552\n",
      "θυσία 874\n",
      "ἱερόν 328\n",
      "ἱερός 8985\n",
      "δῖος 2\n",
      "θυσία 874\n",
      "Διονύσιος 1072\n",
      "Ἀπόλλων 3070\n",
      "Ἀπολλώνιος 1291\n",
      "Ἡρακλέης 1716\n",
      "Ἀθήνη 1799\n",
      "Ἄρτεμις 1475\n",
      "εὐσεβής 2362\n",
      "ἀγαθός 6691\n",
      "ἀρετή 2404\n",
      "δικαίως 1302\n",
      "δίκαιος 685\n",
      "τιμή 4484\n",
      "τιμάω 1593\n",
      "εἰρήνη 1039\n",
      "δικαιοσύνη 458\n"
     ]
    }
   ],
   "source": [
    "for word in word_list:\n",
    "    print(word, GIST_lemmata_merged.count(word))"
   ],
   "metadata": {
    "collapsed": false
   }
  },
  {
   "cell_type": "code",
   "execution_count": 77,
   "outputs": [
    {
     "data": {
      "text/plain": "[[-850, -750], [-840, -740], [-830, -730]]"
     },
     "execution_count": 77,
     "metadata": {},
     "output_type": "execute_result"
    }
   ],
   "source": [
    "time_blocks = [[n, n+100] for n in range(-850, 410, 10)]\n",
    "time_blocks[:3]"
   ],
   "metadata": {
    "collapsed": false
   }
  },
  {
   "cell_type": "code",
   "execution_count": 79,
   "outputs": [],
   "source": [
    "def sim_data_by_function(df, n_sims, time_blocks, function, args_dict=None, random_dates_column=\"random_dates\"):\n",
    "    complete_sim_data = []\n",
    "    for n in range(n_sims):\n",
    "        sim = df[random_dates_column].apply(lambda x: tempun.get_date_from_randoms(x, n))\n",
    "        sim_data = []\n",
    "        if isinstance(time_blocks[0],\n",
    "                      int):  # if first entry of timeblocks is an integer it means that it is actually not a timeblock, but only the starting date of the first timeblock\n",
    "            time_blocks = tempun.get_timeblocks(time_blocks[0], time_blocks[1], time_blocks[2])\n",
    "        for tb in time_blocks:\n",
    "            mask = sim.between(tb[0], tb[1])\n",
    "            df_tb = df[mask]\n",
    "            function_output = function(df_tb, args_dict)\n",
    "            sim_data.append((tb, function_output))\n",
    "        complete_sim_data.append(sim_data)\n",
    "    return complete_sim_data\n",
    "\n",
    "def get_word_frequency(timeblock_df, args_dict):\n",
    "    word = args_dict[\"word\"]\n",
    "    all_lemmata = [[l for l in inscr_lem[\"data\"]] for inscr_lem in timeblock_df[\"lemmata_filtered\"].tolist()]\n",
    "    all_lemmata = [l for i in all_lemmata for l in i]\n",
    "    all_lemmata_N = len(all_lemmata)\n",
    "    word_N = all_lemmata.count(word)\n",
    "    word_freq = word_N / all_lemmata_N\n",
    "    return np.round(word_freq, 5)"
   ],
   "metadata": {
    "collapsed": false
   }
  },
  {
   "cell_type": "code",
   "execution_count": 80,
   "outputs": [],
   "source": [
    "word_freq = sim_data_by_function(GIST, 10, time_blocks=time_blocks, function=get_word_frequency, args_dict={\"word\" : \"θεός\"})"
   ],
   "metadata": {
    "collapsed": false
   }
  },
  {
   "cell_type": "code",
   "execution_count": 81,
   "outputs": [
    {
     "data": {
      "text/plain": "[[<matplotlib.patches.Polygon at 0x2e368ffa0>],\n [<matplotlib.patches.Polygon at 0x2e368f460>]]"
     },
     "execution_count": 81,
     "metadata": {},
     "output_type": "execute_result"
    },
    {
     "data": {
      "text/plain": "<Figure size 640x480 with 1 Axes>",
      "image/png": "[encoded data removed]"
     },
     "metadata": {},
     "output_type": "display_data"
    }
   ],
   "source": [
    "tempun.plot_timeblocks_data(word_freq)"
   ],
   "metadata": {
    "collapsed": false
   }
  },
  {
   "cell_type": "code",
   "execution_count": null,
   "outputs": [],
   "source": [
    "%%time\n",
    "sim_data_freq = {}\n",
    "for word in word_list:\n",
    "    word_freq = sim_data_by_function(GIST, 100, time_blocks=time_blocks, function=get_word_frequency, args_dict={\"word\": word})\n",
    "    sim_data_freq[word] = word_freq"
   ],
   "metadata": {
    "collapsed": false,
    "pycharm": {
     "is_executing": true
    }
   }
  },
  {
   "cell_type": "code",
   "execution_count": null,
   "outputs": [],
   "source": [
    "sim_data_freq.keys()"
   ],
   "metadata": {
    "collapsed": false,
    "pycharm": {
     "is_executing": true
    }
   }
  },
  {
   "cell_type": "code",
   "execution_count": null,
   "outputs": [],
   "source": [
    "pickle.dump(sim_data_freq, open(\"../data/large_files/sim_data_freq.pickle\", \"wb\"))"
   ],
   "metadata": {
    "collapsed": false,
    "pycharm": {
     "is_executing": true
    }
   }
  },
  {
   "cell_type": "code",
   "execution_count": null,
   "outputs": [],
   "source": [
    "len(sim_data_freq)"
   ],
   "metadata": {
    "collapsed": false,
    "pycharm": {
     "is_executing": true
    }
   }
  },
  {
   "cell_type": "code",
   "execution_count": null,
   "outputs": [],
   "source": [
    "fig, axs = plt.subplots(8,1, figsize=(4.45, 8))#, tight_layout=True)\n",
    "\n",
    "for word, ax in zip(word_list[0:8], axs.ravel()):\n",
    "    tempun.plot_timeblocks_data(sim_data_freq[word], ax=ax)\n",
    "    ax.set_xticklabels([])\n",
    "    ax.grid(False, axis=\"y\")\n",
    "    ax.set_title(word, pad=-0.3)\n",
    "    ax.set_xticks([el+1 if el==0 else el for el in range(-800,500,100)])\n",
    "    ax.set_xlim(-825,425)\n",
    "ax.set_xticklabels([str(el+1) if el==0 else str(el) for el in range(-800,500,100)], rotation=90)\n",
    "\n",
    "ax.set_xlabel(\"year\")\n",
    "\n",
    "fig.text(-0.02, 0.5, 'word frequency', va='center', rotation='vertical')"
   ],
   "metadata": {
    "collapsed": false,
    "pycharm": {
     "is_executing": true
    }
   }
  },
  {
   "cell_type": "code",
   "execution_count": null,
   "outputs": [],
   "source": [
    "fig, axs = plt.subplots(8,3, figsize=(12, 8))#, tight_layout=True)\n",
    "\n",
    "for word, ax in zip(word_list, axs.ravel()):\n",
    "    tempun.plot_timeblocks_data(sim_data_freq[word], ax=ax)\n",
    "    ax.set_xticklabels([])\n",
    "    ax.grid(False, axis=\"y\")\n",
    "    ax.set_title(word, pad=-0.3)\n",
    "    ax.set_xticks([el+1 if el==0 else el for el in range(-800,500,100)])\n",
    "    ax.set_xlim(-825,425)\n",
    "axs[7,0].set_xticklabels([str(el+1) if el==0 else str(el) for el in range(-800,500,100)], rotation=90)\n",
    "\n",
    "axs[7,1].set_xticklabels([str(el+1) if el==0 else str(el) for el in range(-800,500,100)], rotation=90)\n",
    "\n",
    "axs[7,2].set_xticklabels([str(el+1) if el==0 else str(el) for el in range(-800,500,100)], rotation=90)\n",
    "\n",
    "ax.set_xlabel(\"year\")\n",
    "\n",
    "fig.text(-0.02, 0.5, 'word frequency', va='center', rotation='vertical')"
   ],
   "metadata": {
    "collapsed": false,
    "pycharm": {
     "is_executing": true
    }
   }
  },
  {
   "cell_type": "code",
   "execution_count": null,
   "outputs": [],
   "source": [],
   "metadata": {
    "collapsed": false
   }
  },
  {
   "cell_type": "markdown",
   "source": [
    "# Building ngrams data"
   ],
   "metadata": {
    "collapsed": false
   }
  },
  {
   "cell_type": "code",
   "execution_count": 10,
   "outputs": [],
   "source": [
    "def get_ngrams(lemmata_data):\n",
    "    lemmata_list = lemmata_data[\"data\"]\n",
    "    ngrams = []\n",
    "    try:\n",
    "        bigrams = list(nltk.ngrams(lemmata_list, 2))\n",
    "        trigrams = list(nltk.ngrams(lemmata_list, 3, pad_right=True, pad_left=True))\n",
    "        fivegrams = list(nltk.ngrams(lemmata_list, 5, pad_right=True, pad_left=True))\n",
    "        ngrams_merged = bigrams + trigrams + fivegrams\n",
    "        ngrams_merged = [[i for i in ngram if i is not None] for ngram in ngrams_merged]\n",
    "        ngrams_merged = [ngram for ngram in ngrams_merged if (len(ngram) > 1)]\n",
    "    except:\n",
    "        ngrams_merged = [[]]\n",
    "    return ngrams_merged\n"
   ],
   "metadata": {
    "collapsed": false
   }
  },
  {
   "cell_type": "code",
   "execution_count": 11,
   "outputs": [
    {
     "name": "stdout",
     "output_type": "stream",
     "text": [
      "[['lemma1', 'lemma2'], ['lemma2', 'lemma3'], ['lemma3', 'lemma4'], ['lemma4', 'lemma5'], ['lemma5', 'lemma6'], ['lemma1', 'lemma2'], ['lemma1', 'lemma2', 'lemma3'], ['lemma2', 'lemma3', 'lemma4'], ['lemma3', 'lemma4', 'lemma5'], ['lemma4', 'lemma5', 'lemma6'], ['lemma5', 'lemma6'], ['lemma1', 'lemma2'], ['lemma1', 'lemma2', 'lemma3'], ['lemma1', 'lemma2', 'lemma3', 'lemma4'], ['lemma1', 'lemma2', 'lemma3', 'lemma4', 'lemma5'], ['lemma2', 'lemma3', 'lemma4', 'lemma5', 'lemma6'], ['lemma3', 'lemma4', 'lemma5', 'lemma6'], ['lemma4', 'lemma5', 'lemma6'], ['lemma5', 'lemma6']]\n"
     ]
    }
   ],
   "source": [
    "print(get_ngrams({\"data\" : [\"lemma1\", \"lemma2\", \"lemma3\", \"lemma4\", \"lemma5\", \"lemma6\"]}))"
   ],
   "metadata": {
    "collapsed": false
   }
  },
  {
   "cell_type": "code",
   "execution_count": 12,
   "outputs": [
    {
     "name": "stdout",
     "output_type": "stream",
     "text": [
      "CPU times: user 4.03 s, sys: 223 ms, total: 4.25 s\n",
      "Wall time: 4.43 s\n"
     ]
    }
   ],
   "source": [
    "%%time\n",
    "GIST[\"ngrams\"] = GIST[\"lemmata_filtered\"].apply(get_ngrams)"
   ],
   "metadata": {
    "collapsed": false
   }
  },
  {
   "cell_type": "code",
   "execution_count": 29,
   "outputs": [
    {
     "data": {
      "text/plain": "   PHI_ID  reference                                           metadata  \\\n0       1   IG I³\\n1  Att. — Ath.: Akr. — stoich. 35 — c. 510-500 a....   \n1       4   IG I³\\n4                       Att. — stoich. 38 — 485/4 a.   \n2       5   IG I³\\n5                                   Att. — c. 500 a.   \n3       6   IG I³\\n6                 Att. — stoich. 23/11 — ante 460 a.   \n4      11  IG I³\\n11              Att. — stoich. 48 — ante med. s. V a.   \n\n   lines                                           text_raw  \\\n0   12.0  ἔδοχσεν το͂ι δέμοι· τ̣[ὸς ἐ Σ]αλαμ̣[ῖνι κλερόχ...   \n1   56.0  [․․․․․․․․․․․․․․․․․․38․․․․․․․․․․․․․․․․․․]\\n[․․․...   \n2    6.0  [ἔδοχσε]ν [⋮ τε͂ι βολε͂ι] ⋮ καὶ [τ]ο͂ι δέμοι ⋮...   \n3  160.0  — — — — — — — — — — — — —\\n[․․․․․․15․․․․․․․] δ...   \n4   22.0  [χσυμμαχία καὶ ℎόρ]κ̣ο̣[ς] Ἀ̣[θ]ε̣ν̣α̣[ίον κα]...   \n\n                                           text_iphi  \\\n0  εδοχσεν τοι δεμοι τ[ος ε σ]αλαμ[ινι κλεροχ]ος ...   \n1  [--------------------------------------] [----...   \n2  [εδοχσε]ν [ τει βολει] και [τ]οι δεμοι οτε παρ...   \n3  ------------- [---------------] δραχμεισ[ι ---...   \n4  [χσυμμαχια και ορ]κο[ς] α[θ]ενα[ιον κα]ι εγεστ...   \n\n                             clean_text_conservative  \\\n0  ἔδοχσεν το͂ι δέμοι ταλαμος οἰκε͂ν ἐᾶ Σαλαμῖνι ...   \n1  δέ τις αν ἒ φρορὰν μ ντέκοντα δχμὰς τ ας ℎες π...   \n2  ν καὶ ο͂ι δέμοι ℎότε Παραιβάτες λεια θν τὸς ℎι...   \n3  δραχμε͂ιστες τὸς ιο μενος δεμο το͂ν πόλεο οκε͂...   \n4  κο Ἀεναὶ Ἐγεσταί ο͂ι ἐπρυτάνευε οΙ ον ἐ͂ρχε Ἀ...   \n\n                        clean_text_interpretive_word  \\\n0  ἔδοχσεν το͂ι δέμοι τὸς ἐ Σαλαμῖνι κλερόχος οἰκ...   \n1  ἐὰν δέ τις αν ἒ φρορὰν μὲ πεντέκοντα δραχμὰς τ...   \n2  ἔδοχσεν τε͂ι βολε͂ι καὶ το͂ι δέμοι ℎότε Παραιβ...   \n3  δραχμε͂ισι τες τὸς ιο μενος δεμο το͂ν πόλεον δ...   \n4  χσυμμαχία καὶ ℎόρκος Ἀθεναίον καὶ Ἐγεσταίον ἔδ...   \n\n                                             lemmata           raw_date  ...  \\\n0  {'data': ['ἔδοχσεν', 'δέμοι', 'Σαλαμίς', 'κλερ...     c. 510-500 a.   ...   \n1  {'data': ['τὶς', 'φρορὰν', 'πεντέκοντα', 'δραχ...           485/4 a.  ...   \n2  {'data': ['ἔδοχσεν', 'τει', 'βολει', 'δέμοι', ...          c. 500 a.  ...   \n3  {'data': ['δραχμεισι', 'τες', 'μένος', 'δεμο',...        ante 460 a.  ...   \n4  {'data': ['χσυμμαχία', 'ὅρκος', 'ἀθεναίον', 'ἐ...  ante med. s. V a.  ...   \n\n   TMgeo_name                   geometry         name           polis_geo  \\\n0     Athenai  POINT (23.72399 37.97275)  361-Athenai  [23.7278, 37.9778]   \n1     Athenai  POINT (23.72399 37.97275)  361-Athenai  [23.7278, 37.9778]   \n2     Eleusis  POINT (23.54150 38.04414)  362-Eleusis  [23.5423, 38.0394]   \n3     Eleusis  POINT (23.54150 38.04414)  362-Eleusis  [23.5423, 38.0394]   \n4     Athenai  POINT (23.72399 37.97275)  361-Athenai  [23.7278, 37.9778]   \n\n   polis_dist polis? duration  \\\n0      653.43   True     13.0   \n1      653.43   True      2.0   \n2      530.31   True     11.0   \n3      530.31   True      NaN   \n4      653.43   True      NaN   \n\n                                        random_dates greece?  \\\n0  [-510, -504, -510, -507, -506, -500, -508, -50...    True   \n1  [-485, -485, -485, -484, -485, -484, -485, -48...    True   \n2  [-498, -502, -504, -503, -496, -504, -496, -49...    True   \n3  [-461, -461, -461, -461, -461, -461, -461, -46...    True   \n4  [-456, -456, -456, -456, -456, -456, -456, -45...    True   \n\n                                              ngrams  \n0  [[ἔδοχσεν, δέμοι], [δέμοι, Σαλαμίς], [Σαλαμίς,...  \n1  [[τὶς, φρορὰν], [φρορὰν, πεντέκοντα], [πεντέκο...  \n2  [[ἔδοχσεν, τει], [τει, βολει], [βολει, δέμοι],...  \n3  [[δραχμεισι, τες], [τες, μένος], [μένος, δεμο]...  \n4  [[χσυμμαχία, ὅρκος], [ὅρκος, ἀθεναίον], [ἀθενα...  \n\n[5 rows x 37 columns]",
      "text/html": "<div>\n<style scoped>\n    .dataframe tbody tr th:only-of-type {\n        vertical-align: middle;\n    }\n\n    .dataframe tbody tr th {\n        vertical-align: top;\n    }\n\n    .dataframe thead th {\n        text-align: right;\n    }\n</style>\n<table border=\"1\" class=\"dataframe\">\n  <thead>\n    <tr style=\"text-align: right;\">\n      <th></th>\n      <th>PHI_ID</th>\n      <th>reference</th>\n      <th>metadata</th>\n      <th>lines</th>\n      <th>text_raw</th>\n      <th>text_iphi</th>\n      <th>clean_text_conservative</th>\n      <th>clean_text_interpretive_word</th>\n      <th>lemmata</th>\n      <th>raw_date</th>\n      <th>...</th>\n      <th>TMgeo_name</th>\n      <th>geometry</th>\n      <th>name</th>\n      <th>polis_geo</th>\n      <th>polis_dist</th>\n      <th>polis?</th>\n      <th>duration</th>\n      <th>random_dates</th>\n      <th>greece?</th>\n      <th>ngrams</th>\n    </tr>\n  </thead>\n  <tbody>\n    <tr>\n      <th>0</th>\n      <td>1</td>\n      <td>IG I³\\n1</td>\n      <td>Att. — Ath.: Akr. — stoich. 35 — c. 510-500 a....</td>\n      <td>12.0</td>\n      <td>ἔδοχσεν το͂ι δέμοι· τ̣[ὸς ἐ Σ]αλαμ̣[ῖνι κλερόχ...</td>\n      <td>εδοχσεν τοι δεμοι τ[ος ε σ]αλαμ[ινι κλεροχ]ος ...</td>\n      <td>ἔδοχσεν το͂ι δέμοι ταλαμος οἰκε͂ν ἐᾶ Σαλαμῖνι ...</td>\n      <td>ἔδοχσεν το͂ι δέμοι τὸς ἐ Σαλαμῖνι κλερόχος οἰκ...</td>\n      <td>{'data': ['ἔδοχσεν', 'δέμοι', 'Σαλαμίς', 'κλερ...</td>\n      <td>c. 510-500 a.</td>\n      <td>...</td>\n      <td>Athenai</td>\n      <td>POINT (23.72399 37.97275)</td>\n      <td>361-Athenai</td>\n      <td>[23.7278, 37.9778]</td>\n      <td>653.43</td>\n      <td>True</td>\n      <td>13.0</td>\n      <td>[-510, -504, -510, -507, -506, -500, -508, -50...</td>\n      <td>True</td>\n      <td>[[ἔδοχσεν, δέμοι], [δέμοι, Σαλαμίς], [Σαλαμίς,...</td>\n    </tr>\n    <tr>\n      <th>1</th>\n      <td>4</td>\n      <td>IG I³\\n4</td>\n      <td>Att. — stoich. 38 — 485/4 a.</td>\n      <td>56.0</td>\n      <td>[․․․․․․․․․․․․․․․․․․38․․․․․․․․․․․․․․․․․․]\\n[․․․...</td>\n      <td>[--------------------------------------] [----...</td>\n      <td>δέ τις αν ἒ φρορὰν μ ντέκοντα δχμὰς τ ας ℎες π...</td>\n      <td>ἐὰν δέ τις αν ἒ φρορὰν μὲ πεντέκοντα δραχμὰς τ...</td>\n      <td>{'data': ['τὶς', 'φρορὰν', 'πεντέκοντα', 'δραχ...</td>\n      <td>485/4 a.</td>\n      <td>...</td>\n      <td>Athenai</td>\n      <td>POINT (23.72399 37.97275)</td>\n      <td>361-Athenai</td>\n      <td>[23.7278, 37.9778]</td>\n      <td>653.43</td>\n      <td>True</td>\n      <td>2.0</td>\n      <td>[-485, -485, -485, -484, -485, -484, -485, -48...</td>\n      <td>True</td>\n      <td>[[τὶς, φρορὰν], [φρορὰν, πεντέκοντα], [πεντέκο...</td>\n    </tr>\n    <tr>\n      <th>2</th>\n      <td>5</td>\n      <td>IG I³\\n5</td>\n      <td>Att. — c. 500 a.</td>\n      <td>6.0</td>\n      <td>[ἔδοχσε]ν [⋮ τε͂ι βολε͂ι] ⋮ καὶ [τ]ο͂ι δέμοι ⋮...</td>\n      <td>[εδοχσε]ν [ τει βολει] και [τ]οι δεμοι οτε παρ...</td>\n      <td>ν καὶ ο͂ι δέμοι ℎότε Παραιβάτες λεια θν τὸς ℎι...</td>\n      <td>ἔδοχσεν τε͂ι βολε͂ι καὶ το͂ι δέμοι ℎότε Παραιβ...</td>\n      <td>{'data': ['ἔδοχσεν', 'τει', 'βολει', 'δέμοι', ...</td>\n      <td>c. 500 a.</td>\n      <td>...</td>\n      <td>Eleusis</td>\n      <td>POINT (23.54150 38.04414)</td>\n      <td>362-Eleusis</td>\n      <td>[23.5423, 38.0394]</td>\n      <td>530.31</td>\n      <td>True</td>\n      <td>11.0</td>\n      <td>[-498, -502, -504, -503, -496, -504, -496, -49...</td>\n      <td>True</td>\n      <td>[[ἔδοχσεν, τει], [τει, βολει], [βολει, δέμοι],...</td>\n    </tr>\n    <tr>\n      <th>3</th>\n      <td>6</td>\n      <td>IG I³\\n6</td>\n      <td>Att. — stoich. 23/11 — ante 460 a.</td>\n      <td>160.0</td>\n      <td>— — — — — — — — — — — — —\\n[․․․․․․15․․․․․․․] δ...</td>\n      <td>------------- [---------------] δραχμεισ[ι ---...</td>\n      <td>δραχμε͂ιστες τὸς ιο μενος δεμο το͂ν πόλεο οκε͂...</td>\n      <td>δραχμε͂ισι τες τὸς ιο μενος δεμο το͂ν πόλεον δ...</td>\n      <td>{'data': ['δραχμεισι', 'τες', 'μένος', 'δεμο',...</td>\n      <td>ante 460 a.</td>\n      <td>...</td>\n      <td>Eleusis</td>\n      <td>POINT (23.54150 38.04414)</td>\n      <td>362-Eleusis</td>\n      <td>[23.5423, 38.0394]</td>\n      <td>530.31</td>\n      <td>True</td>\n      <td>NaN</td>\n      <td>[-461, -461, -461, -461, -461, -461, -461, -46...</td>\n      <td>True</td>\n      <td>[[δραχμεισι, τες], [τες, μένος], [μένος, δεμο]...</td>\n    </tr>\n    <tr>\n      <th>4</th>\n      <td>11</td>\n      <td>IG I³\\n11</td>\n      <td>Att. — stoich. 48 — ante med. s. V a.</td>\n      <td>22.0</td>\n      <td>[χσυμμαχία καὶ ℎόρ]κ̣ο̣[ς] Ἀ̣[θ]ε̣ν̣α̣[ίον κα]...</td>\n      <td>[χσυμμαχια και ορ]κο[ς] α[θ]ενα[ιον κα]ι εγεστ...</td>\n      <td>κο Ἀεναὶ Ἐγεσταί ο͂ι ἐπρυτάνευε οΙ ον ἐ͂ρχε Ἀ...</td>\n      <td>χσυμμαχία καὶ ℎόρκος Ἀθεναίον καὶ Ἐγεσταίον ἔδ...</td>\n      <td>{'data': ['χσυμμαχία', 'ὅρκος', 'ἀθεναίον', 'ἐ...</td>\n      <td>ante med. s. V a.</td>\n      <td>...</td>\n      <td>Athenai</td>\n      <td>POINT (23.72399 37.97275)</td>\n      <td>361-Athenai</td>\n      <td>[23.7278, 37.9778]</td>\n      <td>653.43</td>\n      <td>True</td>\n      <td>NaN</td>\n      <td>[-456, -456, -456, -456, -456, -456, -456, -45...</td>\n      <td>True</td>\n      <td>[[χσυμμαχία, ὅρκος], [ὅρκος, ἀθεναίον], [ἀθενα...</td>\n    </tr>\n  </tbody>\n</table>\n<p>5 rows × 37 columns</p>\n</div>"
     },
     "execution_count": 29,
     "metadata": {},
     "output_type": "execute_result"
    }
   ],
   "source": [
    "GIST.head(5)"
   ],
   "metadata": {
    "collapsed": false
   }
  },
  {
   "cell_type": "code",
   "execution_count": 30,
   "outputs": [
    {
     "name": "stdout",
     "output_type": "stream",
     "text": [
      "CPU times: user 17 s, sys: 773 ms, total: 17.8 s\n",
      "Wall time: 18.7 s\n"
     ]
    }
   ],
   "source": [
    "%%time\n",
    "f = open(\"../data/large_files/corpus_ngrams.txt\", \"w\", encoding=\"utf-8\")\n",
    "line = 0\n",
    "ids_lines = {}\n",
    "for n in range(len(GIST)):\n",
    "    id = str(GIST.iloc[n][\"PHI_ID\"])\n",
    "    try:\n",
    "        ngrams = [\" \".join(ngram) for ngram in GIST.iloc[n][\"ngrams\"]]\n",
    "        f.writelines(\"\\n\".join(ngrams)+\"\\n\")\n",
    "        ids_lines[id] = (line, line+len(ngrams))\n",
    "        line += len(ngrams)\n",
    "    except:\n",
    "        print(id)"
   ],
   "metadata": {
    "collapsed": false
   }
  },
  {
   "cell_type": "code",
   "execution_count": 31,
   "outputs": [],
   "source": [
    "pickle.dump(ids_lines, open(\"../data/ids_lines.pickle\", \"wb\"))"
   ],
   "metadata": {
    "collapsed": false
   }
  },
  {
   "cell_type": "code",
   "execution_count": 32,
   "outputs": [],
   "source": [
    "class NgramCorpus:\n",
    "    def __iter__(self):\n",
    "        with open(\"../data/large_files/corpus_ngrams.txt\", \"r\") as f:\n",
    "            lines = f.readlines()\n",
    "            for phi_id in ids_list:\n",
    "                for line in lines[ids_lines[phi_id][0] : ids_lines[phi_id][1]]:\n",
    "                    yield line.split()"
   ],
   "metadata": {
    "collapsed": false
   }
  },
  {
   "cell_type": "code",
   "execution_count": 33,
   "outputs": [],
   "source": [
    "ids_list = [\"1\",\"4\",\"15\",\"17\"]"
   ],
   "metadata": {
    "collapsed": false
   }
  },
  {
   "cell_type": "code",
   "execution_count": 34,
   "outputs": [],
   "source": [
    "corpus = NgramCorpus()"
   ],
   "metadata": {
    "collapsed": false
   }
  },
  {
   "cell_type": "code",
   "execution_count": 30,
   "outputs": [
    {
     "data": {
      "text/plain": "904"
     },
     "execution_count": 30,
     "metadata": {},
     "output_type": "execute_result"
    }
   ],
   "source": [
    "len([doc for doc in corpus])"
   ],
   "metadata": {
    "collapsed": false
   }
  },
  {
   "cell_type": "code",
   "execution_count": 31,
   "outputs": [
    {
     "data": {
      "text/plain": "6604"
     },
     "execution_count": 31,
     "metadata": {},
     "output_type": "execute_result"
    }
   ],
   "source": [
    "ids_list = GIST[GIST[\"random_dates\"].apply(lambda x: -500 < x[0] < -401)][\"PHI_ID\"].astype(\"str\").tolist()\n",
    "len(ids_list)"
   ],
   "metadata": {
    "collapsed": false
   }
  },
  {
   "cell_type": "code",
   "execution_count": 32,
   "outputs": [],
   "source": [
    "corpus = NgramCorpus()"
   ],
   "metadata": {
    "collapsed": false
   }
  },
  {
   "cell_type": "code",
   "execution_count": 33,
   "outputs": [
    {
     "data": {
      "text/plain": "133348"
     },
     "execution_count": 33,
     "metadata": {},
     "output_type": "execute_result"
    }
   ],
   "source": [
    "corpus_len = len([doc for doc in corpus])\n",
    "corpus_len"
   ],
   "metadata": {
    "collapsed": false
   }
  },
  {
   "cell_type": "code",
   "execution_count": 34,
   "outputs": [
    {
     "data": {
      "text/plain": "1648240"
     },
     "execution_count": 34,
     "metadata": {},
     "output_type": "execute_result"
    }
   ],
   "source": [
    "N_tokens = sum([el[1] for el in freqs_tups])\n",
    "N_tokens"
   ],
   "metadata": {
    "collapsed": false
   }
  },
  {
   "cell_type": "code",
   "execution_count": 35,
   "outputs": [
    {
     "data": {
      "text/plain": "214400"
     },
     "execution_count": 35,
     "metadata": {},
     "output_type": "execute_result"
    }
   ],
   "source": [
    "N_types = len(freqs_tups)\n",
    "N_types"
   ],
   "metadata": {
    "collapsed": false
   }
  },
  {
   "cell_type": "code",
   "execution_count": 36,
   "outputs": [
    {
     "data": {
      "text/plain": "0.658017036353929"
     },
     "execution_count": 36,
     "metadata": {},
     "output_type": "execute_result"
    }
   ],
   "source": [
    "N_types_covered = 5000\n",
    "N_tokens_covered = sum([el[1] for el in freqs_tups[:N_types_covered]])\n",
    "N_tokens_covered / N_tokens"
   ],
   "metadata": {
    "collapsed": false
   }
  },
  {
   "cell_type": "code",
   "execution_count": 40,
   "outputs": [],
   "source": [
    "model = Word2Vec(vector_size=150, window=3, negative=5, ns_exponent=1, sg=0, epochs=10, workers=8)"
   ],
   "metadata": {
    "collapsed": false
   }
  },
  {
   "cell_type": "code",
   "execution_count": 41,
   "outputs": [],
   "source": [
    "model.build_vocab_from_freq(word_freq=dict(freqs_tups[:N_types_covered]))"
   ],
   "metadata": {
    "collapsed": false
   }
  },
  {
   "cell_type": "code",
   "execution_count": 42,
   "outputs": [
    {
     "name": "stdout",
     "output_type": "stream",
     "text": [
      "CPU times: user 11.4 s, sys: 1.93 s, total: 13.3 s\n",
      "Wall time: 13.3 s\n"
     ]
    },
    {
     "data": {
      "text/plain": "(2138767, 4125460)"
     },
     "execution_count": 42,
     "metadata": {},
     "output_type": "execute_result"
    }
   ],
   "source": [
    "%%time\n",
    "model.train(corpus, total_examples=corpus_len, epochs=model.epochs)"
   ],
   "metadata": {
    "collapsed": false
   }
  },
  {
   "cell_type": "code",
   "execution_count": 43,
   "outputs": [
    {
     "data": {
      "text/plain": "[('λαμπρός', 0.677864670753479),\n ('παρθικοῦ', 0.6593357920646667),\n ('ἔνδοξος', 0.6470581889152527),\n ('αὐτοκράτωρ', 0.6440725922584534),\n ('ἁδριανοῦ', 0.6383450031280518),\n ('μέγας', 0.6350281834602356),\n ('ἐπιφανής', 0.6306490302085876),\n ('ἀρχιερεύς', 0.6289092898368835),\n ('σεβαστός', 0.6269497275352478),\n ('εὐχαριστέω', 0.6178341507911682)]"
     },
     "execution_count": 43,
     "metadata": {},
     "output_type": "execute_result"
    }
   ],
   "source": [
    "model.wv.most_similar(\"θεός\")"
   ],
   "metadata": {
    "collapsed": false
   }
  },
  {
   "cell_type": "code",
   "execution_count": 73,
   "outputs": [
    {
     "data": {
      "text/plain": "(3666485, 6064500)"
     },
     "execution_count": 73,
     "metadata": {},
     "output_type": "execute_result"
    }
   ],
   "source": [
    "model = FastText(vector_size=150, window=3, negative=5, ns_exponent=1, sg=0, epochs=5, workers=8, min_n=4)\n",
    "model.build_vocab_from_freq(word_freq=dict(freqs_tups[:N_types_covered]))\n",
    "model.train(corpus, total_examples=corpus_len, epochs=model.epochs)"
   ],
   "metadata": {
    "collapsed": false
   }
  },
  {
   "cell_type": "code",
   "execution_count": 76,
   "outputs": [
    {
     "data": {
      "text/plain": "[('τεός', 0.8119252324104309),\n ('ἐτεός', 0.7080932855606079),\n ('σωτήριος', 0.6826785802841187),\n ('σωτήρ', 0.6691166758537292),\n ('παρθένιος', 0.6619709730148315),\n ('εὐσεβείαι', 0.6525436043739319),\n ('θέα', 0.642316460609436),\n ('προσκυνέω', 0.6290892362594604),\n ('ἐλευθέριος', 0.628943920135498),\n ('ἐπιφανής', 0.6255434155464172)]"
     },
     "execution_count": 76,
     "metadata": {},
     "output_type": "execute_result"
    }
   ],
   "source": [
    "model.wv.most_similar(\"θεός\")"
   ],
   "metadata": {
    "collapsed": false
   }
  },
  {
   "cell_type": "markdown",
   "source": [
    "# Developing century excluding models"
   ],
   "metadata": {
    "collapsed": false
   }
  },
  {
   "cell_type": "code",
   "execution_count": 77,
   "outputs": [
    {
     "name": "stdout",
     "output_type": "stream",
     "text": [
      "-800 -701 63\n",
      "-700 -601 382\n",
      "-600 -501 2623\n",
      "-500 -401 6604\n",
      "-400 -301 9668\n",
      "-300 -201 14232\n",
      "-200 -101 13448\n",
      "-100 -1 8443\n",
      "1 100 9893\n",
      "101 200 15986\n",
      "201 300 11913\n",
      "301 400 4897\n",
      "401 500 2634\n",
      "501 600 2271\n",
      "601 700 421\n",
      "701 800 126\n"
     ]
    }
   ],
   "source": [
    "for cent in range(-8, 8):\n",
    "    if cent < 0:\n",
    "        cent_start, cent_end = cent * 100, cent * 100 + 99\n",
    "    else:\n",
    "        cent_start, cent_end = cent * 100 + 1, cent * 100 + 100\n",
    "    subset = GIST[GIST[\"random_dates\"].apply(lambda x: cent_start < x[0] < cent_end)]\n",
    "    print(cent_start, cent_end, (len(subset)))\n"
   ],
   "metadata": {
    "collapsed": false
   }
  },
  {
   "cell_type": "code",
   "execution_count": 78,
   "outputs": [],
   "source": [
    "cent_ids_samples = {}\n",
    "for cent in range(-8, 6):\n",
    "    if cent < 0:\n",
    "        cent_start, cent_end = cent * 100, cent * 100 + 99\n",
    "    else:\n",
    "        cent_start, cent_end = cent * 100 + 1, cent * 100 + 100\n",
    "    subset_ids = GIST[GIST[\"random_dates\"].apply(lambda x: cent_start < x[0] < cent_end)][\"PHI_ID\"]\n",
    "    subset_sample_ids = subset_ids.sample(1000, replace=True)\n",
    "    cent_ids_samples[cent] = subset_sample_ids"
   ],
   "metadata": {
    "collapsed": false
   }
  },
  {
   "cell_type": "code",
   "execution_count": 79,
   "outputs": [],
   "source": [
    "# full_model\n",
    "ids_list = []\n",
    "for cent in cent_ids_samples.keys():\n",
    "    ids_list.extend(list(cent_ids_samples[cent]))"
   ],
   "metadata": {
    "collapsed": false
   }
  },
  {
   "cell_type": "code",
   "execution_count": 80,
   "outputs": [
    {
     "data": {
      "text/plain": "14000"
     },
     "execution_count": 80,
     "metadata": {},
     "output_type": "execute_result"
    }
   ],
   "source": [
    "len(ids_list)"
   ],
   "metadata": {
    "collapsed": false
   }
  },
  {
   "cell_type": "code",
   "execution_count": 81,
   "outputs": [],
   "source": [
    "ids_list = [str(id) for id in ids_list]"
   ],
   "metadata": {
    "collapsed": false
   }
  },
  {
   "cell_type": "code",
   "execution_count": 82,
   "outputs": [],
   "source": [
    "corpus = NgramCorpus()"
   ],
   "metadata": {
    "collapsed": false
   }
  },
  {
   "cell_type": "code",
   "execution_count": 83,
   "outputs": [
    {
     "name": "stdout",
     "output_type": "stream",
     "text": [
      "CPU times: user 23 s, sys: 1.76 s, total: 24.7 s\n",
      "Wall time: 12.6 s\n"
     ]
    },
    {
     "data": {
      "text/plain": "(4446799, 7471415)"
     },
     "execution_count": 83,
     "metadata": {},
     "output_type": "execute_result"
    }
   ],
   "source": [
    "%%time\n",
    "model = FastText(vector_size=150, window=3, negative=5, ns_exponent=1, sg=0, epochs=5, workers=8, min_n=3)\n",
    "model.build_vocab_from_freq(word_freq=dict(freqs_tups[:N_types_covered]))\n",
    "model.train(corpus, total_examples=corpus_len, epochs=model.epochs)"
   ],
   "metadata": {
    "collapsed": false
   }
  },
  {
   "cell_type": "code",
   "execution_count": 84,
   "outputs": [
    {
     "data": {
      "text/plain": "[('ἐτεός', 0.8190017342567444),\n ('τεός', 0.8043358325958252),\n ('ἰατρός', 0.7662969827651978),\n ('κολωνός', 0.7587723135948181),\n ('θεαρός', 0.7583391666412354),\n ('σεμνός', 0.7576870322227478),\n ('ἁγνός', 0.7523812055587769),\n ('τρυφερός', 0.7308467030525208),\n ('γαμβρός', 0.7302103638648987),\n ('γεραιός', 0.7300339937210083),\n ('μανός', 0.7294237613677979),\n ('σεισμός', 0.729305624961853),\n ('λυγρός', 0.7234829068183899),\n ('ζοός', 0.7187726497650146),\n ('δημιουργός', 0.7179083824157715),\n ('θοός', 0.7178543210029602),\n ('ληνός', 0.7176640629768372),\n ('ἀγρός', 0.7155147790908813),\n ('ἱλαρός', 0.7150009274482727),\n ('λαός', 0.7125334143638611),\n ('ὀρός', 0.7107135653495789),\n ('θεσμός', 0.7100199460983276),\n ('θιός', 0.7094550132751465),\n ('γεωργός', 0.7089586853981018),\n ('ψυχρός', 0.7078760862350464),\n ('ἑός', 0.7073254585266113),\n ('ἰτός', 0.7069397568702698),\n ('δεινός', 0.7067515254020691),\n ('βροτός', 0.7054709196090698),\n ('γοργός', 0.7036975026130676),\n ('ζωός', 0.7019622325897217),\n ('βωμός', 0.7017140984535217),\n ('κλεινός', 0.7006551027297974),\n ('Σεβαστός', 0.6998863220214844),\n ('θνητός', 0.6996881365776062),\n ('τυρός', 0.6986925005912781),\n ('βοηθός', 0.6984599828720093),\n ('κενός', 0.6978862285614014),\n ('φιλητός', 0.6977435946464539),\n ('ἀγλαός', 0.6968128681182861),\n ('δεσμός', 0.6959262490272522),\n ('φαιδρός', 0.6948802471160889),\n ('κρουνός', 0.6933338046073914),\n ('πεζός', 0.6912274360656738),\n ('ὑπατικός', 0.6909554600715637),\n ('ἐχθρός', 0.6905914545059204),\n ('φρουρός', 0.6897566914558411),\n ('Λοκρός', 0.68746018409729),\n ('σεβαστός', 0.6858641505241394),\n ('ἀγός', 0.6838741302490234),\n ('υἱωνός', 0.6837036609649658),\n ('Παρθικός', 0.6837010383605957),\n ('λαμπρός', 0.6815903782844543),\n ('καινός', 0.6812652945518494),\n ('μαστός', 0.6781455874443054),\n ('σηκός', 0.677165687084198),\n ('Σιληνός', 0.6765597462654114),\n ('ἁμός', 0.6765463948249817),\n ('εὐπάτωρ', 0.6758021712303162),\n ('κλυτός', 0.6753172874450684),\n ('νεκρός', 0.6735017895698547),\n ('κριός', 0.6732715368270874),\n ('ποθεινός', 0.6725687384605408),\n ('φανός', 0.6720560789108276),\n ('πιστός', 0.6713159680366516),\n ('ἀνεκτός', 0.6708787679672241),\n ('ξανθός', 0.6704007983207703),\n ('ναός', 0.6696914434432983),\n ('οὐρανός', 0.6687613129615784),\n ('κορμός', 0.6680054068565369),\n ('ἰός', 0.6667771935462952),\n ('μουσικός', 0.6663005948066711),\n ('παιδικός', 0.6662065386772156),\n ('Μηδικός', 0.6659235954284668),\n ('ἱστός', 0.6658729314804077),\n ('ξυστός', 0.6655735373497009),\n ('τερπνός', 0.6654266119003296),\n ('θησαυρός', 0.6651978492736816),\n ('λοχαγός', 0.6649007797241211),\n ('κυριακός', 0.6647322177886963),\n ('πυρός', 0.6619971990585327),\n ('κακός', 0.661868691444397),\n ('λιβανωτός', 0.6613757014274597),\n ('ξεστός', 0.6595128774642944),\n ('ἰσχυρός', 0.6594095230102539),\n ('ἀστός', 0.6593593955039978),\n ('σεβαστοῖς', 0.6589933037757874),\n ('πλατός', 0.6569702625274658),\n ('χριστός', 0.6563768982887268),\n ('στυγερός', 0.6558355689048767),\n ('πικρός', 0.6554489135742188),\n ('δοκός', 0.6541286110877991),\n ('βασιλικός', 0.6534923315048218),\n ('οὐδός', 0.6530147194862366),\n ('ἱκανός', 0.652947723865509),\n ('θε', 0.6528883576393127),\n ('ὁδός', 0.6524357199668884),\n ('χρησμός', 0.6517471075057983),\n ('σιμός', 0.6516885757446289),\n ('κωμῳδός', 0.6516304612159729)]"
     },
     "execution_count": 84,
     "metadata": {},
     "output_type": "execute_result"
    }
   ],
   "source": [
    "model.wv.most_similar(\"θεός\", topn=100)"
   ],
   "metadata": {
    "collapsed": false
   }
  },
  {
   "cell_type": "markdown",
   "source": [],
   "metadata": {
    "collapsed": false
   }
  },
  {
   "cell_type": "code",
   "execution_count": 85,
   "outputs": [],
   "source": [
    "model.wv.save(\"../data/large_files/vectors_fasttext/model_full.wv\")"
   ],
   "metadata": {
    "collapsed": false
   }
  },
  {
   "cell_type": "code",
   "execution_count": 87,
   "outputs": [
    {
     "name": "stdout",
     "output_type": "stream",
     "text": [
      "going to train model excluding -8 century\n",
      "going to train model excluding -7 century\n",
      "going to train model excluding -6 century\n",
      "going to train model excluding -5 century\n",
      "going to train model excluding -4 century\n",
      "going to train model excluding -3 century\n",
      "going to train model excluding -2 century\n",
      "going to train model excluding -1 century\n",
      "going to train model excluding 0 century\n",
      "going to train model excluding 1 century\n",
      "going to train model excluding 2 century\n",
      "going to train model excluding 3 century\n",
      "going to train model excluding 4 century\n",
      "going to train model excluding 5 century\n"
     ]
    }
   ],
   "source": [
    "for cent_to_exclude in cent_ids_samples.keys():\n",
    "    ids_list = []\n",
    "    for key in cent_ids_samples.keys():\n",
    "        if key != cent_to_exclude:\n",
    "            ids_list.extend(list(cent_ids_samples[key]))\n",
    "    ids_list = [str(id) for id in ids_list]\n",
    "    model = FastText(vector_size=150, window=3, negative=5, ns_exponent=1, sg=0, epochs=5, workers=8, min_n=3)\n",
    "    model.build_vocab_from_freq(word_freq=dict(freqs_tups[:N_types_covered]))\n",
    "    print(\"going to train model excluding {} century\".format(str(cent_to_exclude)))\n",
    "    model.train(corpus, total_examples=corpus_len, epochs=model.epochs)\n",
    "    model.wv.save(\"../data/large_files/vectors_fasttext/model_without_{}.wv\".format(str(cent_to_exclude)))"
   ],
   "metadata": {
    "collapsed": false
   }
  },
  {
   "cell_type": "code",
   "execution_count": null,
   "outputs": [],
   "source": [],
   "metadata": {
    "collapsed": false
   }
  },
  {
   "cell_type": "code",
   "execution_count": null,
   "outputs": [],
   "source": [],
   "metadata": {
    "collapsed": false
   }
  }
 ],
 "metadata": {
  "kernelspec": {
   "name": "epimr_venv",
   "language": "python",
   "display_name": "epimr_venv"
  },
  "language_info": {
   "codemirror_mode": {
    "name": "ipython",
    "version": 2
   },
   "file_extension": ".py",
   "mimetype": "text/x-python",
   "name": "python",
   "nbconvert_exporter": "python",
   "pygments_lexer": "ipython2",
   "version": "2.7.6"
  }
 },
 "nbformat": 4,
 "nbformat_minor": 0
}
