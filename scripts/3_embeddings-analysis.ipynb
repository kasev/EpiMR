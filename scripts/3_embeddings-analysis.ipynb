{
 "cells": [
  {
   "cell_type": "code",
   "execution_count": null,
   "outputs": [],
   "source": [],
   "metadata": {
    "collapsed": false,
    "pycharm": {
     "name": "#%%\n"
    }
   }
  },
  {
   "cell_type": "markdown",
   "source": [
    "ἀγαθός (good), ἀλήθεια (truth), ἀληθής (unconcealed, true), ἀρετή (virtue, moral excellence, perfection), δίκαιος (just, righteous, impartial), δίκη (justice, judicial hearing, punishment)\n",
    "\n",
    "βία (force, violence), δεινός (fearful, terrible, dread, dire), θυμός (an outburst of passion, wrath), μάχη (strife, contention, quarrel), πόλεμος (a war, battle, strife), χαλεπός (hard, harsh, ﬁerce"
   ],
   "metadata": {
    "collapsed": false,
    "pycharm": {
     "name": "#%% md\n"
    }
   }
  },
  {
   "cell_type": "code",
   "execution_count": null,
   "metadata": {
    "collapsed": true,
    "pycharm": {
     "name": "#%%\n"
    }
   },
   "outputs": [],
   "source": [
    "religion = [\"θεός\"]\n",
    "\n",
    "morality = [\"ἀγαθός\", \"ἀρετή\", \"ἀλήθεια\", \"ἀληθής\", \"δίκη\", \"δίκαιος\", \"δικαιοσύνη\"]\n",
    "\n",
    "violence = [\"βία\", \"δεινός\", \"θυμός\", \"μάχη\", \"πόλεμος\", \"χαλεπός\"]"
   ]
  }
 ],
 "metadata": {
  "kernelspec": {
   "display_name": "Python 3",
   "language": "python",
   "name": "python3"
  },
  "language_info": {
   "codemirror_mode": {
    "name": "ipython",
    "version": 2
   },
   "file_extension": ".py",
   "mimetype": "text/x-python",
   "name": "python",
   "nbconvert_exporter": "python",
   "pygments_lexer": "ipython2",
   "version": "2.7.6"
  }
 },
 "nbformat": 4,
 "nbformat_minor": 0
}