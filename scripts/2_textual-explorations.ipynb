{
 "cells": [
  {
   "cell_type": "code",
   "execution_count": 77,
   "metadata": {
    "collapsed": true,
    "pycharm": {
     "name": "#%%\n"
    }
   },
   "outputs": [],
   "source": [
    "import pandas as pd\n",
    "import geopandas as gpd\n",
    "import re\n",
    "import nltk\n",
    "from csv import reader"
   ]
  },
  {
   "cell_type": "code",
   "execution_count": 2,
   "outputs": [],
   "source": [
    "GIST = gpd.read_parquet(\"../data/large_files/GIST_geocontexts.parquet\")"
   ],
   "metadata": {
    "collapsed": false,
    "pycharm": {
     "name": "#%%\n"
    }
   }
  },
  {
   "cell_type": "code",
   "execution_count": 11,
   "outputs": [
    {
     "data": {
      "text/plain": "2336432"
     },
     "execution_count": 11,
     "metadata": {},
     "output_type": "execute_result"
    }
   ],
   "source": [
    "GIST_lemmata_merged = [[l for l in inscr_lem[\"data\"]] for inscr_lem in GIST[\"lemmata\"].tolist()]\n",
    "GIST_lemmata_merged = [l for i in GIST_lemmata_merged for l in i]\n",
    "len(GIST_lemmata_merged)"
   ],
   "metadata": {
    "collapsed": false,
    "pycharm": {
     "name": "#%%\n"
    }
   }
  },
  {
   "cell_type": "code",
   "execution_count": 18,
   "outputs": [
    {
     "data": {
      "text/plain": "[('δῆμος', 22765),\n ('θεός', 18588),\n ('πόλις', 17330),\n ('ἄλλος', 13391),\n ('ἔτος', 13196),\n ('βουλή', 11093),\n ('χαίρω', 10126),\n ('υἱός', 9781),\n ('εἰμί', 8696),\n ('αὐτός', 8580),\n ('ἔχω', 8534),\n ('δίδωμι', 8222),\n ('ποιέω', 8091),\n ('οὗτος', 7890),\n ('δοκέω', 7760),\n ('μείς', 7724),\n ('πᾶς', 7696),\n ('ἀγαθός', 7680),\n ('ἀνήρ', 7435),\n ('γυνή', 7344),\n ('γίγνομαι', 7147),\n ('ἄρχω', 7028),\n ('χάρις', 6845),\n ('Ἀπόλλων', 6468),\n ('Ζεύς', 6073),\n ('ἀνατίθημι', 6008),\n ('ἱερεύς', 5849),\n ('δραχμή', 5779),\n ('ἱερόν', 5403),\n ('et', 5274),\n ('σεβαστός', 5134),\n ('βασιλεύς', 5118),\n ('ἴδιος', 5027),\n ('Ἀπολλώνιος', 5003),\n ('Διονύσιος', 4941),\n ('μέγας', 4934),\n ('αὐτοκράτωρ', 4663),\n ('τὶς', 4543),\n ('ἱερός', 4491),\n ('Καῖσαρ', 4422),\n ('πατήρ', 4393),\n ('ψήφισμα', 4384),\n ('μνήμη', 4360),\n ('νόμος', 4291),\n ('μήτηρ', 4270),\n ('εὐεργέτης', 4261),\n ('θυγάτηρ', 4133),\n ('τιμή', 4116),\n ('ἄρχων', 4067),\n ('λέγω', 4029),\n ('τόπος', 3771),\n ('τίθημι', 3663),\n ('χρηστός', 3652),\n ('τέκνον', 3530),\n ('παῖς', 3508),\n ('στήλη', 3499),\n ('ἀρετή', 3465),\n ('πολύς', 3413),\n ('Ἀθηναῖος', 3396),\n ('χρύσεος', 3391),\n ('κύριος', 3350),\n ('στέφανος', 3331),\n ('πρῶτος', 3302),\n ('ἀποδίδωμι', 3268),\n ('ὁλκή', 3261),\n ('ἀναγράφω', 3208),\n ('κοινός', 3203),\n ('ταμίας', 3184),\n ('ζῶ', 3178),\n ('φίλος', 3170),\n ('ἀργύριον', 3166),\n ('Μᾶρκος', 3123),\n ('δεῖνα', 3121),\n ('ἕκαστος', 3101),\n ('φιάλη', 3089),\n ('γῆ', 3088),\n ('γραμματεύς', 3072),\n ('εὔνοια', 2964),\n ('ἀγών', 2952),\n ('Δελφοί', 2943),\n ('τύχη', 2924),\n ('στεφανόω', 2909),\n ('πατρίς', 2854),\n ('τυγχάνω', 2849),\n ('ἕτερος', 2756),\n ('ἔκγονος', 2753),\n ('μνᾶ', 2728),\n ('χρόνος', 2638),\n ('καλός', 2638),\n ('ὄνομα', 2637),\n ('γάιος', 2586),\n ('ἐπαινέω', 2567),\n ('ὠνή', 2522),\n ('ἵστημι', 2501),\n ('Ἡρακλέης', 2499),\n ('πολίτης', 2497),\n ('ὑπάρχω', 2497),\n ('ἰός', 2464),\n ('ἐλεύθερος', 2429),\n ('βούλομαι', 2412)]"
     },
     "execution_count": 18,
     "metadata": {},
     "output_type": "execute_result"
    }
   ],
   "source": [
    "freqs_tups = nltk.FreqDist(GIST_lemmata_merged).most_common()\n",
    "freqs_tups[:100]"
   ],
   "metadata": {
    "collapsed": false,
    "pycharm": {
     "name": "#%%\n"
    }
   }
  },
  {
   "cell_type": "code",
   "execution_count": 13,
   "outputs": [
    {
     "data": {
      "text/plain": "         lemma  count\n0         δίκη   1658\n1      δίκαιος   1200\n2     δικαστής    963\n3   δικαιοσύνη    537\n4  δικαστήριον    324",
      "text/html": "<div>\n<style scoped>\n    .dataframe tbody tr th:only-of-type {\n        vertical-align: middle;\n    }\n\n    .dataframe tbody tr th {\n        vertical-align: top;\n    }\n\n    .dataframe thead th {\n        text-align: right;\n    }\n</style>\n<table border=\"1\" class=\"dataframe\">\n  <thead>\n    <tr style=\"text-align: right;\">\n      <th></th>\n      <th>lemma</th>\n      <th>count</th>\n    </tr>\n  </thead>\n  <tbody>\n    <tr>\n      <th>0</th>\n      <td>δίκη</td>\n      <td>1658</td>\n    </tr>\n    <tr>\n      <th>1</th>\n      <td>δίκαιος</td>\n      <td>1200</td>\n    </tr>\n    <tr>\n      <th>2</th>\n      <td>δικαστής</td>\n      <td>963</td>\n    </tr>\n    <tr>\n      <th>3</th>\n      <td>δικαιοσύνη</td>\n      <td>537</td>\n    </tr>\n    <tr>\n      <th>4</th>\n      <td>δικαστήριον</td>\n      <td>324</td>\n    </tr>\n  </tbody>\n</table>\n</div>"
     },
     "execution_count": 13,
     "metadata": {},
     "output_type": "execute_result"
    }
   ],
   "source": [
    "match_pattern = \"(κατα|ὑπό|ἐκ|ἀ|ἄ|ἀντί|^)δ[ι|ί]κ(α|ά|ο|ό|ί|έ|η)(.+)?\"\n",
    "dik_words = [word for word in GIST_lemmata_merged if re.search(match_pattern, word)]\n",
    "dik_words_df = pd.DataFrame(nltk.FreqDist(dik_words).most_common(), columns=[\"lemma\", \"count\"])\n",
    "dik_words_df.head(5)"
   ],
   "metadata": {
    "collapsed": false,
    "pycharm": {
     "name": "#%%\n"
    }
   }
  },
  {
   "cell_type": "code",
   "execution_count": 15,
   "outputs": [
    {
     "data": {
      "text/plain": "          lemma  count\n0          δίκη   1658\n1       δίκαιος   1200\n2      δικαστής    963\n3    δικαιοσύνη    537\n4   δικαστήριον    324\n..          ...    ...\n95  δικαζομένωι      4\n96   δικαιαγόρα      4\n97   δικαιοσύνα      4\n98      δικάσηι      4\n99   ἀδικοῦντος      4\n\n[100 rows x 2 columns]",
      "text/html": "<div>\n<style scoped>\n    .dataframe tbody tr th:only-of-type {\n        vertical-align: middle;\n    }\n\n    .dataframe tbody tr th {\n        vertical-align: top;\n    }\n\n    .dataframe thead th {\n        text-align: right;\n    }\n</style>\n<table border=\"1\" class=\"dataframe\">\n  <thead>\n    <tr style=\"text-align: right;\">\n      <th></th>\n      <th>lemma</th>\n      <th>count</th>\n    </tr>\n  </thead>\n  <tbody>\n    <tr>\n      <th>0</th>\n      <td>δίκη</td>\n      <td>1658</td>\n    </tr>\n    <tr>\n      <th>1</th>\n      <td>δίκαιος</td>\n      <td>1200</td>\n    </tr>\n    <tr>\n      <th>2</th>\n      <td>δικαστής</td>\n      <td>963</td>\n    </tr>\n    <tr>\n      <th>3</th>\n      <td>δικαιοσύνη</td>\n      <td>537</td>\n    </tr>\n    <tr>\n      <th>4</th>\n      <td>δικαστήριον</td>\n      <td>324</td>\n    </tr>\n    <tr>\n      <th>...</th>\n      <td>...</td>\n      <td>...</td>\n    </tr>\n    <tr>\n      <th>95</th>\n      <td>δικαζομένωι</td>\n      <td>4</td>\n    </tr>\n    <tr>\n      <th>96</th>\n      <td>δικαιαγόρα</td>\n      <td>4</td>\n    </tr>\n    <tr>\n      <th>97</th>\n      <td>δικαιοσύνα</td>\n      <td>4</td>\n    </tr>\n    <tr>\n      <th>98</th>\n      <td>δικάσηι</td>\n      <td>4</td>\n    </tr>\n    <tr>\n      <th>99</th>\n      <td>ἀδικοῦντος</td>\n      <td>4</td>\n    </tr>\n  </tbody>\n</table>\n<p>100 rows × 2 columns</p>\n</div>"
     },
     "execution_count": 15,
     "metadata": {},
     "output_type": "execute_result"
    }
   ],
   "source": [
    "dik_words_df[:100]"
   ],
   "metadata": {
    "collapsed": false,
    "pycharm": {
     "name": "#%%\n"
    }
   }
  },
  {
   "cell_type": "code",
   "execution_count": 43,
   "outputs": [],
   "source": [
    "def get_ngrams(lemmata_data):\n",
    "    lemmata_list = lemmata_data[\"data\"]\n",
    "    ngrams = []\n",
    "    try:\n",
    "        bigrams = list(nltk.ngrams(lemmata_list, 2))\n",
    "        trigrams = list(nltk.ngrams(lemmata_list, 3, pad_right=True, pad_left=True))\n",
    "        fivegrams = list(nltk.ngrams(lemmata_list, 5, pad_right=True, pad_left=True))\n",
    "        ngrams_merged = bigrams + trigrams + fivegrams\n",
    "        ngrams_merged = [[i for i in ngram if i is not None] for ngram in ngrams_merged]\n",
    "        ngrams_merged = [ngram for ngram in ngrams_merged if (len(ngram) > 1)]\n",
    "    except:\n",
    "        ngrams_merged = [[]]\n",
    "    return ngrams_merged\n"
   ],
   "metadata": {
    "collapsed": false,
    "pycharm": {
     "name": "#%%\n"
    }
   }
  },
  {
   "cell_type": "code",
   "execution_count": 44,
   "outputs": [
    {
     "data": {
      "text/plain": "[['word1', 'word2'],\n ['word2', 'word3'],\n ['word3', 'word4'],\n ['word1', 'word2'],\n ['word1', 'word2', 'word3'],\n ['word2', 'word3', 'word4'],\n ['word3', 'word4'],\n ['word1', 'word2'],\n ['word1', 'word2', 'word3'],\n ['word1', 'word2', 'word3', 'word4'],\n ['word1', 'word2', 'word3', 'word4'],\n ['word2', 'word3', 'word4'],\n ['word3', 'word4']]"
     },
     "execution_count": 44,
     "metadata": {},
     "output_type": "execute_result"
    }
   ],
   "source": [
    "get_ngrams({\"data\" : [\"word1\", \"word2\", \"word3\", \"word4\"]})"
   ],
   "metadata": {
    "collapsed": false,
    "pycharm": {
     "name": "#%%\n"
    }
   }
  },
  {
   "cell_type": "code",
   "execution_count": 48,
   "outputs": [
    {
     "name": "stdout",
     "output_type": "stream",
     "text": [
      "CPU times: user 6.35 s, sys: 176 ms, total: 6.53 s\n",
      "Wall time: 6.82 s\n"
     ]
    }
   ],
   "source": [
    "%%time\n",
    "GIST[\"ngrams\"] = GIST[\"lemmata\"].apply(get_ngrams)"
   ],
   "metadata": {
    "collapsed": false,
    "pycharm": {
     "name": "#%%\n"
    }
   }
  },
  {
   "cell_type": "code",
   "execution_count": 49,
   "outputs": [
    {
     "data": {
      "text/plain": "   PHI_ID  reference                                           metadata  \\\n0       1   IG I³\\n1  Att. — Ath.: Akr. — stoich. 35 — c. 510-500 a....   \n1       4   IG I³\\n4                       Att. — stoich. 38 — 485/4 a.   \n2       5   IG I³\\n5                                   Att. — c. 500 a.   \n3       6   IG I³\\n6                 Att. — stoich. 23/11 — ante 460 a.   \n4      11  IG I³\\n11              Att. — stoich. 48 — ante med. s. V a.   \n\n   lines                                           text_raw  \\\n0   12.0  ἔδοχσεν το͂ι δέμοι· τ̣[ὸς ἐ Σ]αλαμ̣[ῖνι κλερόχ...   \n1   56.0  [․․․․․․․․․․․․․․․․․․38․․․․․․․․․․․․․․․․․․]\\n[․․․...   \n2    6.0  [ἔδοχσε]ν [⋮ τε͂ι βολε͂ι] ⋮ καὶ [τ]ο͂ι δέμοι ⋮...   \n3  160.0  — — — — — — — — — — — — —\\n[․․․․․․15․․․․․․․] δ...   \n4   22.0  [χσυμμαχία καὶ ℎόρ]κ̣ο̣[ς] Ἀ̣[θ]ε̣ν̣α̣[ίον κα]...   \n\n                                           text_iphi  \\\n0  εδοχσεν τοι δεμοι τ[ος ε σ]αλαμ[ινι κλεροχ]ος ...   \n1  [--------------------------------------] [----...   \n2  [εδοχσε]ν [ τει βολει] και [τ]οι δεμοι οτε παρ...   \n3  ------------- [---------------] δραχμεισ[ι ---...   \n4  [χσυμμαχια και ορ]κο[ς] α[θ]ενα[ιον κα]ι εγεστ...   \n\n                             clean_text_conservative  \\\n0  ἔδοχσεν το͂ι δέμοι ταλαμος οἰκε͂ν ἐᾶ Σαλαμῖνι ...   \n1  δέ τις αν ἒ φρορὰν μ ντέκοντα δχμὰς τ ας ℎες π...   \n2  ν καὶ ο͂ι δέμοι ℎότε Παραιβάτες λεια θν τὸς ℎι...   \n3  δραχμε͂ιστες τὸς ιο μενος δεμο το͂ν πόλεο οκε͂...   \n4  κο Ἀεναὶ Ἐγεσταί ο͂ι ἐπρυτάνευε οΙ ον ἐ͂ρχε Ἀ...   \n\n                        clean_text_interpretive_word  \\\n0  ἔδοχσεν το͂ι δέμοι τὸς ἐ Σαλαμῖνι κλερόχος οἰκ...   \n1  ἐὰν δέ τις αν ἒ φρορὰν μὲ πεντέκοντα δραχμὰς τ...   \n2  ἔδοχσεν τε͂ι βολε͂ι καὶ το͂ι δέμοι ℎότε Παραιβ...   \n3  δραχμε͂ισι τες τὸς ιο μενος δεμο το͂ν πόλεον δ...   \n4  χσυμμαχία καὶ ℎόρκος Ἀθεναίον καὶ Ἐγεσταίον ἔδ...   \n\n                                             lemmata           raw_date  ...  \\\n0  {'data': ['ἔδοχσεν', 'δέμοι', 'Σαλαμίς', 'κλερ...     c. 510-500 a.   ...   \n1  {'data': ['τὶς', 'φρορὰν', 'πεντέκοντα', 'δραχ...           485/4 a.  ...   \n2  {'data': ['ἔδοχσεν', 'τει', 'βολει', 'δέμοι', ...          c. 500 a.  ...   \n3  {'data': ['δραχμεισι', 'τες', 'μένος', 'δεμο',...        ante 460 a.  ...   \n4  {'data': ['χσυμμαχία', 'ὅρκος', 'ἀθεναίον', 'ἐ...  ante med. s. V a.  ...   \n\n   TMgeo_name                   geometry         name           polis_geo  \\\n0     Athenai  POINT (23.72399 37.97275)  361-Athenai  [23.7278, 37.9778]   \n1     Athenai  POINT (23.72399 37.97275)  361-Athenai  [23.7278, 37.9778]   \n2     Eleusis  POINT (23.54150 38.04414)  362-Eleusis  [23.5423, 38.0394]   \n3     Eleusis  POINT (23.54150 38.04414)  362-Eleusis  [23.5423, 38.0394]   \n4     Athenai  POINT (23.72399 37.97275)  361-Athenai  [23.7278, 37.9778]   \n\n   polis_dist polis? duration  \\\n0      653.43   True     13.0   \n1      653.43   True      2.0   \n2      530.31   True     11.0   \n3      530.31   True      NaN   \n4      653.43   True      NaN   \n\n                                        random_dates greece?  \\\n0  [-510, -504, -510, -507, -506, -500, -508, -50...    True   \n1  [-485, -485, -485, -484, -485, -484, -485, -48...    True   \n2  [-498, -502, -504, -503, -496, -504, -496, -49...    True   \n3  [-461, -461, -461, -461, -461, -461, -461, -46...    True   \n4  [-456, -456, -456, -456, -456, -456, -456, -45...    True   \n\n                                              ngrams  \n0  [[ἔδοχσεν, δέμοι], [δέμοι, Σαλαμίς], [Σαλαμίς,...  \n1  [[τὶς, φρορὰν], [φρορὰν, πεντέκοντα], [πεντέκο...  \n2  [[ἔδοχσεν, τει], [τει, βολει], [βολει, δέμοι],...  \n3  [[δραχμεισι, τες], [τες, μένος], [μένος, δεμο]...  \n4  [[χσυμμαχία, ὅρκος], [ὅρκος, ἀθεναίον], [ἀθενα...  \n\n[5 rows x 37 columns]",
      "text/html": "<div>\n<style scoped>\n    .dataframe tbody tr th:only-of-type {\n        vertical-align: middle;\n    }\n\n    .dataframe tbody tr th {\n        vertical-align: top;\n    }\n\n    .dataframe thead th {\n        text-align: right;\n    }\n</style>\n<table border=\"1\" class=\"dataframe\">\n  <thead>\n    <tr style=\"text-align: right;\">\n      <th></th>\n      <th>PHI_ID</th>\n      <th>reference</th>\n      <th>metadata</th>\n      <th>lines</th>\n      <th>text_raw</th>\n      <th>text_iphi</th>\n      <th>clean_text_conservative</th>\n      <th>clean_text_interpretive_word</th>\n      <th>lemmata</th>\n      <th>raw_date</th>\n      <th>...</th>\n      <th>TMgeo_name</th>\n      <th>geometry</th>\n      <th>name</th>\n      <th>polis_geo</th>\n      <th>polis_dist</th>\n      <th>polis?</th>\n      <th>duration</th>\n      <th>random_dates</th>\n      <th>greece?</th>\n      <th>ngrams</th>\n    </tr>\n  </thead>\n  <tbody>\n    <tr>\n      <th>0</th>\n      <td>1</td>\n      <td>IG I³\\n1</td>\n      <td>Att. — Ath.: Akr. — stoich. 35 — c. 510-500 a....</td>\n      <td>12.0</td>\n      <td>ἔδοχσεν το͂ι δέμοι· τ̣[ὸς ἐ Σ]αλαμ̣[ῖνι κλερόχ...</td>\n      <td>εδοχσεν τοι δεμοι τ[ος ε σ]αλαμ[ινι κλεροχ]ος ...</td>\n      <td>ἔδοχσεν το͂ι δέμοι ταλαμος οἰκε͂ν ἐᾶ Σαλαμῖνι ...</td>\n      <td>ἔδοχσεν το͂ι δέμοι τὸς ἐ Σαλαμῖνι κλερόχος οἰκ...</td>\n      <td>{'data': ['ἔδοχσεν', 'δέμοι', 'Σαλαμίς', 'κλερ...</td>\n      <td>c. 510-500 a.</td>\n      <td>...</td>\n      <td>Athenai</td>\n      <td>POINT (23.72399 37.97275)</td>\n      <td>361-Athenai</td>\n      <td>[23.7278, 37.9778]</td>\n      <td>653.43</td>\n      <td>True</td>\n      <td>13.0</td>\n      <td>[-510, -504, -510, -507, -506, -500, -508, -50...</td>\n      <td>True</td>\n      <td>[[ἔδοχσεν, δέμοι], [δέμοι, Σαλαμίς], [Σαλαμίς,...</td>\n    </tr>\n    <tr>\n      <th>1</th>\n      <td>4</td>\n      <td>IG I³\\n4</td>\n      <td>Att. — stoich. 38 — 485/4 a.</td>\n      <td>56.0</td>\n      <td>[․․․․․․․․․․․․․․․․․․38․․․․․․․․․․․․․․․․․․]\\n[․․․...</td>\n      <td>[--------------------------------------] [----...</td>\n      <td>δέ τις αν ἒ φρορὰν μ ντέκοντα δχμὰς τ ας ℎες π...</td>\n      <td>ἐὰν δέ τις αν ἒ φρορὰν μὲ πεντέκοντα δραχμὰς τ...</td>\n      <td>{'data': ['τὶς', 'φρορὰν', 'πεντέκοντα', 'δραχ...</td>\n      <td>485/4 a.</td>\n      <td>...</td>\n      <td>Athenai</td>\n      <td>POINT (23.72399 37.97275)</td>\n      <td>361-Athenai</td>\n      <td>[23.7278, 37.9778]</td>\n      <td>653.43</td>\n      <td>True</td>\n      <td>2.0</td>\n      <td>[-485, -485, -485, -484, -485, -484, -485, -48...</td>\n      <td>True</td>\n      <td>[[τὶς, φρορὰν], [φρορὰν, πεντέκοντα], [πεντέκο...</td>\n    </tr>\n    <tr>\n      <th>2</th>\n      <td>5</td>\n      <td>IG I³\\n5</td>\n      <td>Att. — c. 500 a.</td>\n      <td>6.0</td>\n      <td>[ἔδοχσε]ν [⋮ τε͂ι βολε͂ι] ⋮ καὶ [τ]ο͂ι δέμοι ⋮...</td>\n      <td>[εδοχσε]ν [ τει βολει] και [τ]οι δεμοι οτε παρ...</td>\n      <td>ν καὶ ο͂ι δέμοι ℎότε Παραιβάτες λεια θν τὸς ℎι...</td>\n      <td>ἔδοχσεν τε͂ι βολε͂ι καὶ το͂ι δέμοι ℎότε Παραιβ...</td>\n      <td>{'data': ['ἔδοχσεν', 'τει', 'βολει', 'δέμοι', ...</td>\n      <td>c. 500 a.</td>\n      <td>...</td>\n      <td>Eleusis</td>\n      <td>POINT (23.54150 38.04414)</td>\n      <td>362-Eleusis</td>\n      <td>[23.5423, 38.0394]</td>\n      <td>530.31</td>\n      <td>True</td>\n      <td>11.0</td>\n      <td>[-498, -502, -504, -503, -496, -504, -496, -49...</td>\n      <td>True</td>\n      <td>[[ἔδοχσεν, τει], [τει, βολει], [βολει, δέμοι],...</td>\n    </tr>\n    <tr>\n      <th>3</th>\n      <td>6</td>\n      <td>IG I³\\n6</td>\n      <td>Att. — stoich. 23/11 — ante 460 a.</td>\n      <td>160.0</td>\n      <td>— — — — — — — — — — — — —\\n[․․․․․․15․․․․․․․] δ...</td>\n      <td>------------- [---------------] δραχμεισ[ι ---...</td>\n      <td>δραχμε͂ιστες τὸς ιο μενος δεμο το͂ν πόλεο οκε͂...</td>\n      <td>δραχμε͂ισι τες τὸς ιο μενος δεμο το͂ν πόλεον δ...</td>\n      <td>{'data': ['δραχμεισι', 'τες', 'μένος', 'δεμο',...</td>\n      <td>ante 460 a.</td>\n      <td>...</td>\n      <td>Eleusis</td>\n      <td>POINT (23.54150 38.04414)</td>\n      <td>362-Eleusis</td>\n      <td>[23.5423, 38.0394]</td>\n      <td>530.31</td>\n      <td>True</td>\n      <td>NaN</td>\n      <td>[-461, -461, -461, -461, -461, -461, -461, -46...</td>\n      <td>True</td>\n      <td>[[δραχμεισι, τες], [τες, μένος], [μένος, δεμο]...</td>\n    </tr>\n    <tr>\n      <th>4</th>\n      <td>11</td>\n      <td>IG I³\\n11</td>\n      <td>Att. — stoich. 48 — ante med. s. V a.</td>\n      <td>22.0</td>\n      <td>[χσυμμαχία καὶ ℎόρ]κ̣ο̣[ς] Ἀ̣[θ]ε̣ν̣α̣[ίον κα]...</td>\n      <td>[χσυμμαχια και ορ]κο[ς] α[θ]ενα[ιον κα]ι εγεστ...</td>\n      <td>κο Ἀεναὶ Ἐγεσταί ο͂ι ἐπρυτάνευε οΙ ον ἐ͂ρχε Ἀ...</td>\n      <td>χσυμμαχία καὶ ℎόρκος Ἀθεναίον καὶ Ἐγεσταίον ἔδ...</td>\n      <td>{'data': ['χσυμμαχία', 'ὅρκος', 'ἀθεναίον', 'ἐ...</td>\n      <td>ante med. s. V a.</td>\n      <td>...</td>\n      <td>Athenai</td>\n      <td>POINT (23.72399 37.97275)</td>\n      <td>361-Athenai</td>\n      <td>[23.7278, 37.9778]</td>\n      <td>653.43</td>\n      <td>True</td>\n      <td>NaN</td>\n      <td>[-456, -456, -456, -456, -456, -456, -456, -45...</td>\n      <td>True</td>\n      <td>[[χσυμμαχία, ὅρκος], [ὅρκος, ἀθεναίον], [ἀθενα...</td>\n    </tr>\n  </tbody>\n</table>\n<p>5 rows × 37 columns</p>\n</div>"
     },
     "execution_count": 49,
     "metadata": {},
     "output_type": "execute_result"
    }
   ],
   "source": [
    "GIST.head(5)"
   ],
   "metadata": {
    "collapsed": false,
    "pycharm": {
     "name": "#%%\n"
    }
   }
  },
  {
   "cell_type": "code",
   "execution_count": 70,
   "outputs": [],
   "source": [],
   "metadata": {
    "collapsed": false,
    "pycharm": {
     "name": "#%%\n"
    }
   }
  },
  {
   "cell_type": "code",
   "execution_count": 132,
   "outputs": [
    {
     "name": "stdout",
     "output_type": "stream",
     "text": [
      "CPU times: user 18.7 s, sys: 444 ms, total: 19.1 s\n",
      "Wall time: 19.5 s\n"
     ]
    }
   ],
   "source": [
    "%%time\n",
    "f = open(\"../data/large_files/corpus_ngrams.csv\", \"w\", encoding=\"utf-8\")\n",
    "for n in range(len(GIST)):\n",
    "    id = str(GIST.iloc[n][\"PHI_ID\"])\n",
    "    try:\n",
    "        ngrams = [\" \".join(ngram) + \",{}\".format(id) for ngram in GIST.iloc[n][\"ngrams\"]]\n",
    "        f.writelines(\"\\n\".join(ngrams)+\"\\n\")\n",
    "    except:\n",
    "        print(id)"
   ],
   "metadata": {
    "collapsed": false,
    "pycharm": {
     "name": "#%%\n"
    }
   }
  },
  {
   "cell_type": "code",
   "execution_count": 116,
   "outputs": [],
   "source": [
    "ids_list = [\"1\",\"3\",\"5\",\"7\"]"
   ],
   "metadata": {
    "collapsed": false,
    "pycharm": {
     "name": "#%%\n"
    }
   }
  },
  {
   "cell_type": "code",
   "execution_count": 135,
   "outputs": [],
   "source": [
    "class CSVCorpus:\n",
    "    def __iter__(self):\n",
    "        with open(\"../data/large_files/corpus_ngrams.csv\", \"r\") as read_obj:\n",
    "            csv_reader = reader(read_obj)\n",
    "            for row in csv_reader:\n",
    "                try:\n",
    "                    if row[1] in ids_list:\n",
    "                        yield row[0]\n",
    "                except:\n",
    "                    pass"
   ],
   "metadata": {
    "collapsed": false,
    "pycharm": {
     "name": "#%%\n"
    }
   }
  },
  {
   "cell_type": "code",
   "execution_count": 136,
   "outputs": [
    {
     "data": {
      "text/plain": "106898"
     },
     "execution_count": 136,
     "metadata": {},
     "output_type": "execute_result"
    }
   ],
   "source": [
    "GIST = GIST[GIST[\"random_dates\"].notnull()]\n",
    "len(GIST)"
   ],
   "metadata": {
    "collapsed": false,
    "pycharm": {
     "name": "#%%\n"
    }
   }
  },
  {
   "cell_type": "code",
   "execution_count": 141,
   "outputs": [
    {
     "data": {
      "text/plain": "6604"
     },
     "execution_count": 141,
     "metadata": {},
     "output_type": "execute_result"
    }
   ],
   "source": [
    "ids_list = GIST[GIST[\"random_dates\"].apply(lambda x: -500 < x[0] < -401)][\"PHI_ID\"].astype(\"str\").tolist()\n",
    "len(ids_list)"
   ],
   "metadata": {
    "collapsed": false,
    "pycharm": {
     "name": "#%%\n"
    }
   }
  },
  {
   "cell_type": "code",
   "execution_count": 142,
   "outputs": [
    {
     "data": {
      "text/plain": "['4', '5', '6', '11', '14', '15', '16', '17', '22', '29']"
     },
     "execution_count": 142,
     "metadata": {},
     "output_type": "execute_result"
    }
   ],
   "source": [
    "ids_list[:10]"
   ],
   "metadata": {
    "collapsed": false,
    "pycharm": {
     "name": "#%%\n"
    }
   }
  },
  {
   "cell_type": "code",
   "execution_count": 143,
   "outputs": [],
   "source": [
    "corpus = CSVCorpus()"
   ],
   "metadata": {
    "collapsed": false,
    "pycharm": {
     "name": "#%%\n"
    }
   }
  },
  {
   "cell_type": "code",
   "execution_count": 144,
   "outputs": [
    {
     "data": {
      "text/plain": "133348"
     },
     "execution_count": 144,
     "metadata": {},
     "output_type": "execute_result"
    }
   ],
   "source": [
    "len([doc for doc in corpus])"
   ],
   "metadata": {
    "collapsed": false,
    "pycharm": {
     "name": "#%%\n"
    }
   }
  },
  {
   "cell_type": "code",
   "execution_count": null,
   "outputs": [],
   "source": [],
   "metadata": {
    "collapsed": false,
    "pycharm": {
     "name": "#%%\n"
    }
   }
  }
 ],
 "metadata": {
  "kernelspec": {
   "name": "epimr_venv",
   "language": "python",
   "display_name": "epimr_venv"
  },
  "language_info": {
   "codemirror_mode": {
    "name": "ipython",
    "version": 2
   },
   "file_extension": ".py",
   "mimetype": "text/x-python",
   "name": "python",
   "nbconvert_exporter": "python",
   "pygments_lexer": "ipython2",
   "version": "2.7.6"
  }
 },
 "nbformat": 4,
 "nbformat_minor": 0
}